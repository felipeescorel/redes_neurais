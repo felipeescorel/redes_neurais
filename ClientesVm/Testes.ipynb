{
  "nbformat": 4,
  "nbformat_minor": 0,
  "metadata": {
    "colab": {
      "name": "Untitled10.ipynb",
      "version": "0.3.2",
      "provenance": [],
      "include_colab_link": true
    },
    "kernelspec": {
      "name": "python3",
      "display_name": "Python 3"
    },
    "accelerator": "TPU"
  },
  "cells": [
    {
      "cell_type": "markdown",
      "metadata": {
        "id": "view-in-github",
        "colab_type": "text"
      },
      "source": [
        "<a href=\"https://colab.research.google.com/github/felipeescorel/redes_neurais/blob/master/ClientesVm/Testes.ipynb\" target=\"_parent\"><img src=\"https://colab.research.google.com/assets/colab-badge.svg\" alt=\"Open In Colab\"/></a>"
      ]
    },
    {
      "cell_type": "code",
      "metadata": {
        "id": "P97I6sNQ9y2h",
        "colab_type": "code",
        "colab": {
          "base_uri": "https://localhost:8080/",
          "height": 34
        },
        "outputId": "5de2229d-2b64-4020-b4d9-0122958e4e35"
      },
      "source": [
        "import pandas as pd\n",
        "from keras.models import Sequential\n",
        "from keras.layers import Dense, Activation"
      ],
      "execution_count": 48,
      "outputs": [
        {
          "output_type": "stream",
          "text": [
            "Using TensorFlow backend.\n"
          ],
          "name": "stderr"
        }
      ]
    },
    {
      "cell_type": "code",
      "metadata": {
        "id": "3M4sOH86B17S",
        "colab_type": "code",
        "colab": {
          "base_uri": "https://localhost:8080/",
          "height": 136
        },
        "outputId": "8bf1b15c-84f6-4f60-819b-87df443e3989"
      },
      "source": [
        "!git clone https://github.com/felipeescorel/redes_neurais.git"
      ],
      "execution_count": 1,
      "outputs": [
        {
          "output_type": "stream",
          "text": [
            "Cloning into 'redes_neurais'...\n",
            "remote: Enumerating objects: 72, done.\u001b[K\n",
            "remote: Counting objects: 100% (72/72), done.\u001b[K\n",
            "remote: Compressing objects: 100% (67/67), done.\u001b[K\n",
            "remote: Total 176 (delta 23), reused 37 (delta 4), pack-reused 104\u001b[K\n",
            "Receiving objects: 100% (176/176), 34.78 MiB | 31.27 MiB/s, done.\n",
            "Resolving deltas: 100% (43/43), done.\n"
          ],
          "name": "stdout"
        }
      ]
    },
    {
      "cell_type": "code",
      "metadata": {
        "id": "tqaV1CXn-IV9",
        "colab_type": "code",
        "colab": {}
      },
      "source": [
        "data = pd.read_csv('redes_neurais/ClientesVM/dataset.csv')"
      ],
      "execution_count": 0,
      "outputs": []
    },
    {
      "cell_type": "code",
      "metadata": {
        "id": "frfjpk2v-S6k",
        "colab_type": "code",
        "colab": {}
      },
      "source": [
        "model = Sequential()\n",
        "model.add(Dense(32))\n",
        "model.add(Activation('relu'))"
      ],
      "execution_count": 0,
      "outputs": []
    },
    {
      "cell_type": "code",
      "metadata": {
        "id": "BY5i-pEALZko",
        "colab_type": "code",
        "colab": {}
      },
      "source": [
        "model.compile(optimizer='rmsprop',\n",
        "              loss='binary_crossentropy',\n",
        "              metrics=['accuracy'])"
      ],
      "execution_count": 0,
      "outputs": []
    },
    {
      "cell_type": "code",
      "metadata": {
        "id": "7Ikzp8y_GUyL",
        "colab_type": "code",
        "colab": {
          "base_uri": "https://localhost:8080/",
          "height": 1071
        },
        "outputId": "0c91adc4-e6c5-459a-f28e-f80fee8b33a3"
      },
      "source": [
        "#Create a new function:\n",
        "def normalize(x):\n",
        "  min = data['rendaMedia'].min()\n",
        "  max = data['rendaMedia'].max()\n",
        "  return (x - min)/(max -min)\n",
        "\n",
        "#Applying per column:\n",
        "data['rendaMedia'] = data['rendaMedia'].map(normalize) \n",
        "\n",
        "print(data['rendaMedia'])"
      ],
      "execution_count": 45,
      "outputs": [
        {
          "output_type": "stream",
          "text": [
            "0        0.065147\n",
            "1        0.162866\n",
            "2        0.195440\n",
            "3        0.163952\n",
            "4        0.161998\n",
            "5        0.147666\n",
            "6        0.162866\n",
            "7        0.167861\n",
            "8        0.130293\n",
            "9        0.184582\n",
            "10       0.152009\n",
            "11       0.130293\n",
            "12       0.162866\n",
            "13       0.162866\n",
            "14       0.162866\n",
            "15       0.162866\n",
            "16       0.076004\n",
            "17       0.141151\n",
            "18       0.141151\n",
            "19       0.046037\n",
            "20       0.123453\n",
            "21       0.162758\n",
            "22       0.162866\n",
            "23       0.152009\n",
            "24       0.141151\n",
            "25       0.162866\n",
            "26       0.184582\n",
            "27       0.104126\n",
            "28       0.148751\n",
            "29       0.130293\n",
            "           ...   \n",
            "14601    0.094571\n",
            "14602    0.238871\n",
            "14603    0.160803\n",
            "14604    0.166450\n",
            "14605    0.143322\n",
            "14606    0.151140\n",
            "14607    0.189359\n",
            "14608    0.158523\n",
            "14609    0.097720\n",
            "14610    0.151792\n",
            "14611    0.184582\n",
            "14612    0.162866\n",
            "14613    0.238871\n",
            "14614    0.162324\n",
            "14615    0.158958\n",
            "14616    0.199783\n",
            "14617    0.182953\n",
            "14618    0.184582\n",
            "14619    0.180239\n",
            "14620    0.162866\n",
            "14621    0.100000\n",
            "14622    0.483170\n",
            "14623    0.618893\n",
            "14624    0.184582\n",
            "14625    0.227687\n",
            "14626    0.096417\n",
            "14627    0.149946\n",
            "14628    0.510858\n",
            "14629    0.116612\n",
            "14630    0.171010\n",
            "Name: rendaMedia, Length: 14631, dtype: float64\n"
          ],
          "name": "stdout"
        }
      ]
    },
    {
      "cell_type": "code",
      "metadata": {
        "id": "wGKYF2Ug-Z5I",
        "colab_type": "code",
        "colab": {
          "base_uri": "https://localhost:8080/",
          "height": 1071
        },
        "outputId": "c2ba37ae-dfff-4c8e-9b13-d90f3db31a68"
      },
      "source": [
        "labels = data['id']\n",
        "print(labels)"
      ],
      "execution_count": 23,
      "outputs": [
        {
          "output_type": "stream",
          "text": [
            "0            1.0\n",
            "1            2.0\n",
            "2            3.0\n",
            "3            4.0\n",
            "4            5.0\n",
            "5            6.0\n",
            "6            7.0\n",
            "7            8.0\n",
            "8            9.0\n",
            "9           10.0\n",
            "10          11.0\n",
            "11          12.0\n",
            "12          13.0\n",
            "13          14.0\n",
            "14          15.0\n",
            "15          16.0\n",
            "16          17.0\n",
            "17          18.0\n",
            "18          19.0\n",
            "19          20.0\n",
            "20          21.0\n",
            "21          22.0\n",
            "22          23.0\n",
            "23          24.0\n",
            "24          25.0\n",
            "25          26.0\n",
            "26          27.0\n",
            "27          28.0\n",
            "28          29.0\n",
            "29          30.0\n",
            "          ...   \n",
            "14601    14730.0\n",
            "14602    14731.0\n",
            "14603    14732.0\n",
            "14604    14733.0\n",
            "14605    14734.0\n",
            "14606    14735.0\n",
            "14607    14736.0\n",
            "14608    14737.0\n",
            "14609    14738.0\n",
            "14610    14739.0\n",
            "14611    14740.0\n",
            "14612    14741.0\n",
            "14613    14742.0\n",
            "14614    14743.0\n",
            "14615    14744.0\n",
            "14616    14745.0\n",
            "14617    14746.0\n",
            "14618    14747.0\n",
            "14619    14748.0\n",
            "14620    14749.0\n",
            "14621    14750.0\n",
            "14622    14751.0\n",
            "14623    14752.0\n",
            "14624    14753.0\n",
            "14625    14754.0\n",
            "14626    14755.0\n",
            "14627    14756.0\n",
            "14628    14757.0\n",
            "14629    14758.0\n",
            "14630    14760.0\n",
            "Name: id, Length: 14631, dtype: float64\n"
          ],
          "name": "stdout"
        }
      ]
    },
    {
      "cell_type": "code",
      "metadata": {
        "id": "BsoBGYAFE9jN",
        "colab_type": "code",
        "colab": {
          "base_uri": "https://localhost:8080/",
          "height": 1363
        },
        "outputId": "6fb0c486-4474-40cf-959a-0cdf576e34ee"
      },
      "source": [
        "model.fit(labels,data, epochs = 10 , batch_size= 32)"
      ],
      "execution_count": 54,
      "outputs": [
        {
          "output_type": "error",
          "ename": "ValueError",
          "evalue": "ignored",
          "traceback": [
            "\u001b[0;31m---------------------------------------------------------------------------\u001b[0m",
            "\u001b[0;31mValueError\u001b[0m                                Traceback (most recent call last)",
            "\u001b[0;32m<ipython-input-54-646ed6285da8>\u001b[0m in \u001b[0;36m<module>\u001b[0;34m()\u001b[0m\n\u001b[0;32m----> 1\u001b[0;31m \u001b[0mmodel\u001b[0m\u001b[0;34m.\u001b[0m\u001b[0mfit\u001b[0m\u001b[0;34m(\u001b[0m\u001b[0mlabels\u001b[0m\u001b[0;34m,\u001b[0m\u001b[0mdata\u001b[0m\u001b[0;34m,\u001b[0m \u001b[0mepochs\u001b[0m \u001b[0;34m=\u001b[0m \u001b[0;36m10\u001b[0m \u001b[0;34m,\u001b[0m \u001b[0mbatch_size\u001b[0m\u001b[0;34m=\u001b[0m \u001b[0;36m32\u001b[0m\u001b[0;34m)\u001b[0m\u001b[0;34m\u001b[0m\u001b[0;34m\u001b[0m\u001b[0m\n\u001b[0m",
            "\u001b[0;32m/usr/local/lib/python3.6/dist-packages/keras/engine/training.py\u001b[0m in \u001b[0;36mfit\u001b[0;34m(self, x, y, batch_size, epochs, verbose, callbacks, validation_split, validation_data, shuffle, class_weight, sample_weight, initial_epoch, steps_per_epoch, validation_steps, **kwargs)\u001b[0m\n\u001b[1;32m    950\u001b[0m             \u001b[0msample_weight\u001b[0m\u001b[0;34m=\u001b[0m\u001b[0msample_weight\u001b[0m\u001b[0;34m,\u001b[0m\u001b[0;34m\u001b[0m\u001b[0;34m\u001b[0m\u001b[0m\n\u001b[1;32m    951\u001b[0m             \u001b[0mclass_weight\u001b[0m\u001b[0;34m=\u001b[0m\u001b[0mclass_weight\u001b[0m\u001b[0;34m,\u001b[0m\u001b[0;34m\u001b[0m\u001b[0;34m\u001b[0m\u001b[0m\n\u001b[0;32m--> 952\u001b[0;31m             batch_size=batch_size)\n\u001b[0m\u001b[1;32m    953\u001b[0m         \u001b[0;31m# Prepare validation data.\u001b[0m\u001b[0;34m\u001b[0m\u001b[0;34m\u001b[0m\u001b[0;34m\u001b[0m\u001b[0m\n\u001b[1;32m    954\u001b[0m         \u001b[0mdo_validation\u001b[0m \u001b[0;34m=\u001b[0m \u001b[0;32mFalse\u001b[0m\u001b[0;34m\u001b[0m\u001b[0;34m\u001b[0m\u001b[0m\n",
            "\u001b[0;32m/usr/local/lib/python3.6/dist-packages/keras/engine/training.py\u001b[0m in \u001b[0;36m_standardize_user_data\u001b[0;34m(self, x, y, sample_weight, class_weight, check_array_lengths, batch_size)\u001b[0m\n\u001b[1;32m    668\u001b[0m                                      \u001b[0;34m'either a single '\u001b[0m\u001b[0;34m\u001b[0m\u001b[0;34m\u001b[0m\u001b[0m\n\u001b[1;32m    669\u001b[0m                                      \u001b[0;34m'array or a list of arrays. '\u001b[0m\u001b[0;34m\u001b[0m\u001b[0;34m\u001b[0m\u001b[0m\n\u001b[0;32m--> 670\u001b[0;31m                                      'You passed: x=' + str(x))\n\u001b[0m\u001b[1;32m    671\u001b[0m                 \u001b[0mall_inputs\u001b[0m\u001b[0;34m.\u001b[0m\u001b[0mappend\u001b[0m\u001b[0;34m(\u001b[0m\u001b[0mx\u001b[0m\u001b[0;34m)\u001b[0m\u001b[0;34m\u001b[0m\u001b[0;34m\u001b[0m\u001b[0m\n\u001b[1;32m    672\u001b[0m \u001b[0;34m\u001b[0m\u001b[0m\n",
            "\u001b[0;31mValueError\u001b[0m: Please provide as model inputs either a single array or a list of arrays. You passed: x=0            1.0\n1            2.0\n2            3.0\n3            4.0\n4            5.0\n5            6.0\n6            7.0\n7            8.0\n8            9.0\n9           10.0\n10          11.0\n11          12.0\n12          13.0\n13          14.0\n14          15.0\n15          16.0\n16          17.0\n17          18.0\n18          19.0\n19          20.0\n20          21.0\n21          22.0\n22          23.0\n23          24.0\n24          25.0\n25          26.0\n26          27.0\n27          28.0\n28          29.0\n29          30.0\n          ...   \n14601    14730.0\n14602    14731.0\n14603    14732.0\n14604    14733.0\n14605    14734.0\n14606    14735.0\n14607    14736.0\n14608    14737.0\n14609    14738.0\n14610    14739.0\n14611    14740.0\n14612    14741.0\n14613    14742.0\n14614    14743.0\n14615    14744.0\n14616    14745.0\n14617    14746.0\n14618    14747.0\n14619    14748.0\n14620    14749.0\n14621    14750.0\n14622    14751.0\n14623    14752.0\n14624    14753.0\n14625    14754.0\n14626    14755.0\n14627    14756.0\n14628    14757.0\n14629    14758.0\n14630    14760.0\nName: id, Length: 14631, dtype: float64"
          ]
        }
      ]
    },
    {
      "cell_type": "code",
      "metadata": {
        "id": "ic7_4Y4oE1Rf",
        "colab_type": "code",
        "colab": {
          "base_uri": "https://localhost:8080/",
          "height": 88
        },
        "outputId": "8b22fe3c-831c-464f-fdc9-b886828d24a3"
      },
      "source": [
        "print(data[1:1])"
      ],
      "execution_count": 13,
      "outputs": [
        {
          "output_type": "stream",
          "text": [
            "Empty DataFrame\n",
            "Columns: [id, ugb_id, rendaTipo, estadoCivil, origem, escolaridade, tipoCliente, cidade_id, Idade, rendaMedia, Aprovado]\n",
            "Index: []\n"
          ],
          "name": "stdout"
        }
      ]
    },
    {
      "cell_type": "code",
      "metadata": {
        "id": "erqCwtmcE1a5",
        "colab_type": "code",
        "colab": {
          "base_uri": "https://localhost:8080/",
          "height": 88
        },
        "outputId": "a6aaf62b-dbaf-4aed-9c2d-451fbff8bc6b"
      },
      "source": [
        "print(data[2:1])"
      ],
      "execution_count": 14,
      "outputs": [
        {
          "output_type": "stream",
          "text": [
            "Empty DataFrame\n",
            "Columns: [id, ugb_id, rendaTipo, estadoCivil, origem, escolaridade, tipoCliente, cidade_id, Idade, rendaMedia, Aprovado]\n",
            "Index: []\n"
          ],
          "name": "stdout"
        }
      ]
    }
  ]
}
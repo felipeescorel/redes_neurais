{
  "nbformat": 4,
  "nbformat_minor": 0,
  "metadata": {
    "colab": {
      "name": "Testes12.ipynb",
      "version": "0.3.2",
      "provenance": [],
      "collapsed_sections": [],
      "include_colab_link": true
    },
    "kernelspec": {
      "name": "python3",
      "display_name": "Python 3"
    },
    "accelerator": "GPU"
  },
  "cells": [
    {
      "cell_type": "markdown",
      "metadata": {
        "id": "view-in-github",
        "colab_type": "text"
      },
      "source": [
        "<a href=\"https://colab.research.google.com/github/felipeescorel/redes_neurais/blob/master/ClientesVM/Testes12.ipynb\" target=\"_parent\"><img src=\"https://colab.research.google.com/assets/colab-badge.svg\" alt=\"Open In Colab\"/></a>"
      ]
    },
    {
      "cell_type": "code",
      "metadata": {
        "id": "iLXKTDkBGJn4",
        "colab_type": "code",
        "colab": {}
      },
      "source": [
        "from keras.models import Sequential\n",
        "from keras.utils import np_utils\n",
        "from keras import regularizers,optimizers\n",
        "from keras.layers.core import Dense, Activation, Dropout\n",
        "from keras.layers.normalization import BatchNormalization\n",
        "from keras.layers.advanced_activations import ThresholdedReLU\n",
        "from sklearn.model_selection import train_test_split\n",
        "import pandas as pd\n",
        "import numpy as np\n",
        "import matplotlib.pyplot as plt"
      ],
      "execution_count": 0,
      "outputs": []
    },
    {
      "cell_type": "code",
      "metadata": {
        "id": "LQ_OBOIEUuVt",
        "colab_type": "code",
        "colab": {
          "base_uri": "https://localhost:8080/",
          "height": 139
        },
        "outputId": "055f1f30-c9bf-48f5-e495-69a8b33e32de"
      },
      "source": [
        "!git clone https://github.com/felipeescorel/redes_neurais.git"
      ],
      "execution_count": 2,
      "outputs": [
        {
          "output_type": "stream",
          "text": [
            "Cloning into 'redes_neurais'...\n",
            "remote: Enumerating objects: 4, done.\u001b[K\n",
            "remote: Counting objects: 100% (4/4), done.\u001b[K\n",
            "remote: Compressing objects: 100% (4/4), done.\u001b[K\n",
            "remote: Total 198 (delta 0), reused 0 (delta 0), pack-reused 194\u001b[K\n",
            "Receiving objects: 100% (198/198), 34.87 MiB | 34.13 MiB/s, done.\n",
            "Resolving deltas: 100% (56/56), done.\n"
          ],
          "name": "stdout"
        }
      ]
    },
    {
      "cell_type": "code",
      "metadata": {
        "id": "BenU6lWBNZdq",
        "colab_type": "code",
        "colab": {}
      },
      "source": [
        "data =  pd.read_csv('redes_neurais/ClientesVM/datasetV6.csv')\n",
        "def normalize(x):\n",
        "  min = data['rendaMedia'].min()\n",
        "  max = data['rendaMedia'].max()\n",
        "  return (x - min)/(max -min)"
      ],
      "execution_count": 0,
      "outputs": []
    },
    {
      "cell_type": "code",
      "metadata": {
        "id": "AhbkjOejHrMC",
        "colab_type": "code",
        "colab": {}
      },
      "source": [
        "# Pré processamento\n",
        "\n",
        "data['rendaMedia'] = data['rendaMedia'].map(normalize) \n",
        "\n",
        "train, test = train_test_split(data, test_size=0.2)\n",
        "labels = train.ix[:,0]\n",
        "X_train = train.ix[:,1:-1]\n",
        "y_train = train.ix[:,'Aprovado']\n",
        "X_test = test.ix[:,1:-1]\n",
        "y_test = test.ix[:,'Aprovado']"
      ],
      "execution_count": 0,
      "outputs": []
    },
    {
      "cell_type": "code",
      "metadata": {
        "id": "xqHSZsNMVs4x",
        "colab_type": "code",
        "colab": {
          "base_uri": "https://localhost:8080/",
          "height": 34
        },
        "outputId": "44ebe14d-01bd-426d-bf38-579557b7e7d7"
      },
      "source": [
        "\n",
        "print(\"gustavo otario\")"
      ],
      "execution_count": 8,
      "outputs": [
        {
          "output_type": "stream",
          "text": [
            "gustavo otario\n"
          ],
          "name": "stdout"
        }
      ]
    },
    {
      "cell_type": "code",
      "metadata": {
        "id": "FpjdV4KFGheb",
        "colab_type": "code",
        "colab": {}
      },
      "source": [
        "input_dim = X_train.shape[1]\n",
        "nb_classes = y_train.shape[0]"
      ],
      "execution_count": 0,
      "outputs": []
    },
    {
      "cell_type": "code",
      "metadata": {
        "id": "2IY0YwW8HRwq",
        "colab_type": "code",
        "colab": {}
      },
      "source": [
        "model = Sequential()\n",
        "model.add(Dense(32, input_dim=input_dim,activation ='relu',kernel_initializer ='uniform'))\n",
        "model.add(Dense(512,activation='relu'))\n",
        "model.add(Dense(512,activation='relu'))\n",
        "model.add(Dense(1, activation='sigmoid'))\n",
        "model.compile(loss='binary_crossentropy', optimizer='adam',metrics=['accuracy'])"
      ],
      "execution_count": 0,
      "outputs": []
    },
    {
      "cell_type": "code",
      "metadata": {
        "id": "jZGuk09qHUXv",
        "colab_type": "code",
        "outputId": "478742da-5435-4af5-c5ca-54e47dcf5554",
        "colab": {
          "base_uri": "https://localhost:8080/",
          "height": 5262
        }
      },
      "source": [
        "print(\"Training...\")\n",
        "history = model.fit(X_train,y_train, epochs=150, batch_size=64, validation_split=0.3, verbose=2, shuffle = True)\n"
      ],
      "execution_count": 69,
      "outputs": [
        {
          "output_type": "stream",
          "text": [
            "Training...\n",
            "Train on 7839 samples, validate on 3361 samples\n",
            "Epoch 1/150\n",
            " - 2s - loss: 2.4775 - acc: 0.5619 - val_loss: 0.6777 - val_acc: 0.5388\n",
            "Epoch 2/150\n",
            " - 0s - loss: 0.7297 - acc: 0.5688 - val_loss: 0.6576 - val_acc: 0.6031\n",
            "Epoch 3/150\n",
            " - 0s - loss: 0.6663 - acc: 0.5908 - val_loss: 0.7013 - val_acc: 0.5350\n",
            "Epoch 4/150\n",
            " - 0s - loss: 0.6610 - acc: 0.5960 - val_loss: 0.6592 - val_acc: 0.5650\n",
            "Epoch 5/150\n",
            " - 0s - loss: 0.6572 - acc: 0.5948 - val_loss: 0.6830 - val_acc: 0.6111\n",
            "Epoch 6/150\n",
            " - 0s - loss: 0.6483 - acc: 0.6031 - val_loss: 0.6606 - val_acc: 0.6132\n",
            "Epoch 7/150\n",
            " - 0s - loss: 0.6425 - acc: 0.6062 - val_loss: 0.6500 - val_acc: 0.6111\n",
            "Epoch 8/150\n",
            " - 0s - loss: 0.6480 - acc: 0.6022 - val_loss: 0.6914 - val_acc: 0.4912\n",
            "Epoch 9/150\n",
            " - 0s - loss: 0.6474 - acc: 0.5938 - val_loss: 0.6433 - val_acc: 0.6186\n",
            "Epoch 10/150\n",
            " - 0s - loss: 0.6415 - acc: 0.6079 - val_loss: 0.6483 - val_acc: 0.6141\n",
            "Epoch 11/150\n",
            " - 0s - loss: 0.6410 - acc: 0.6090 - val_loss: 0.6477 - val_acc: 0.6120\n",
            "Epoch 12/150\n",
            " - 0s - loss: 0.6441 - acc: 0.6059 - val_loss: 0.6450 - val_acc: 0.6117\n",
            "Epoch 13/150\n",
            " - 0s - loss: 0.6438 - acc: 0.6045 - val_loss: 0.6493 - val_acc: 0.6132\n",
            "Epoch 14/150\n",
            " - 0s - loss: 0.6411 - acc: 0.6028 - val_loss: 0.6483 - val_acc: 0.5936\n",
            "Epoch 15/150\n",
            " - 0s - loss: 0.6375 - acc: 0.6059 - val_loss: 0.6440 - val_acc: 0.6165\n",
            "Epoch 16/150\n",
            " - 0s - loss: 0.6377 - acc: 0.6133 - val_loss: 0.6524 - val_acc: 0.5936\n",
            "Epoch 17/150\n",
            " - 0s - loss: 0.6392 - acc: 0.6102 - val_loss: 0.6497 - val_acc: 0.6099\n",
            "Epoch 18/150\n",
            " - 0s - loss: 0.6406 - acc: 0.6063 - val_loss: 0.6461 - val_acc: 0.6195\n",
            "Epoch 19/150\n",
            " - 0s - loss: 0.6389 - acc: 0.6081 - val_loss: 0.6486 - val_acc: 0.5912\n",
            "Epoch 20/150\n",
            " - 0s - loss: 0.6415 - acc: 0.6033 - val_loss: 0.6471 - val_acc: 0.6209\n",
            "Epoch 21/150\n",
            " - 0s - loss: 0.6370 - acc: 0.6135 - val_loss: 0.6544 - val_acc: 0.6040\n",
            "Epoch 22/150\n",
            " - 0s - loss: 0.6375 - acc: 0.6103 - val_loss: 0.6460 - val_acc: 0.6153\n",
            "Epoch 23/150\n",
            " - 0s - loss: 0.6377 - acc: 0.6141 - val_loss: 0.6438 - val_acc: 0.6224\n",
            "Epoch 24/150\n",
            " - 0s - loss: 0.6349 - acc: 0.6132 - val_loss: 0.6401 - val_acc: 0.6204\n",
            "Epoch 25/150\n",
            " - 0s - loss: 0.6538 - acc: 0.6029 - val_loss: 0.6474 - val_acc: 0.6150\n",
            "Epoch 26/150\n",
            " - 0s - loss: 0.6372 - acc: 0.6103 - val_loss: 0.6701 - val_acc: 0.6159\n",
            "Epoch 27/150\n",
            " - 0s - loss: 0.6393 - acc: 0.6146 - val_loss: 0.6421 - val_acc: 0.6153\n",
            "Epoch 28/150\n",
            " - 0s - loss: 0.6335 - acc: 0.6137 - val_loss: 0.6375 - val_acc: 0.6209\n",
            "Epoch 29/150\n",
            " - 0s - loss: 0.6327 - acc: 0.6184 - val_loss: 0.6404 - val_acc: 0.6123\n",
            "Epoch 30/150\n",
            " - 0s - loss: 0.6338 - acc: 0.6160 - val_loss: 0.6471 - val_acc: 0.6224\n",
            "Epoch 31/150\n",
            " - 0s - loss: 0.6329 - acc: 0.6207 - val_loss: 0.6391 - val_acc: 0.6111\n",
            "Epoch 32/150\n",
            " - 0s - loss: 0.6321 - acc: 0.6140 - val_loss: 0.6403 - val_acc: 0.6087\n",
            "Epoch 33/150\n",
            " - 0s - loss: 0.6499 - acc: 0.6196 - val_loss: 0.6493 - val_acc: 0.6082\n",
            "Epoch 34/150\n",
            " - 0s - loss: 0.6358 - acc: 0.6130 - val_loss: 0.6542 - val_acc: 0.6153\n",
            "Epoch 35/150\n",
            " - 0s - loss: 0.6314 - acc: 0.6154 - val_loss: 0.6386 - val_acc: 0.6198\n",
            "Epoch 36/150\n",
            " - 0s - loss: 0.6316 - acc: 0.6146 - val_loss: 0.6389 - val_acc: 0.6129\n",
            "Epoch 37/150\n",
            " - 0s - loss: 0.6314 - acc: 0.6181 - val_loss: 0.6395 - val_acc: 0.6215\n",
            "Epoch 38/150\n",
            " - 0s - loss: 0.6263 - acc: 0.6210 - val_loss: 0.6442 - val_acc: 0.6013\n",
            "Epoch 39/150\n",
            " - 0s - loss: 0.6294 - acc: 0.6219 - val_loss: 0.6450 - val_acc: 0.6177\n",
            "Epoch 40/150\n",
            " - 0s - loss: 0.6255 - acc: 0.6243 - val_loss: 0.6372 - val_acc: 0.6212\n",
            "Epoch 41/150\n",
            " - 0s - loss: 0.6340 - acc: 0.6188 - val_loss: 0.6549 - val_acc: 0.6004\n",
            "Epoch 42/150\n",
            " - 0s - loss: 0.6290 - acc: 0.6209 - val_loss: 0.6368 - val_acc: 0.6123\n",
            "Epoch 43/150\n",
            " - 0s - loss: 0.6291 - acc: 0.6215 - val_loss: 0.6391 - val_acc: 0.6275\n",
            "Epoch 44/150\n",
            " - 0s - loss: 0.6297 - acc: 0.6197 - val_loss: 0.6335 - val_acc: 0.6272\n",
            "Epoch 45/150\n",
            " - 0s - loss: 0.6251 - acc: 0.6232 - val_loss: 0.6395 - val_acc: 0.6215\n",
            "Epoch 46/150\n",
            " - 0s - loss: 0.6291 - acc: 0.6184 - val_loss: 0.6449 - val_acc: 0.6186\n",
            "Epoch 47/150\n",
            " - 0s - loss: 0.6248 - acc: 0.6252 - val_loss: 0.6354 - val_acc: 0.6251\n",
            "Epoch 48/150\n",
            " - 0s - loss: 0.6247 - acc: 0.6253 - val_loss: 0.6385 - val_acc: 0.6281\n",
            "Epoch 49/150\n",
            " - 0s - loss: 0.6243 - acc: 0.6209 - val_loss: 0.6355 - val_acc: 0.6209\n",
            "Epoch 50/150\n",
            " - 0s - loss: 0.6247 - acc: 0.6269 - val_loss: 0.6353 - val_acc: 0.6230\n",
            "Epoch 51/150\n",
            " - 0s - loss: 0.6251 - acc: 0.6255 - val_loss: 0.6432 - val_acc: 0.6198\n",
            "Epoch 52/150\n",
            " - 0s - loss: 0.6271 - acc: 0.6260 - val_loss: 0.6530 - val_acc: 0.6242\n",
            "Epoch 53/150\n",
            " - 0s - loss: 0.6298 - acc: 0.6230 - val_loss: 0.6383 - val_acc: 0.6251\n",
            "Epoch 54/150\n",
            " - 0s - loss: 0.6276 - acc: 0.6251 - val_loss: 0.6396 - val_acc: 0.6162\n",
            "Epoch 55/150\n",
            " - 0s - loss: 0.6255 - acc: 0.6253 - val_loss: 0.6638 - val_acc: 0.6037\n",
            "Epoch 56/150\n",
            " - 0s - loss: 0.6262 - acc: 0.6225 - val_loss: 0.6429 - val_acc: 0.6281\n",
            "Epoch 57/150\n",
            " - 0s - loss: 0.6245 - acc: 0.6232 - val_loss: 0.6370 - val_acc: 0.6251\n",
            "Epoch 58/150\n",
            " - 1s - loss: 0.6250 - acc: 0.6225 - val_loss: 0.6413 - val_acc: 0.6281\n",
            "Epoch 59/150\n",
            " - 0s - loss: 0.6223 - acc: 0.6262 - val_loss: 0.6411 - val_acc: 0.6204\n",
            "Epoch 60/150\n",
            " - 0s - loss: 0.6261 - acc: 0.6269 - val_loss: 0.6353 - val_acc: 0.6209\n",
            "Epoch 61/150\n",
            " - 0s - loss: 0.6244 - acc: 0.6280 - val_loss: 0.6408 - val_acc: 0.6204\n",
            "Epoch 62/150\n",
            " - 0s - loss: 0.6228 - acc: 0.6253 - val_loss: 0.6366 - val_acc: 0.6266\n",
            "Epoch 63/150\n",
            " - 0s - loss: 0.6221 - acc: 0.6303 - val_loss: 0.6380 - val_acc: 0.6206\n",
            "Epoch 64/150\n",
            " - 0s - loss: 0.6232 - acc: 0.6261 - val_loss: 0.6394 - val_acc: 0.6138\n",
            "Epoch 65/150\n",
            " - 0s - loss: 0.6216 - acc: 0.6290 - val_loss: 0.6449 - val_acc: 0.6147\n",
            "Epoch 66/150\n",
            " - 0s - loss: 0.6226 - acc: 0.6225 - val_loss: 0.6456 - val_acc: 0.6233\n",
            "Epoch 67/150\n",
            " - 0s - loss: 0.6210 - acc: 0.6357 - val_loss: 0.6427 - val_acc: 0.6236\n",
            "Epoch 68/150\n",
            " - 0s - loss: 0.6205 - acc: 0.6297 - val_loss: 0.6492 - val_acc: 0.6058\n",
            "Epoch 69/150\n",
            " - 0s - loss: 0.6245 - acc: 0.6266 - val_loss: 0.6333 - val_acc: 0.6275\n",
            "Epoch 70/150\n",
            " - 0s - loss: 0.6192 - acc: 0.6260 - val_loss: 0.6378 - val_acc: 0.6314\n",
            "Epoch 71/150\n",
            " - 0s - loss: 0.6218 - acc: 0.6248 - val_loss: 0.6437 - val_acc: 0.6174\n",
            "Epoch 72/150\n",
            " - 0s - loss: 0.6204 - acc: 0.6312 - val_loss: 0.6354 - val_acc: 0.6230\n",
            "Epoch 73/150\n",
            " - 0s - loss: 0.6195 - acc: 0.6271 - val_loss: 0.6388 - val_acc: 0.6278\n",
            "Epoch 74/150\n",
            " - 0s - loss: 0.6227 - acc: 0.6307 - val_loss: 0.6370 - val_acc: 0.6206\n",
            "Epoch 75/150\n",
            " - 0s - loss: 0.6187 - acc: 0.6329 - val_loss: 0.6365 - val_acc: 0.6302\n",
            "Epoch 76/150\n",
            " - 0s - loss: 0.6214 - acc: 0.6309 - val_loss: 0.6392 - val_acc: 0.6296\n",
            "Epoch 77/150\n",
            " - 0s - loss: 0.6177 - acc: 0.6338 - val_loss: 0.6437 - val_acc: 0.6174\n",
            "Epoch 78/150\n",
            " - 0s - loss: 0.6192 - acc: 0.6331 - val_loss: 0.6451 - val_acc: 0.6215\n",
            "Epoch 79/150\n",
            " - 0s - loss: 0.6213 - acc: 0.6279 - val_loss: 0.6389 - val_acc: 0.6218\n",
            "Epoch 80/150\n",
            " - 0s - loss: 0.6170 - acc: 0.6297 - val_loss: 0.6435 - val_acc: 0.6174\n",
            "Epoch 81/150\n",
            " - 0s - loss: 0.6191 - acc: 0.6288 - val_loss: 0.6428 - val_acc: 0.6192\n",
            "Epoch 82/150\n",
            " - 0s - loss: 0.6174 - acc: 0.6289 - val_loss: 0.6383 - val_acc: 0.6209\n",
            "Epoch 83/150\n",
            " - 0s - loss: 0.6153 - acc: 0.6297 - val_loss: 0.6414 - val_acc: 0.6189\n",
            "Epoch 84/150\n",
            " - 0s - loss: 0.6200 - acc: 0.6318 - val_loss: 0.6430 - val_acc: 0.6263\n",
            "Epoch 85/150\n",
            " - 0s - loss: 0.6195 - acc: 0.6317 - val_loss: 0.6416 - val_acc: 0.6296\n",
            "Epoch 86/150\n",
            " - 0s - loss: 0.6152 - acc: 0.6303 - val_loss: 0.6394 - val_acc: 0.6299\n",
            "Epoch 87/150\n",
            " - 0s - loss: 0.6155 - acc: 0.6285 - val_loss: 0.6556 - val_acc: 0.6040\n",
            "Epoch 88/150\n",
            " - 0s - loss: 0.6186 - acc: 0.6281 - val_loss: 0.6398 - val_acc: 0.6254\n",
            "Epoch 89/150\n",
            " - 0s - loss: 0.6352 - acc: 0.6324 - val_loss: 0.6491 - val_acc: 0.6218\n",
            "Epoch 90/150\n",
            " - 0s - loss: 0.6264 - acc: 0.6304 - val_loss: 0.6479 - val_acc: 0.6251\n",
            "Epoch 91/150\n",
            " - 0s - loss: 0.6239 - acc: 0.6294 - val_loss: 0.6467 - val_acc: 0.6281\n",
            "Epoch 92/150\n",
            " - 0s - loss: 0.6212 - acc: 0.6289 - val_loss: 0.6463 - val_acc: 0.6236\n",
            "Epoch 93/150\n",
            " - 0s - loss: 0.6175 - acc: 0.6322 - val_loss: 0.6536 - val_acc: 0.6269\n",
            "Epoch 94/150\n",
            " - 0s - loss: 0.6178 - acc: 0.6321 - val_loss: 0.6427 - val_acc: 0.6245\n",
            "Epoch 95/150\n",
            " - 0s - loss: 0.6151 - acc: 0.6316 - val_loss: 0.6445 - val_acc: 0.6198\n",
            "Epoch 96/150\n",
            " - 0s - loss: 0.6165 - acc: 0.6304 - val_loss: 0.6441 - val_acc: 0.6251\n",
            "Epoch 97/150\n",
            " - 0s - loss: 0.6164 - acc: 0.6353 - val_loss: 0.6395 - val_acc: 0.6257\n",
            "Epoch 98/150\n",
            " - 0s - loss: 0.6151 - acc: 0.6293 - val_loss: 0.6440 - val_acc: 0.6281\n",
            "Epoch 99/150\n",
            " - 0s - loss: 0.6129 - acc: 0.6301 - val_loss: 0.6454 - val_acc: 0.6272\n",
            "Epoch 100/150\n",
            " - 0s - loss: 0.6136 - acc: 0.6361 - val_loss: 0.6496 - val_acc: 0.6343\n",
            "Epoch 101/150\n",
            " - 0s - loss: 0.6131 - acc: 0.6349 - val_loss: 0.6413 - val_acc: 0.6242\n",
            "Epoch 102/150\n",
            " - 0s - loss: 0.6114 - acc: 0.6363 - val_loss: 0.6435 - val_acc: 0.6218\n",
            "Epoch 103/150\n",
            " - 0s - loss: 0.6126 - acc: 0.6345 - val_loss: 0.6423 - val_acc: 0.6325\n",
            "Epoch 104/150\n",
            " - 0s - loss: 0.6117 - acc: 0.6348 - val_loss: 0.6490 - val_acc: 0.6245\n",
            "Epoch 105/150\n",
            " - 0s - loss: 0.6132 - acc: 0.6303 - val_loss: 0.6464 - val_acc: 0.6227\n",
            "Epoch 106/150\n",
            " - 0s - loss: 0.6111 - acc: 0.6362 - val_loss: 0.6480 - val_acc: 0.6227\n",
            "Epoch 107/150\n",
            " - 0s - loss: 0.6112 - acc: 0.6377 - val_loss: 0.6509 - val_acc: 0.6215\n",
            "Epoch 108/150\n",
            " - 0s - loss: 0.6091 - acc: 0.6338 - val_loss: 0.6453 - val_acc: 0.6206\n",
            "Epoch 109/150\n",
            " - 0s - loss: 0.6098 - acc: 0.6391 - val_loss: 0.6437 - val_acc: 0.6227\n",
            "Epoch 110/150\n",
            " - 0s - loss: 0.6109 - acc: 0.6299 - val_loss: 0.6422 - val_acc: 0.6251\n",
            "Epoch 111/150\n",
            " - 0s - loss: 0.6081 - acc: 0.6426 - val_loss: 0.6599 - val_acc: 0.6266\n",
            "Epoch 112/150\n",
            " - 0s - loss: 0.6118 - acc: 0.6449 - val_loss: 0.6438 - val_acc: 0.6198\n",
            "Epoch 113/150\n",
            " - 0s - loss: 0.6118 - acc: 0.6302 - val_loss: 0.6460 - val_acc: 0.6233\n",
            "Epoch 114/150\n",
            " - 0s - loss: 0.6066 - acc: 0.6381 - val_loss: 0.6490 - val_acc: 0.6278\n",
            "Epoch 115/150\n",
            " - 0s - loss: 0.6096 - acc: 0.6415 - val_loss: 0.6455 - val_acc: 0.6331\n",
            "Epoch 116/150\n",
            " - 0s - loss: 0.6093 - acc: 0.6346 - val_loss: 0.6531 - val_acc: 0.6120\n",
            "Epoch 117/150\n",
            " - 0s - loss: 0.6086 - acc: 0.6382 - val_loss: 0.6473 - val_acc: 0.6165\n",
            "Epoch 118/150\n",
            " - 0s - loss: 0.6085 - acc: 0.6332 - val_loss: 0.6463 - val_acc: 0.6138\n",
            "Epoch 119/150\n",
            " - 0s - loss: 0.6100 - acc: 0.6371 - val_loss: 0.6426 - val_acc: 0.6284\n",
            "Epoch 120/150\n",
            " - 0s - loss: 0.6072 - acc: 0.6382 - val_loss: 0.6550 - val_acc: 0.6236\n",
            "Epoch 121/150\n",
            " - 0s - loss: 0.6048 - acc: 0.6396 - val_loss: 0.6468 - val_acc: 0.6260\n",
            "Epoch 122/150\n",
            " - 0s - loss: 0.6059 - acc: 0.6399 - val_loss: 0.6503 - val_acc: 0.6296\n",
            "Epoch 123/150\n",
            " - 1s - loss: 0.6051 - acc: 0.6442 - val_loss: 0.6518 - val_acc: 0.6308\n",
            "Epoch 124/150\n",
            " - 0s - loss: 0.6055 - acc: 0.6343 - val_loss: 0.6461 - val_acc: 0.6218\n",
            "Epoch 125/150\n",
            " - 0s - loss: 0.6050 - acc: 0.6401 - val_loss: 0.6520 - val_acc: 0.6269\n",
            "Epoch 126/150\n",
            " - 0s - loss: 0.6042 - acc: 0.6392 - val_loss: 0.6508 - val_acc: 0.6343\n",
            "Epoch 127/150\n",
            " - 0s - loss: 0.6049 - acc: 0.6414 - val_loss: 0.6457 - val_acc: 0.6284\n",
            "Epoch 128/150\n",
            " - 0s - loss: 0.6049 - acc: 0.6440 - val_loss: 0.6529 - val_acc: 0.6123\n",
            "Epoch 129/150\n",
            " - 0s - loss: 0.6041 - acc: 0.6382 - val_loss: 0.6486 - val_acc: 0.6269\n",
            "Epoch 130/150\n",
            " - 0s - loss: 0.6018 - acc: 0.6446 - val_loss: 0.6536 - val_acc: 0.6251\n",
            "Epoch 131/150\n",
            " - 0s - loss: 0.6029 - acc: 0.6377 - val_loss: 0.6519 - val_acc: 0.6296\n",
            "Epoch 132/150\n",
            " - 0s - loss: 0.6000 - acc: 0.6438 - val_loss: 0.6657 - val_acc: 0.6156\n",
            "Epoch 133/150\n",
            " - 1s - loss: 0.6041 - acc: 0.6366 - val_loss: 0.6504 - val_acc: 0.6320\n",
            "Epoch 134/150\n",
            " - 0s - loss: 0.5988 - acc: 0.6404 - val_loss: 0.6517 - val_acc: 0.6296\n",
            "Epoch 135/150\n",
            " - 0s - loss: 0.5998 - acc: 0.6441 - val_loss: 0.6525 - val_acc: 0.6215\n",
            "Epoch 136/150\n",
            " - 0s - loss: 0.6015 - acc: 0.6455 - val_loss: 0.6571 - val_acc: 0.6331\n",
            "Epoch 137/150\n",
            " - 0s - loss: 0.6001 - acc: 0.6498 - val_loss: 0.6542 - val_acc: 0.6272\n",
            "Epoch 138/150\n",
            " - 0s - loss: 0.5975 - acc: 0.6475 - val_loss: 0.6524 - val_acc: 0.6206\n",
            "Epoch 139/150\n",
            " - 0s - loss: 0.6014 - acc: 0.6455 - val_loss: 0.6550 - val_acc: 0.6254\n",
            "Epoch 140/150\n",
            " - 0s - loss: 0.6008 - acc: 0.6451 - val_loss: 0.6507 - val_acc: 0.6311\n",
            "Epoch 141/150\n",
            " - 0s - loss: 0.5988 - acc: 0.6445 - val_loss: 0.6542 - val_acc: 0.6311\n",
            "Epoch 142/150\n",
            " - 0s - loss: 0.5976 - acc: 0.6427 - val_loss: 0.6538 - val_acc: 0.6284\n",
            "Epoch 143/150\n",
            " - 0s - loss: 0.5981 - acc: 0.6438 - val_loss: 0.6559 - val_acc: 0.6275\n",
            "Epoch 144/150\n",
            " - 0s - loss: 0.5958 - acc: 0.6497 - val_loss: 0.6541 - val_acc: 0.6296\n",
            "Epoch 145/150\n",
            " - 0s - loss: 0.5973 - acc: 0.6380 - val_loss: 0.6601 - val_acc: 0.6287\n",
            "Epoch 146/150\n",
            " - 0s - loss: 0.5965 - acc: 0.6475 - val_loss: 0.6644 - val_acc: 0.6287\n",
            "Epoch 147/150\n",
            " - 0s - loss: 0.5954 - acc: 0.6506 - val_loss: 0.6595 - val_acc: 0.6343\n",
            "Epoch 148/150\n",
            " - 0s - loss: 0.5943 - acc: 0.6431 - val_loss: 0.6561 - val_acc: 0.6239\n",
            "Epoch 149/150\n",
            " - 0s - loss: 0.5930 - acc: 0.6491 - val_loss: 0.6664 - val_acc: 0.6266\n",
            "Epoch 150/150\n",
            " - 0s - loss: 0.5942 - acc: 0.6544 - val_loss: 0.6567 - val_acc: 0.6296\n"
          ],
          "name": "stdout"
        }
      ]
    },
    {
      "cell_type": "code",
      "metadata": {
        "id": "5OR9fw3qPTKX",
        "colab_type": "code",
        "colab": {
          "base_uri": "https://localhost:8080/",
          "height": 52
        },
        "outputId": "f49bac36-8d32-4599-9552-e0570b270646"
      },
      "source": [
        "score = model.evaluate(X_test,y_test)\n",
        "print(score[1])"
      ],
      "execution_count": 70,
      "outputs": [
        {
          "output_type": "stream",
          "text": [
            "2800/2800 [==============================] - 0s 46us/step\n",
            "0.615\n"
          ],
          "name": "stdout"
        }
      ]
    },
    {
      "cell_type": "code",
      "metadata": {
        "id": "PDLIPwqnBPee",
        "colab_type": "code",
        "colab": {
          "base_uri": "https://localhost:8080/",
          "height": 312
        },
        "outputId": "04fb037b-7934-42b9-82ed-941edf576419"
      },
      "source": [
        "plt.plot(history.history['acc'])\n",
        "plt.plot(history.history['val_acc'])\n",
        "plt.title('model accuracy')\n",
        "plt.ylabel('accuracyo')\n",
        "plt.xlabel('epoch')\n",
        "plt.legend(['treino','teste'],loc='lower right')\n",
        "plt.show"
      ],
      "execution_count": 71,
      "outputs": [
        {
          "output_type": "execute_result",
          "data": {
            "text/plain": [
              "<function matplotlib.pyplot.show>"
            ]
          },
          "metadata": {
            "tags": []
          },
          "execution_count": 71
        },
        {
          "output_type": "display_data",
          "data": {
            "image/png": "[encoded data removed]",
            "text/plain": [
              "<Figure size 432x288 with 1 Axes>"
            ]
          },
          "metadata": {
            "tags": []
          }
        }
      ]
    },
    {
      "cell_type": "code",
      "metadata": {
        "id": "QRO4ZTT5CEA-",
        "colab_type": "code",
        "colab": {
          "base_uri": "https://localhost:8080/",
          "height": 312
        },
        "outputId": "b376ba5c-84ec-40ae-9c49-791dc1201c25"
      },
      "source": [
        "plt.plot(history.history['loss'])\n",
        "plt.plot(history.history['val_loss'])\n",
        "plt.title('model accuracy')\n",
        "plt.ylabel('loss')\n",
        "plt.xlabel('epoch')\n",
        "plt.legend(['treino','teste'],loc='upper right')\n",
        "plt.show"
      ],
      "execution_count": 72,
      "outputs": [
        {
          "output_type": "execute_result",
          "data": {
            "text/plain": [
              "<function matplotlib.pyplot.show>"
            ]
          },
          "metadata": {
            "tags": []
          },
          "execution_count": 72
        },
        {
          "output_type": "display_data",
          "data": {
            "image/png": "[encoded data removed]",
            "text/plain": [
              "<Figure size 432x288 with 1 Axes>"
            ]
          },
          "metadata": {
            "tags": []
          }
        }
      ]
    }
  ]
}
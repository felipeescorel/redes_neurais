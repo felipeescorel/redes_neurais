{
  "nbformat": 4,
  "nbformat_minor": 0,
  "metadata": {
    "colab": {
      "name": "Testes12.ipynb",
      "version": "0.3.2",
      "provenance": [],
      "collapsed_sections": [],
      "include_colab_link": true
    },
    "kernelspec": {
      "name": "python3",
      "display_name": "Python 3"
    },
    "accelerator": "GPU"
  },
  "cells": [
    {
      "cell_type": "markdown",
      "metadata": {
        "id": "view-in-github",
        "colab_type": "text"
      },
      "source": [
        "<a href=\"https://colab.research.google.com/github/felipeescorel/redes_neurais/blob/master/ClientesVM/Testes12.ipynb\" target=\"_parent\"><img src=\"https://colab.research.google.com/assets/colab-badge.svg\" alt=\"Open In Colab\"/></a>"
      ]
    },
    {
      "cell_type": "code",
      "metadata": {
        "id": "iLXKTDkBGJn4",
        "colab_type": "code",
        "colab": {}
      },
      "source": [
        "from keras.models import Sequential\n",
        "from keras.utils import np_utils\n",
        "from keras import regularizers\n",
        "from keras.layers.core import Dense, Activation, Dropout\n",
        "\n",
        "from sklearn.model_selection import train_test_split\n",
        "\n",
        "import pandas as pd\n",
        "import numpy as np"
      ],
      "execution_count": 0,
      "outputs": []
    },
    {
      "cell_type": "code",
      "metadata": {
        "id": "BenU6lWBNZdq",
        "colab_type": "code",
        "colab": {}
      },
      "source": [
        "data =  pd.read_csv('redes_neurais/ClientesVM/datasetV6.csv')\n",
        "\n",
        "def normalize(x):\n",
        "  min = data['rendaMedia'].min()\n",
        "  max = data['rendaMedia'].max()\n",
        "  return (x - min)/(max -min)"
      ],
      "execution_count": 0,
      "outputs": []
    },
    {
      "cell_type": "code",
      "metadata": {
        "id": "AhbkjOejHrMC",
        "colab_type": "code",
        "colab": {}
      },
      "source": [
        "# Pré processamento\n",
        "\n",
        "data['rendaMedia'] = data['rendaMedia'].map(normalize) \n",
        "\n",
        "train, test = train_test_split(data, test_size=0.2)\n",
        "labels = train.ix[:,0]\n",
        "X_train = train.ix[:,1:-1]\n",
        "y_train = train.ix[:,'Aprovado']\n",
        "X_test = test.ix[:,1:-1]\n",
        "y_test = test.ix[:,'Aprovado']"
      ],
      "execution_count": 0,
      "outputs": []
    },
    {
      "cell_type": "code",
      "metadata": {
        "id": "FpjdV4KFGheb",
        "colab_type": "code",
        "colab": {}
      },
      "source": [
        "input_dim = X_train.shape[1]\n",
        "nb_classes = y_train.shape[0]"
      ],
      "execution_count": 0,
      "outputs": []
    },
    {
      "cell_type": "code",
      "metadata": {
        "id": "2IY0YwW8HRwq",
        "colab_type": "code",
        "colab": {}
      },
      "source": [
        "# Here's a Deep Dumb MLP (DDMLP)\n",
        "model = Sequential()\n",
        "model.add(Dense(32, input_dim=input_dim,activation ='relu',kernel_regularizer=regularizers.l2(0.001)))\n",
        "model.add(Dropout(0,5))\n",
        "model.add(Dense(64,activation='relu',kernel_regularizer=regularizers.l2(0.001)))\n",
        "model.add(Dropout(0,5))\n",
        "model.add(Dense(64,activation='softmax',kernel_regularizer=regularizers.l2(0.001)))\n",
        "model.add(Dropout(0,5))\n",
        "#model.add(Dense(nb_classes))\n",
        "\n",
        "model.add(Dense(1, activation='sigmoid'))\n",
        "#model.add(Activation('softmax'))\n",
        "\n",
        "model.compile(loss='binary_crossentropy', optimizer='adam',metrics=['accuracy'])"
      ],
      "execution_count": 0,
      "outputs": []
    },
    {
      "cell_type": "code",
      "metadata": {
        "id": "jZGuk09qHUXv",
        "colab_type": "code",
        "colab": {
          "base_uri": "https://localhost:8080/",
          "height": 243
        },
        "outputId": "15ce342e-d47a-4f49-a1f9-161489f9b277"
      },
      "source": [
        "print(\"Training...\")\n",
        "model.fit(X_train,y_train, epochs=5, batch_size=12, validation_split=0.1, verbose=2, shuffle = True)\n"
      ],
      "execution_count": 147,
      "outputs": [
        {
          "output_type": "stream",
          "text": [
            "Training...\n",
            "Train on 10080 samples, validate on 1120 samples\n",
            "Epoch 1/5\n",
            " - 5s - loss: 0.6938 - acc: 0.5789 - val_loss: 0.6834 - val_acc: 0.5670\n",
            "Epoch 2/5\n",
            " - 3s - loss: 0.6789 - acc: 0.5730 - val_loss: 0.6822 - val_acc: 0.5679\n",
            "Epoch 3/5\n",
            " - 3s - loss: 0.6780 - acc: 0.5709 - val_loss: 0.6819 - val_acc: 0.5679\n",
            "Epoch 4/5\n",
            " - 3s - loss: 0.6776 - acc: 0.5728 - val_loss: 0.6820 - val_acc: 0.5679\n",
            "Epoch 5/5\n",
            " - 3s - loss: 0.6775 - acc: 0.5689 - val_loss: 0.6820 - val_acc: 0.5679\n"
          ],
          "name": "stdout"
        },
        {
          "output_type": "execute_result",
          "data": {
            "text/plain": [
              "<keras.callbacks.History at 0x7f4f0b00ada0>"
            ]
          },
          "metadata": {
            "tags": []
          },
          "execution_count": 147
        }
      ]
    },
    {
      "cell_type": "code",
      "metadata": {
        "id": "RUP-Lv9sJljE",
        "colab_type": "code",
        "colab": {}
      },
      "source": [
        "#print(\"Generating test predictions...\")\n",
        "#preds = model.predict_classes(X_test, verbose=0)\n",
        "\n",
        "#def write_preds(preds, fname):\n",
        " #   pd.DataFrame({\"ImageId\": list(range(1,len(preds)+1)), \"Label\": preds}).to_csv(fname, index=False, header=True)\n",
        "\n",
        "#write_preds(preds, \"keras-mlp.csv\")"
      ],
      "execution_count": 0,
      "outputs": []
    },
    {
      "cell_type": "code",
      "metadata": {
        "id": "5OR9fw3qPTKX",
        "colab_type": "code",
        "colab": {
          "base_uri": "https://localhost:8080/",
          "height": 52
        },
        "outputId": "c6c78f06-d9bd-4a4b-d287-c7144af61a0f"
      },
      "source": [
        "score = model.evaluate(X_test,y_test, batch_size=16)\n",
        "print(score[1])"
      ],
      "execution_count": 141,
      "outputs": [
        {
          "output_type": "stream",
          "text": [
            "2800/2800 [==============================] - 0s 82us/step\n",
            "0.6082142857142857\n"
          ],
          "name": "stdout"
        }
      ]
    },
    {
      "cell_type": "code",
      "metadata": {
        "id": "R1RegYTDYo0v",
        "colab_type": "code",
        "colab": {}
      },
      "source": [
        "#print(model.predict(X_test, batch_size = 16))"
      ],
      "execution_count": 0,
      "outputs": []
    }
  ]
}
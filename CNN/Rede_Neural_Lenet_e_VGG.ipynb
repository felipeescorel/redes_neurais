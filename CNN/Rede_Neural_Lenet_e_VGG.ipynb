{
  "nbformat": 4,
  "nbformat_minor": 0,
  "metadata": {
    "colab": {
      "name": "Rede Neural Lenet e VGG",
      "version": "0.3.2",
      "provenance": [],
      "collapsed_sections": [],
      "include_colab_link": true
    },
    "kernelspec": {
      "name": "python3",
      "display_name": "Python 3"
    },
    "accelerator": "GPU"
  },
  "cells": [
    {
      "cell_type": "markdown",
      "metadata": {
        "id": "view-in-github",
        "colab_type": "text"
      },
      "source": [
        "<a href=\"https://colab.research.google.com/github/felipeescorel/redes_neurais/blob/master/CNN/Rede_Neural_Lenet_e_VGG.ipynb\" target=\"_parent\"><img src=\"https://colab.research.google.com/assets/colab-badge.svg\" alt=\"Open In Colab\"/></a>"
      ]
    },
    {
      "cell_type": "markdown",
      "metadata": {
        "id": "wziql3WY62o0",
        "colab_type": "text"
      },
      "source": [
        "## Rede Neural Convolucional\n",
        "\n",
        "### Nessa aula, vamos treinar a rede Neural VGG com a base de dados CIFAR-10\n",
        "\n",
        "---\n",
        "\n",
        "### 1. Carrega a Base de dados CIFAR-10"
      ]
    },
    {
      "cell_type": "code",
      "metadata": {
        "id": "Mg9ihtNj8pDo",
        "colab_type": "code",
        "colab": {
          "base_uri": "https://localhost:8080/",
          "height": 69
        },
        "outputId": "da84353b-c645-4259-9516-0239b336b154"
      },
      "source": [
        "import keras\n",
        "import numpy as np\n",
        "from keras.datasets import cifar10\n",
        "\n",
        "# load the pre-shuffled train and test data\n",
        "(x_train, y_train), (x_test, y_test) = cifar10.load_data()"
      ],
      "execution_count": 1,
      "outputs": [
        {
          "output_type": "stream",
          "text": [
            "Using TensorFlow backend.\n"
          ],
          "name": "stderr"
        },
        {
          "output_type": "stream",
          "text": [
            "Downloading data from https://www.cs.toronto.edu/~kriz/cifar-10-python.tar.gz\n",
            "170500096/170498071 [==============================] - 30s 0us/step\n"
          ],
          "name": "stdout"
        }
      ]
    },
    {
      "cell_type": "markdown",
      "metadata": {
        "id": "G41PbCuK8qQH",
        "colab_type": "text"
      },
      "source": [
        "###2. Reescale as imagens dividindo todos os pixels por 255"
      ]
    },
    {
      "cell_type": "code",
      "metadata": {
        "id": "CeJg_vfa828R",
        "colab_type": "code",
        "colab": {}
      },
      "source": [
        "# rescale [0,255] --> [0,1]\n",
        "x_train = x_train.astype('float32')/255\n",
        "x_test = x_test.astype('float32')/255"
      ],
      "execution_count": 0,
      "outputs": []
    },
    {
      "cell_type": "markdown",
      "metadata": {
        "id": "qYO2Eone87MN",
        "colab_type": "text"
      },
      "source": [
        "### 3.  Dividir base de dados em conjuntos de treinamento, teste e validação."
      ]
    },
    {
      "cell_type": "code",
      "metadata": {
        "id": "WeikbgB68886",
        "colab_type": "code",
        "outputId": "e5d743fc-0942-4b77-9a8a-99a9e5edba47",
        "colab": {
          "base_uri": "https://localhost:8080/",
          "height": 86
        }
      },
      "source": [
        "from keras.utils import np_utils\n",
        "\n",
        "# one-hot encode the labels\n",
        "num_classes = len(np.unique(y_train))\n",
        "y_train = keras.utils.to_categorical(y_train, num_classes)\n",
        "y_test = keras.utils.to_categorical(y_test, num_classes)\n",
        "\n",
        "# break training set into training and validation sets\n",
        "(x_train, x_valid) = x_train[5000:], x_train[:5000]\n",
        "(y_train, y_valid) = y_train[5000:], y_train[:5000]\n",
        "\n",
        "# print shape of training set\n",
        "print('x_train shape:', x_train.shape)\n",
        "\n",
        "# print number of training, validation, and test images\n",
        "print(x_train.shape[0], 'train samples')\n",
        "print(x_test.shape[0], 'test samples')\n",
        "print(x_valid.shape[0], 'validation samples')"
      ],
      "execution_count": 3,
      "outputs": [
        {
          "output_type": "stream",
          "text": [
            "x_train shape: (45000, 32, 32, 3)\n",
            "45000 train samples\n",
            "10000 test samples\n",
            "5000 validation samples\n"
          ],
          "name": "stdout"
        }
      ]
    },
    {
      "cell_type": "markdown",
      "metadata": {
        "id": "krh48rlw9XHe",
        "colab_type": "text"
      },
      "source": [
        "### 4. Comece importando os pacotes necessários para o projeto"
      ]
    },
    {
      "cell_type": "code",
      "metadata": {
        "id": "WppfDvBhkFfd",
        "colab_type": "code",
        "colab": {}
      },
      "source": [
        "# import the necessary packages\n",
        "#from pyimagesearch.nn.conv import LeNet\n",
        "from keras.optimizers import SGD\n",
        "from sklearn.preprocessing import LabelBinarizer\n",
        "from sklearn.metrics import classification_report\n",
        "from keras import backend as K\n",
        "import matplotlib.pyplot as plt\n",
        "import numpy as np\n",
        "\n",
        "from keras.models import Sequential\n",
        "from keras.layers.convolutional import Conv2D\n",
        "from keras.layers.convolutional import MaxPooling2D\n",
        "from keras.layers.core import Activation\n",
        "from keras.layers.core import Flatten\n",
        "from keras.layers.core import Dense"
      ],
      "execution_count": 0,
      "outputs": []
    },
    {
      "cell_type": "markdown",
      "metadata": {
        "id": "gfEq5XMP92vb",
        "colab_type": "text"
      },
      "source": [
        "### 5. Construa o modelo Lenet"
      ]
    },
    {
      "cell_type": "code",
      "metadata": {
        "id": "U27CsX1OkewH",
        "colab_type": "code",
        "colab": {}
      },
      "source": [
        "def build_LeNet(width, height, depth, classes):\n",
        "  # initialize the model\n",
        "  model = Sequential()\n",
        "  inputShape = (height, width, depth)\n",
        "\n",
        "  # first set of CONV => RELU => POOL layers\n",
        "  model.add(Conv2D(20, (5, 5), padding=\"same\",\n",
        "    input_shape=inputShape))\n",
        "  model.add(Activation(\"relu\"))\n",
        "  model.add(MaxPooling2D(pool_size=(2, 2), strides=(2, 2)))\n",
        "\n",
        "  # second set of CONV => RELU => POOL layers\n",
        "  model.add(Conv2D(50, (5, 5), padding=\"same\"))\n",
        "  model.add(Activation(\"relu\"))\n",
        "  model.add(MaxPooling2D(pool_size=(2, 2), strides=(2, 2)))\n",
        "\n",
        "  # first (and only) set of FC => RELU layers\n",
        "  model.add(Flatten())\n",
        "  model.add(Dense(500))\n",
        "  model.add(Activation(\"relu\"))\n",
        "\n",
        "  # softmax classifier\n",
        "  model.add(Dense(classes))\n",
        "  model.add(Activation(\"softmax\"))\n",
        "  \n",
        "  model.summary()\n",
        "  \n",
        "  # return the constructed network architecture\n",
        "  return model"
      ],
      "execution_count": 0,
      "outputs": []
    },
    {
      "cell_type": "markdown",
      "metadata": {
        "id": "rbNA7trm-UFq",
        "colab_type": "text"
      },
      "source": [
        "### 6. Construa o modelo MiniVGG"
      ]
    },
    {
      "cell_type": "code",
      "metadata": {
        "id": "PU54qS0nD7QS",
        "colab_type": "code",
        "colab": {}
      },
      "source": [
        "from keras.layers.normalization import BatchNormalization\n",
        "from keras.layers.core import Dropout\n",
        "\n",
        "def build_MiniVGG(width, height, depth, classes):\n",
        "  # initialize the model\n",
        "  model = Sequential()\n",
        "  inputShape = (height, width, depth)# first CONV => RELU => CONV => RELU => POOL layer set\n",
        "  model.add(Conv2D(32, (3, 3), padding=\"same\",\n",
        "  input_shape=inputShape))\n",
        "  model.add(Activation(\"relu\"))\n",
        "  model.add(BatchNormalization(axis=2))\n",
        "  model.add(Conv2D(32, (3, 3), padding=\"same\"))\n",
        "  model.add(Activation(\"relu\"))\n",
        "  model.add(BatchNormalization(axis=2))\n",
        "  model.add(MaxPooling2D(pool_size=(2, 2)))\n",
        "  model.add(Dropout(0.25))\n",
        "  \n",
        "  # second CONV => RELU => CONV => RELU => POOL layer set\n",
        "  model.add(Conv2D(64, (3, 3), padding=\"same\"))\n",
        "  model.add(Activation(\"relu\"))\n",
        "  model.add(BatchNormalization(axis=2))\n",
        "  model.add(Conv2D(64, (3, 3), padding=\"same\"))\n",
        "  model.add(Activation(\"relu\"))\n",
        "  model.add(BatchNormalization(axis=2))\n",
        "  model.add(MaxPooling2D(pool_size=(2, 2)))\n",
        "  model.add(Dropout(0.25))\n",
        "  \n",
        "  # first (and only) set of FC => RELU layers\n",
        "  model.add(Flatten())\n",
        "  model.add(Dense(512))\n",
        "  model.add(Activation(\"relu\"))\n",
        "  model.add(BatchNormalization())\n",
        "  model.add(Dropout(0.5))\n",
        "  \n",
        "  # softmax classifier\n",
        "  model.add(Dense(classes))\n",
        "  model.add(Activation(\"softmax\"))\n",
        "  \n",
        "  model.summary()\n",
        "  \n",
        "  # return the constructed network architecture\n",
        "  return model\n",
        "  "
      ],
      "execution_count": 0,
      "outputs": []
    },
    {
      "cell_type": "markdown",
      "metadata": {
        "id": "_ako4TaV_LZ9",
        "colab_type": "text"
      },
      "source": [
        "### 7. Compile o modelo desejado (Lenet ou MiniVGG)"
      ]
    },
    {
      "cell_type": "code",
      "metadata": {
        "id": "UhXIPFVQ_ON-",
        "colab_type": "code",
        "outputId": "26f13aef-a92c-454b-c18d-f9d50e0d9a3a",
        "colab": {
          "base_uri": "https://localhost:8080/",
          "height": 510
        }
      },
      "source": [
        "opt = SGD(lr=0.01)\n",
        "model = build_LeNet(width=32, height=32, depth=3, classes=10)\n",
        "model.compile(loss='categorical_crossentropy', optimizer=opt, \n",
        "                  metrics=['accuracy'])"
      ],
      "execution_count": 0,
      "outputs": [
        {
          "output_type": "stream",
          "text": [
            "_________________________________________________________________\n",
            "Layer (type)                 Output Shape              Param #   \n",
            "=================================================================\n",
            "conv2d_5 (Conv2D)            (None, 32, 32, 20)        1520      \n",
            "_________________________________________________________________\n",
            "activation_7 (Activation)    (None, 32, 32, 20)        0         \n",
            "_________________________________________________________________\n",
            "max_pooling2d_3 (MaxPooling2 (None, 16, 16, 20)        0         \n",
            "_________________________________________________________________\n",
            "conv2d_6 (Conv2D)            (None, 16, 16, 50)        25050     \n",
            "_________________________________________________________________\n",
            "activation_8 (Activation)    (None, 16, 16, 50)        0         \n",
            "_________________________________________________________________\n",
            "max_pooling2d_4 (MaxPooling2 (None, 8, 8, 50)          0         \n",
            "_________________________________________________________________\n",
            "flatten_2 (Flatten)          (None, 3200)              0         \n",
            "_________________________________________________________________\n",
            "dense_3 (Dense)              (None, 500)               1600500   \n",
            "_________________________________________________________________\n",
            "activation_9 (Activation)    (None, 500)               0         \n",
            "_________________________________________________________________\n",
            "dense_4 (Dense)              (None, 10)                5010      \n",
            "_________________________________________________________________\n",
            "activation_10 (Activation)   (None, 10)                0         \n",
            "=================================================================\n",
            "Total params: 1,632,080\n",
            "Trainable params: 1,632,080\n",
            "Non-trainable params: 0\n",
            "_________________________________________________________________\n"
          ],
          "name": "stdout"
        }
      ]
    },
    {
      "cell_type": "markdown",
      "metadata": {
        "id": "J9C2tpWs_oF4",
        "colab_type": "text"
      },
      "source": [
        "### 8. Treine o Modelo"
      ]
    },
    {
      "cell_type": "code",
      "metadata": {
        "id": "qMNki4Ou_rFd",
        "colab_type": "code",
        "outputId": "52dceb3b-a8b0-41c2-d3cb-e7ae7d68d5c6",
        "colab": {
          "base_uri": "https://localhost:8080/",
          "height": 1445
        }
      },
      "source": [
        "from keras.callbacks import ModelCheckpoint   \n",
        "\n",
        "# train the model\n",
        "checkpointer = ModelCheckpoint(filepath='model.weights.best.hdf5', verbose=1, \n",
        "                               save_best_only=True)\n",
        "hist = model.fit(x_train, y_train, batch_size=128, epochs=20,\n",
        "          validation_data=(x_valid, y_valid), callbacks=[checkpointer], \n",
        "          verbose=2, shuffle=True)"
      ],
      "execution_count": 0,
      "outputs": [
        {
          "output_type": "stream",
          "text": [
            "WARNING:tensorflow:From /usr/local/lib/python3.6/dist-packages/tensorflow/python/ops/math_ops.py:3066: to_int32 (from tensorflow.python.ops.math_ops) is deprecated and will be removed in a future version.\n",
            "Instructions for updating:\n",
            "Use tf.cast instead.\n",
            "Train on 45000 samples, validate on 5000 samples\n",
            "Epoch 1/20\n",
            " - 17s - loss: 2.3355 - acc: 0.2737 - val_loss: 1.7748 - val_acc: 0.3748\n",
            "\n",
            "Epoch 00001: val_loss improved from inf to 1.77483, saving model to model.weights.best.hdf5\n",
            "Epoch 2/20\n",
            " - 10s - loss: 1.7730 - acc: 0.3942 - val_loss: 1.4152 - val_acc: 0.4974\n",
            "\n",
            "Epoch 00002: val_loss improved from 1.77483 to 1.41519, saving model to model.weights.best.hdf5\n",
            "Epoch 3/20\n",
            " - 10s - loss: 1.5543 - acc: 0.4549 - val_loss: 1.8432 - val_acc: 0.3636\n",
            "\n",
            "Epoch 00003: val_loss did not improve from 1.41519\n",
            "Epoch 4/20\n",
            " - 10s - loss: 1.4121 - acc: 0.4971 - val_loss: 1.2667 - val_acc: 0.5492\n",
            "\n",
            "Epoch 00004: val_loss improved from 1.41519 to 1.26671, saving model to model.weights.best.hdf5\n",
            "Epoch 5/20\n",
            " - 10s - loss: 1.3123 - acc: 0.5334 - val_loss: 1.1280 - val_acc: 0.6000\n",
            "\n",
            "Epoch 00005: val_loss improved from 1.26671 to 1.12801, saving model to model.weights.best.hdf5\n",
            "Epoch 6/20\n",
            " - 10s - loss: 1.2354 - acc: 0.5588 - val_loss: 1.1649 - val_acc: 0.5800\n",
            "\n",
            "Epoch 00006: val_loss did not improve from 1.12801\n",
            "Epoch 7/20\n",
            " - 10s - loss: 1.1695 - acc: 0.5809 - val_loss: 1.1460 - val_acc: 0.5828\n",
            "\n",
            "Epoch 00007: val_loss did not improve from 1.12801\n",
            "Epoch 8/20\n",
            " - 10s - loss: 1.1063 - acc: 0.6058 - val_loss: 1.0465 - val_acc: 0.6202\n",
            "\n",
            "Epoch 00008: val_loss improved from 1.12801 to 1.04649, saving model to model.weights.best.hdf5\n",
            "Epoch 9/20\n",
            " - 10s - loss: 1.0644 - acc: 0.6203 - val_loss: 0.9571 - val_acc: 0.6552\n",
            "\n",
            "Epoch 00009: val_loss improved from 1.04649 to 0.95708, saving model to model.weights.best.hdf5\n",
            "Epoch 10/20\n",
            " - 10s - loss: 1.0256 - acc: 0.6322 - val_loss: 1.0100 - val_acc: 0.6336\n",
            "\n",
            "Epoch 00010: val_loss did not improve from 0.95708\n",
            "Epoch 11/20\n",
            " - 10s - loss: 0.9906 - acc: 0.6469 - val_loss: 1.0558 - val_acc: 0.6274\n",
            "\n",
            "Epoch 00011: val_loss did not improve from 0.95708\n",
            "Epoch 12/20\n",
            " - 10s - loss: 0.9572 - acc: 0.6600 - val_loss: 1.0070 - val_acc: 0.6492\n",
            "\n",
            "Epoch 00012: val_loss did not improve from 0.95708\n",
            "Epoch 13/20\n",
            " - 10s - loss: 0.9365 - acc: 0.6663 - val_loss: 0.8681 - val_acc: 0.6914\n",
            "\n",
            "Epoch 00013: val_loss improved from 0.95708 to 0.86812, saving model to model.weights.best.hdf5\n",
            "Epoch 14/20\n",
            " - 10s - loss: 0.9092 - acc: 0.6767 - val_loss: 0.8800 - val_acc: 0.6832\n",
            "\n",
            "Epoch 00014: val_loss did not improve from 0.86812\n",
            "Epoch 15/20\n",
            " - 10s - loss: 0.8911 - acc: 0.6821 - val_loss: 0.8163 - val_acc: 0.7076\n",
            "\n",
            "Epoch 00015: val_loss improved from 0.86812 to 0.81634, saving model to model.weights.best.hdf5\n",
            "Epoch 16/20\n",
            " - 10s - loss: 0.8680 - acc: 0.6918 - val_loss: 0.8013 - val_acc: 0.7168\n",
            "\n",
            "Epoch 00016: val_loss improved from 0.81634 to 0.80128, saving model to model.weights.best.hdf5\n",
            "Epoch 17/20\n",
            " - 10s - loss: 0.8524 - acc: 0.6978 - val_loss: 0.8879 - val_acc: 0.6884\n",
            "\n",
            "Epoch 00017: val_loss did not improve from 0.80128\n",
            "Epoch 18/20\n",
            " - 10s - loss: 0.8314 - acc: 0.7056 - val_loss: 0.7856 - val_acc: 0.7246\n",
            "\n",
            "Epoch 00018: val_loss improved from 0.80128 to 0.78561, saving model to model.weights.best.hdf5\n",
            "Epoch 19/20\n",
            " - 10s - loss: 0.8173 - acc: 0.7110 - val_loss: 0.7831 - val_acc: 0.7248\n",
            "\n",
            "Epoch 00019: val_loss improved from 0.78561 to 0.78312, saving model to model.weights.best.hdf5\n",
            "Epoch 20/20\n",
            " - 10s - loss: 0.8062 - acc: 0.7138 - val_loss: 0.7776 - val_acc: 0.7248\n",
            "\n",
            "Epoch 00020: val_loss improved from 0.78312 to 0.77756, saving model to model.weights.best.hdf5\n"
          ],
          "name": "stdout"
        }
      ]
    },
    {
      "cell_type": "markdown",
      "metadata": {
        "id": "kVuD-3YRApuZ",
        "colab_type": "text"
      },
      "source": [
        "### 9. Carrege o modelo com a melhor acurácia no conjunto de validação"
      ]
    },
    {
      "cell_type": "code",
      "metadata": {
        "id": "2hRoZP7lAz4_",
        "colab_type": "code",
        "colab": {}
      },
      "source": [
        "# load the weights that yielded the best validation accuracy\n",
        "model.load_weights('model.weights.best.hdf5')"
      ],
      "execution_count": 0,
      "outputs": []
    },
    {
      "cell_type": "markdown",
      "metadata": {
        "id": "oGZZwhU2A08d",
        "colab_type": "text"
      },
      "source": [
        "### **10**. Calcule a acurácia no conjunto de teste"
      ]
    },
    {
      "cell_type": "code",
      "metadata": {
        "id": "pOu79m9dA-5D",
        "colab_type": "code",
        "outputId": "f747af2d-365b-43fc-ecab-e575d06c8966",
        "colab": {
          "base_uri": "https://localhost:8080/",
          "height": 51
        }
      },
      "source": [
        "# evaluate and print test accuracy\n",
        "score = model.evaluate(x_test, y_test, verbose=0)\n",
        "print('\\n', 'Test accuracy:', score[1])"
      ],
      "execution_count": 0,
      "outputs": [
        {
          "output_type": "stream",
          "text": [
            "\n",
            " Test accuracy: 0.7191\n"
          ],
          "name": "stdout"
        }
      ]
    },
    {
      "cell_type": "markdown",
      "metadata": {
        "id": "yb9V707SDIFc",
        "colab_type": "text"
      },
      "source": [
        "### **11**. Informações sobre acurácia no treinamento"
      ]
    },
    {
      "cell_type": "code",
      "metadata": {
        "id": "DkumElTUH622",
        "colab_type": "code",
        "outputId": "7a58e328-84d4-466a-d686-5aaf14e3400d",
        "colab": {
          "base_uri": "https://localhost:8080/",
          "height": 605
        }
      },
      "source": [
        "# evaluate the network\n",
        "print(\"[INFO] evaluating network...\")\n",
        "\n",
        "# get predictions on the test set\n",
        "predictions = model.predict(x_test, batch_size=128)\n",
        "\n",
        "# define text labels (source: https://www.cs.toronto.edu/~kriz/cifar.html)\n",
        "cifar10_labels = ['airplane', 'automobile', 'bird', 'cat', 'deer', 'dog', 'frog', 'horse', 'ship', 'truck']\n",
        "\n",
        "\n",
        "print(classification_report(y_test.argmax(axis=1),\n",
        "predictions.argmax(axis=1),\n",
        "target_names=cifar10_labels))\n",
        "\n",
        "# plot the training loss and accuracy\n",
        "plt.style.use(\"ggplot\")\n",
        "plt.figure()\n",
        "plt.plot(np.arange(0, 20), hist.history[\"loss\"], label=\"train_loss\" )\n",
        "plt.plot(np.arange(0, 20), hist.history[\"val_loss\"], label=\"val_loss\")\n",
        "plt.plot(np.arange(0, 20), hist.history[\"acc\" ], label=\"train_acc\" )\n",
        "plt.plot(np.arange(0, 20), hist.history[\"val_acc\"], label=\"val_acc\")\n",
        "plt.title(\"Training Loss and Accuracy\")\n",
        "plt.xlabel(\"Epoch #\")\n",
        "plt.ylabel(\"Loss/Accuracy\")\n",
        "plt.legend()\n",
        "plt.show()"
      ],
      "execution_count": 0,
      "outputs": [
        {
          "output_type": "stream",
          "text": [
            "[INFO] evaluating network...\n",
            "              precision    recall  f1-score   support\n",
            "\n",
            "    airplane       0.81      0.70      0.75      1000\n",
            "  automobile       0.86      0.86      0.86      1000\n",
            "        bird       0.64      0.57      0.60      1000\n",
            "         cat       0.46      0.59      0.52      1000\n",
            "        deer       0.77      0.57      0.66      1000\n",
            "         dog       0.53      0.73      0.62      1000\n",
            "        frog       0.78      0.82      0.80      1000\n",
            "       horse       0.86      0.68      0.76      1000\n",
            "        ship       0.83      0.85      0.84      1000\n",
            "       truck       0.82      0.80      0.81      1000\n",
            "\n",
            "   micro avg       0.72      0.72      0.72     10000\n",
            "   macro avg       0.74      0.72      0.72     10000\n",
            "weighted avg       0.74      0.72      0.72     10000\n",
            "\n"
          ],
          "name": "stdout"
        },
        {
          "output_type": "display_data",
          "data": {
            "image/png": "[encoded data removed]",
            "text/plain": [
              "<Figure size 432x288 with 1 Axes>"
            ]
          },
          "metadata": {
            "tags": []
          }
        }
      ]
    },
    {
      "cell_type": "markdown",
      "metadata": {
        "id": "ho4GgqvjgG_q",
        "colab_type": "text"
      },
      "source": [
        "**12 - LeNet**"
      ]
    },
    {
      "cell_type": "code",
      "metadata": {
        "id": "6IjOy-QWfa-2",
        "colab_type": "code",
        "outputId": "0b62a044-072e-4a89-f0e8-0afaec925f2b",
        "colab": {
          "base_uri": "https://localhost:8080/",
          "height": 1394
        }
      },
      "source": [
        "checkpointer = ModelCheckpoint(filepath='model.weights.best.hdf5', verbose=1, \n",
        "                               save_best_only=True)\n",
        "hist = model.fit(x_train, y_train, batch_size=128, epochs=20,\n",
        "          validation_data=(x_valid, y_valid), callbacks=[checkpointer], \n",
        "          verbose=2, shuffle=True)"
      ],
      "execution_count": 0,
      "outputs": [
        {
          "output_type": "stream",
          "text": [
            "Train on 45000 samples, validate on 5000 samples\n",
            "Epoch 1/20\n",
            " - 3s - loss: 2.0942 - acc: 0.2462 - val_loss: 1.9170 - val_acc: 0.3192\n",
            "\n",
            "Epoch 00001: val_loss improved from inf to 1.91699, saving model to model.weights.best.hdf5\n",
            "Epoch 2/20\n",
            " - 3s - loss: 1.8356 - acc: 0.3557 - val_loss: 1.7351 - val_acc: 0.3842\n",
            "\n",
            "Epoch 00002: val_loss improved from 1.91699 to 1.73515, saving model to model.weights.best.hdf5\n",
            "Epoch 3/20\n",
            " - 3s - loss: 1.6888 - acc: 0.4024 - val_loss: 1.6080 - val_acc: 0.4322\n",
            "\n",
            "Epoch 00003: val_loss improved from 1.73515 to 1.60798, saving model to model.weights.best.hdf5\n",
            "Epoch 4/20\n",
            " - 3s - loss: 1.5854 - acc: 0.4378 - val_loss: 1.5097 - val_acc: 0.4748\n",
            "\n",
            "Epoch 00004: val_loss improved from 1.60798 to 1.50968, saving model to model.weights.best.hdf5\n",
            "Epoch 5/20\n",
            " - 3s - loss: 1.5138 - acc: 0.4626 - val_loss: 1.4907 - val_acc: 0.4604\n",
            "\n",
            "Epoch 00005: val_loss improved from 1.50968 to 1.49069, saving model to model.weights.best.hdf5\n",
            "Epoch 6/20\n",
            " - 3s - loss: 1.4586 - acc: 0.4836 - val_loss: 1.4054 - val_acc: 0.5004\n",
            "\n",
            "Epoch 00006: val_loss improved from 1.49069 to 1.40539, saving model to model.weights.best.hdf5\n",
            "Epoch 7/20\n",
            " - 3s - loss: 1.4132 - acc: 0.5006 - val_loss: 1.3767 - val_acc: 0.5212\n",
            "\n",
            "Epoch 00007: val_loss improved from 1.40539 to 1.37673, saving model to model.weights.best.hdf5\n",
            "Epoch 8/20\n",
            " - 3s - loss: 1.3604 - acc: 0.5198 - val_loss: 1.4024 - val_acc: 0.5008\n",
            "\n",
            "Epoch 00008: val_loss did not improve from 1.37673\n",
            "Epoch 9/20\n",
            " - 3s - loss: 1.3226 - acc: 0.5346 - val_loss: 1.3071 - val_acc: 0.5416\n",
            "\n",
            "Epoch 00009: val_loss improved from 1.37673 to 1.30707, saving model to model.weights.best.hdf5\n",
            "Epoch 10/20\n",
            " - 3s - loss: 1.2880 - acc: 0.5447 - val_loss: 1.3177 - val_acc: 0.5382\n",
            "\n",
            "Epoch 00010: val_loss did not improve from 1.30707\n",
            "Epoch 11/20\n",
            " - 3s - loss: 1.2566 - acc: 0.5593 - val_loss: 1.2667 - val_acc: 0.5552\n",
            "\n",
            "Epoch 00011: val_loss improved from 1.30707 to 1.26669, saving model to model.weights.best.hdf5\n",
            "Epoch 12/20\n",
            " - 3s - loss: 1.2209 - acc: 0.5727 - val_loss: 1.2491 - val_acc: 0.5600\n",
            "\n",
            "Epoch 00012: val_loss improved from 1.26669 to 1.24914, saving model to model.weights.best.hdf5\n",
            "Epoch 13/20\n",
            " - 3s - loss: 1.1988 - acc: 0.5787 - val_loss: 1.2746 - val_acc: 0.5562\n",
            "\n",
            "Epoch 00013: val_loss did not improve from 1.24914\n",
            "Epoch 14/20\n",
            " - 3s - loss: 1.1708 - acc: 0.5901 - val_loss: 1.2814 - val_acc: 0.5444\n",
            "\n",
            "Epoch 00014: val_loss did not improve from 1.24914\n",
            "Epoch 15/20\n",
            " - 3s - loss: 1.1426 - acc: 0.6003 - val_loss: 1.1929 - val_acc: 0.5778\n",
            "\n",
            "Epoch 00015: val_loss improved from 1.24914 to 1.19287, saving model to model.weights.best.hdf5\n",
            "Epoch 16/20\n",
            " - 3s - loss: 1.1117 - acc: 0.6122 - val_loss: 1.1422 - val_acc: 0.6036\n",
            "\n",
            "Epoch 00016: val_loss improved from 1.19287 to 1.14222, saving model to model.weights.best.hdf5\n",
            "Epoch 17/20\n",
            " - 3s - loss: 1.0861 - acc: 0.6197 - val_loss: 1.1497 - val_acc: 0.5986\n",
            "\n",
            "Epoch 00017: val_loss did not improve from 1.14222\n",
            "Epoch 18/20\n",
            " - 3s - loss: 1.0603 - acc: 0.6324 - val_loss: 1.1344 - val_acc: 0.6128\n",
            "\n",
            "Epoch 00018: val_loss improved from 1.14222 to 1.13442, saving model to model.weights.best.hdf5\n",
            "Epoch 19/20\n",
            " - 3s - loss: 1.0365 - acc: 0.6390 - val_loss: 1.1093 - val_acc: 0.6102\n",
            "\n",
            "Epoch 00019: val_loss improved from 1.13442 to 1.10927, saving model to model.weights.best.hdf5\n",
            "Epoch 20/20\n",
            " - 3s - loss: 1.0092 - acc: 0.6503 - val_loss: 1.1064 - val_acc: 0.6158\n",
            "\n",
            "Epoch 00020: val_loss improved from 1.10927 to 1.10642, saving model to model.weights.best.hdf5\n"
          ],
          "name": "stdout"
        }
      ]
    },
    {
      "cell_type": "code",
      "metadata": {
        "id": "MugEvoM6fyPm",
        "colab_type": "code",
        "colab": {}
      },
      "source": [
        "model.load_weights('model.weights.best.hdf5')"
      ],
      "execution_count": 0,
      "outputs": []
    },
    {
      "cell_type": "code",
      "metadata": {
        "id": "oWeiyp-OfzAB",
        "colab_type": "code",
        "outputId": "945fce77-0dbc-42f5-9dc5-a621568359e0",
        "colab": {
          "base_uri": "https://localhost:8080/",
          "height": 51
        }
      },
      "source": [
        "score = model.evaluate(x_test, y_test, verbose=0)\n",
        "print('\\n', 'Test accuracy:', score[1])"
      ],
      "execution_count": 0,
      "outputs": [
        {
          "output_type": "stream",
          "text": [
            "\n",
            " Test accuracy: 0.5947\n"
          ],
          "name": "stdout"
        }
      ]
    },
    {
      "cell_type": "code",
      "metadata": {
        "id": "VYLVeChKf2MJ",
        "colab_type": "code",
        "outputId": "5ce2e1c9-672b-477f-8901-3aa1d03d3a14",
        "colab": {
          "base_uri": "https://localhost:8080/",
          "height": 605
        }
      },
      "source": [
        "# evaluate the network\n",
        "print(\"[INFO] evaluating network...\")\n",
        "\n",
        "# get predictions on the test set\n",
        "predictions = model.predict(x_test, batch_size=128)\n",
        "\n",
        "# define text labels (source: https://www.cs.toronto.edu/~kriz/cifar.html)\n",
        "cifar10_labels = ['airplane', 'automobile', 'bird', 'cat', 'deer', 'dog', 'frog', 'horse', 'ship', 'truck']\n",
        "\n",
        "\n",
        "print(classification_report(y_test.argmax(axis=1),\n",
        "predictions.argmax(axis=1),\n",
        "target_names=cifar10_labels))\n",
        "\n",
        "# plot the training loss and accuracy\n",
        "plt.style.use(\"ggplot\")\n",
        "plt.figure()\n",
        "plt.plot(np.arange(0, 20), hist.history[\"loss\"], label=\"train_loss\" )\n",
        "plt.plot(np.arange(0, 20), hist.history[\"val_loss\"], label=\"val_loss\")\n",
        "plt.plot(np.arange(0, 20), hist.history[\"acc\" ], label=\"train_acc\" )\n",
        "plt.plot(np.arange(0, 20), hist.history[\"val_acc\"], label=\"val_acc\")\n",
        "plt.title(\"Training Loss and Accuracy\")\n",
        "plt.xlabel(\"Epoch #\")\n",
        "plt.ylabel(\"Loss/Accuracy\")\n",
        "plt.legend()\n",
        "plt.show()"
      ],
      "execution_count": 0,
      "outputs": [
        {
          "output_type": "stream",
          "text": [
            "[INFO] evaluating network...\n",
            "              precision    recall  f1-score   support\n",
            "\n",
            "    airplane       0.54      0.81      0.64      1000\n",
            "  automobile       0.80      0.65      0.72      1000\n",
            "        bird       0.39      0.62      0.48      1000\n",
            "         cat       0.48      0.29      0.36      1000\n",
            "        deer       0.58      0.44      0.50      1000\n",
            "         dog       0.62      0.40      0.48      1000\n",
            "        frog       0.62      0.76      0.68      1000\n",
            "       horse       0.76      0.60      0.67      1000\n",
            "        ship       0.70      0.72      0.71      1000\n",
            "       truck       0.64      0.67      0.66      1000\n",
            "\n",
            "   micro avg       0.59      0.59      0.59     10000\n",
            "   macro avg       0.61      0.59      0.59     10000\n",
            "weighted avg       0.61      0.59      0.59     10000\n",
            "\n"
          ],
          "name": "stdout"
        },
        {
          "output_type": "display_data",
          "data": {
            "image/png": "[encoded data removed]",
            "text/plain": [
              "<Figure size 432x288 with 1 Axes>"
            ]
          },
          "metadata": {
            "tags": []
          }
        }
      ]
    },
    {
      "cell_type": "code",
      "metadata": {
        "id": "roNu_4QmhfyP",
        "colab_type": "code",
        "colab": {}
      },
      "source": [
        "from keras.models import Sequential\n",
        "from keras.layers.core import Flatten, Dense, Dropout\n",
        "from keras.layers.convolutional import Convolution2D, MaxPooling2D, ZeroPadding2D\n",
        "from keras.optimizers import SGD\n",
        "import cv2, numpy as np\n",
        "\n",
        "def VGG_16(weights_path=None):\n",
        "    model = Sequential()\n",
        "    model.add(ZeroPadding2D((1,1),input_shape=(3,224,224)))\n",
        "    model.add(Convolution2D(64, 3, 3, activation='relu'))\n",
        "    model.add(ZeroPadding2D((1,1)))\n",
        "    model.add(Convolution2D(64, 3, 3, activation='relu'))\n",
        "    model.add(MaxPooling2D((2,2), strides=(2,2)))\n",
        "\n",
        "    model.add(ZeroPadding2D((1,1)))\n",
        "    model.add(Convolution2D(128, 3, 3, activation='relu'))\n",
        "    model.add(ZeroPadding2D((1,1)))\n",
        "    model.add(Convolution2D(128, 3, 3, activation='relu'))\n",
        "    model.add(MaxPooling2D((2,2), strides=(2,2)))\n",
        "\n",
        "    model.add(ZeroPadding2D((1,1)))\n",
        "    model.add(Convolution2D(256, 3, 3, activation='relu'))\n",
        "    model.add(ZeroPadding2D((1,1)))\n",
        "    model.add(Convolution2D(256, 3, 3, activation='relu'))\n",
        "    model.add(ZeroPadding2D((1,1)))\n",
        "    model.add(Convolution2D(256, 3, 3, activation='relu'))\n",
        "    model.add(MaxPooling2D((2,2), strides=(2,2)))\n",
        "\n",
        "    model.add(ZeroPadding2D((1,1)))\n",
        "    model.add(Convolution2D(512, 3, 3, activation='relu'))\n",
        "    model.add(ZeroPadding2D((1,1)))\n",
        "    model.add(Convolution2D(512, 3, 3, activation='relu'))\n",
        "    model.add(ZeroPadding2D((1,1)))\n",
        "    model.add(Convolution2D(512, 3, 3, activation='relu'))\n",
        "    model.add(MaxPooling2D((2,2), strides=(2,2)))\n",
        "\n",
        "    model.add(ZeroPadding2D((1,1)))\n",
        "    model.add(Convolution2D(512, 3, 3, activation='relu'))\n",
        "    model.add(ZeroPadding2D((1,1)))\n",
        "    model.add(Convolution2D(512, 3, 3, activation='relu'))\n",
        "    model.add(ZeroPadding2D((1,1)))\n",
        "    model.add(Convolution2D(512, 3, 3, activation='relu'))\n",
        "    model.add(MaxPooling2D((2,2), strides=(2,2)))\n",
        "\n",
        "    model.add(Flatten())\n",
        "    model.add(Dense(4096, activation='relu'))\n",
        "    model.add(Dropout(0.5))\n",
        "    model.add(Dense(4096, activation='relu'))\n",
        "    model.add(Dropout(0.5))\n",
        "    model.add(Dense(1000, activation='softmax'))\n",
        "\n",
        "    if weights_path:\n",
        "        model.load_weights(weights_path)\n",
        "\n",
        "    return model"
      ],
      "execution_count": 0,
      "outputs": []
    },
    {
      "cell_type": "code",
      "metadata": {
        "id": "AYBc5CSUjl2n",
        "colab_type": "code",
        "outputId": "a86f92df-8e38-4865-9b19-2949ecbc1816",
        "colab": {
          "base_uri": "https://localhost:8080/",
          "height": 884
        }
      },
      "source": [
        "from keras.models import Sequential\n",
        "from keras.layers import Dense, Activation, Dropout, Flatten\n",
        "from keras.layers import Conv2D\n",
        "from keras.layers import MaxPooling2D\n",
        "\n",
        "input_shape = (32, 32, 3)\n",
        "\n",
        "#Instantiate an empty model\n",
        "model = Sequential([\n",
        "Conv2D(64, (3, 3), input_shape=input_shape, padding='same', activation='relu'),\n",
        "Conv2D(64, (3, 3), activation='relu', padding='same'),\n",
        "MaxPooling2D(pool_size=(2, 2), strides=(2, 2)),\n",
        "Conv2D(128, (3, 3), activation='relu', padding='same'),\n",
        "Conv2D(128, (3, 3), activation='relu', padding='same',),\n",
        "MaxPooling2D(pool_size=(2, 2), strides=(2, 2)),\n",
        "Conv2D(256, (3, 3), activation='relu', padding='same',),\n",
        "Conv2D(256, (3, 3), activation='relu', padding='same',),\n",
        "Conv2D(256, (3, 3), activation='relu', padding='same',),\n",
        "MaxPooling2D(pool_size=(2, 2), strides=(2, 2)),\n",
        "Conv2D(512, (3, 3), activation='relu', padding='same',),\n",
        "Conv2D(512, (3, 3), activation='relu', padding='same',),\n",
        "Conv2D(512, (3, 3), activation='relu', padding='same',),\n",
        "MaxPooling2D(pool_size=(2, 2), strides=(2, 2)),\n",
        "Conv2D(512, (3, 3), activation='relu', padding='same',),\n",
        "Conv2D(512, (3, 3), activation='relu', padding='same',),\n",
        "Conv2D(512, (3, 3), activation='relu', padding='same',),\n",
        "MaxPooling2D(pool_size=(2, 2), strides=(2, 2)),\n",
        "Flatten(),\n",
        "Dense(4096, activation='relu'),\n",
        "Dense(4096, activation='relu'),\n",
        "Dense(10, activation='softmax')\n",
        "])\n",
        "\n",
        "model.summary()\n",
        "\n",
        "# Compile the model\n",
        "model.compile(loss=keras.losses.categorical_crossentropy, optimizer='adam', metrics=[\"accuracy\"])\n",
        "\n"
      ],
      "execution_count": 0,
      "outputs": [
        {
          "output_type": "stream",
          "text": [
            "_________________________________________________________________\n",
            "Layer (type)                 Output Shape              Param #   \n",
            "=================================================================\n",
            "conv2d_54 (Conv2D)           (None, 32, 32, 64)        1792      \n",
            "_________________________________________________________________\n",
            "conv2d_55 (Conv2D)           (None, 32, 32, 64)        36928     \n",
            "_________________________________________________________________\n",
            "max_pooling2d_24 (MaxPooling (None, 16, 16, 64)        0         \n",
            "_________________________________________________________________\n",
            "conv2d_56 (Conv2D)           (None, 16, 16, 128)       73856     \n",
            "_________________________________________________________________\n",
            "conv2d_57 (Conv2D)           (None, 16, 16, 128)       147584    \n",
            "_________________________________________________________________\n",
            "max_pooling2d_25 (MaxPooling (None, 8, 8, 128)         0         \n",
            "_________________________________________________________________\n",
            "conv2d_58 (Conv2D)           (None, 8, 8, 256)         295168    \n",
            "_________________________________________________________________\n",
            "conv2d_59 (Conv2D)           (None, 8, 8, 256)         590080    \n",
            "_________________________________________________________________\n",
            "conv2d_60 (Conv2D)           (None, 8, 8, 256)         590080    \n",
            "_________________________________________________________________\n",
            "max_pooling2d_26 (MaxPooling (None, 4, 4, 256)         0         \n",
            "_________________________________________________________________\n",
            "conv2d_61 (Conv2D)           (None, 4, 4, 512)         1180160   \n",
            "_________________________________________________________________\n",
            "conv2d_62 (Conv2D)           (None, 4, 4, 512)         2359808   \n",
            "_________________________________________________________________\n",
            "conv2d_63 (Conv2D)           (None, 4, 4, 512)         2359808   \n",
            "_________________________________________________________________\n",
            "max_pooling2d_27 (MaxPooling (None, 2, 2, 512)         0         \n",
            "_________________________________________________________________\n",
            "conv2d_64 (Conv2D)           (None, 2, 2, 512)         2359808   \n",
            "_________________________________________________________________\n",
            "conv2d_65 (Conv2D)           (None, 2, 2, 512)         2359808   \n",
            "_________________________________________________________________\n",
            "conv2d_66 (Conv2D)           (None, 2, 2, 512)         2359808   \n",
            "_________________________________________________________________\n",
            "max_pooling2d_28 (MaxPooling (None, 1, 1, 512)         0         \n",
            "_________________________________________________________________\n",
            "flatten_6 (Flatten)          (None, 512)               0         \n",
            "_________________________________________________________________\n",
            "dense_14 (Dense)             (None, 4096)              2101248   \n",
            "_________________________________________________________________\n",
            "dense_15 (Dense)             (None, 4096)              16781312  \n",
            "_________________________________________________________________\n",
            "dense_16 (Dense)             (None, 10)                40970     \n",
            "=================================================================\n",
            "Total params: 33,638,218\n",
            "Trainable params: 33,638,218\n",
            "Non-trainable params: 0\n",
            "_________________________________________________________________\n"
          ],
          "name": "stdout"
        }
      ]
    },
    {
      "cell_type": "code",
      "metadata": {
        "id": "UZuUmLXih1u_",
        "colab_type": "code",
        "colab": {}
      },
      "source": [
        "opt = SGD(lr=0.01)\n",
        "model.compile(loss='categorical_crossentropy', optimizer=opt, \n",
        "                  metrics=['accuracy'])"
      ],
      "execution_count": 0,
      "outputs": []
    },
    {
      "cell_type": "code",
      "metadata": {
        "id": "VbpyiloNkgq3",
        "colab_type": "code",
        "outputId": "09a06558-c7a6-400a-f66e-bb3796ae4019",
        "colab": {
          "base_uri": "https://localhost:8080/",
          "height": 1394
        }
      },
      "source": [
        "checkpointer = ModelCheckpoint(filepath='model.weights.best.hdf5', verbose=1, \n",
        "                               save_best_only=True)\n",
        "hist = model.fit(x_train, y_train, batch_size=128, epochs=20,\n",
        "          validation_data=(x_valid, y_valid), callbacks=[checkpointer], \n",
        "          verbose=2, shuffle=True)"
      ],
      "execution_count": 0,
      "outputs": [
        {
          "output_type": "stream",
          "text": [
            "Train on 45000 samples, validate on 5000 samples\n",
            "Epoch 1/20\n",
            " - 34s - loss: 2.3256 - acc: 0.1000 - val_loss: 2.3028 - val_acc: 0.0972\n",
            "\n",
            "Epoch 00001: val_loss improved from inf to 2.30277, saving model to model.weights.best.hdf5\n",
            "Epoch 2/20\n",
            " - 28s - loss: 2.3027 - acc: 0.0988 - val_loss: 2.3027 - val_acc: 0.0972\n",
            "\n",
            "Epoch 00002: val_loss improved from 2.30277 to 2.30274, saving model to model.weights.best.hdf5\n",
            "Epoch 3/20\n",
            " - 28s - loss: 2.3027 - acc: 0.0985 - val_loss: 2.3028 - val_acc: 0.0920\n",
            "\n",
            "Epoch 00003: val_loss did not improve from 2.30274\n",
            "Epoch 4/20\n",
            " - 28s - loss: 2.3027 - acc: 0.0994 - val_loss: 2.3028 - val_acc: 0.0920\n",
            "\n",
            "Epoch 00004: val_loss did not improve from 2.30274\n",
            "Epoch 5/20\n",
            " - 28s - loss: 2.3027 - acc: 0.0981 - val_loss: 2.3027 - val_acc: 0.0920\n",
            "\n",
            "Epoch 00005: val_loss did not improve from 2.30274\n",
            "Epoch 6/20\n",
            " - 28s - loss: 2.3027 - acc: 0.1006 - val_loss: 2.3028 - val_acc: 0.0920\n",
            "\n",
            "Epoch 00006: val_loss did not improve from 2.30274\n",
            "Epoch 7/20\n",
            " - 28s - loss: 2.3027 - acc: 0.0996 - val_loss: 2.3028 - val_acc: 0.0920\n",
            "\n",
            "Epoch 00007: val_loss did not improve from 2.30274\n",
            "Epoch 8/20\n",
            " - 28s - loss: 2.3027 - acc: 0.0997 - val_loss: 2.3028 - val_acc: 0.0920\n",
            "\n",
            "Epoch 00008: val_loss did not improve from 2.30274\n",
            "Epoch 9/20\n",
            " - 28s - loss: 2.3027 - acc: 0.0978 - val_loss: 2.3027 - val_acc: 0.1010\n",
            "\n",
            "Epoch 00009: val_loss improved from 2.30274 to 2.30269, saving model to model.weights.best.hdf5\n",
            "Epoch 10/20\n",
            " - 28s - loss: 2.3027 - acc: 0.0998 - val_loss: 2.3028 - val_acc: 0.0972\n",
            "\n",
            "Epoch 00010: val_loss did not improve from 2.30269\n",
            "Epoch 11/20\n",
            " - 28s - loss: 2.3027 - acc: 0.1001 - val_loss: 2.3027 - val_acc: 0.0972\n",
            "\n",
            "Epoch 00011: val_loss improved from 2.30269 to 2.30266, saving model to model.weights.best.hdf5\n",
            "Epoch 12/20\n",
            " - 28s - loss: 2.3027 - acc: 0.0980 - val_loss: 2.3028 - val_acc: 0.0972\n",
            "\n",
            "Epoch 00012: val_loss did not improve from 2.30266\n",
            "Epoch 13/20\n",
            " - 28s - loss: 2.3027 - acc: 0.0980 - val_loss: 2.3028 - val_acc: 0.0972\n",
            "\n",
            "Epoch 00013: val_loss did not improve from 2.30266\n",
            "Epoch 14/20\n",
            " - 28s - loss: 2.3027 - acc: 0.0974 - val_loss: 2.3028 - val_acc: 0.0920\n",
            "\n",
            "Epoch 00014: val_loss did not improve from 2.30266\n",
            "Epoch 15/20\n",
            " - 28s - loss: 2.3027 - acc: 0.0981 - val_loss: 2.3028 - val_acc: 0.0920\n",
            "\n",
            "Epoch 00015: val_loss did not improve from 2.30266\n",
            "Epoch 16/20\n",
            " - 28s - loss: 2.3027 - acc: 0.0987 - val_loss: 2.3028 - val_acc: 0.0920\n",
            "\n",
            "Epoch 00016: val_loss did not improve from 2.30266\n",
            "Epoch 17/20\n",
            " - 28s - loss: 2.3027 - acc: 0.1000 - val_loss: 2.3027 - val_acc: 0.0972\n",
            "\n",
            "Epoch 00017: val_loss did not improve from 2.30266\n",
            "Epoch 18/20\n",
            " - 28s - loss: 2.3027 - acc: 0.0984 - val_loss: 2.3028 - val_acc: 0.0996\n",
            "\n",
            "Epoch 00018: val_loss did not improve from 2.30266\n",
            "Epoch 19/20\n",
            " - 28s - loss: 2.3027 - acc: 0.0960 - val_loss: 2.3029 - val_acc: 0.0920\n",
            "\n",
            "Epoch 00019: val_loss did not improve from 2.30266\n",
            "Epoch 20/20\n",
            " - 28s - loss: 2.3027 - acc: 0.1001 - val_loss: 2.3027 - val_acc: 0.0920\n",
            "\n",
            "Epoch 00020: val_loss did not improve from 2.30266\n"
          ],
          "name": "stdout"
        }
      ]
    },
    {
      "cell_type": "markdown",
      "metadata": {
        "id": "KtsNOi--O0dT",
        "colab_type": "text"
      },
      "source": [
        "##Exercício\n",
        "\n",
        "1. Compare a arquitetura criada LENET com a AlexNet. Quais são as principais diferenças? Formule uma nova arquitetura da AlexNet.\n",
        "\n",
        "2. Compare a arquitetura criada MiniVGG com a VGG16. Quais são as principais diferenças? Formule uma nova arquitetura VGG16."
      ]
    },
    {
      "cell_type": "markdown",
      "metadata": {
        "id": "P1gFrncfhOVX",
        "colab_type": "text"
      },
      "source": [
        "1 - A lenet possui 8 camadas, enquanto a Alexnet possui 15.  A lenet aumenta gradualmente a quantidade e tamanho de seus filtros, enquanto a Alexnet ja inicializa com 96 filtros de tamanho 55x55 e vai gradualmente diminuindo de tamanho e aumento na quantidade de filtros.\n",
        "\n",
        "2 - A implementação da MiniVGG possui a metade da quantidade de filtros da proposta pela VGG16 nas duas camadas iniciais (32 MiniVGG e 64 VGG16 respectivamente). Nota-se também a presença de camandas de batch normalization após as camadas convolutivas. Também fica evidenciado a utilização de camadas com menos de 128 filtros e a ausência de camadas totalmente conectadas. \n",
        "\n",
        " "
      ]
    },
    {
      "cell_type": "markdown",
      "metadata": {
        "id": "EatsMTIgjWuj",
        "colab_type": "text"
      },
      "source": [
        "# **MiniVgg2**"
      ]
    },
    {
      "cell_type": "code",
      "metadata": {
        "id": "yLjGMeC3moUC",
        "colab_type": "code",
        "colab": {}
      },
      "source": [
        "from keras.layers.normalization import BatchNormalization\n",
        "from keras.layers.core import Dropout\n",
        "\n",
        "def build_NewMiniVGG(width, height, depth, classes):\n",
        "  # initialize the model\n",
        "  model = Sequential()\n",
        "  inputShape = (height, width, depth)\n",
        "  model.add(Conv2D(32, (3, 3), padding=\"same\",\n",
        "  input_shape=inputShape))\n",
        "  model.add(Activation(\"relu\"))\n",
        "  model.add(BatchNormalization(axis=2))\n",
        "  model.add(Conv2D(64, (3, 3), padding=\"same\"))\n",
        "  model.add(Activation(\"relu\"))\n",
        "  model.add(BatchNormalization(axis=2))\n",
        "  model.add(MaxPooling2D(pool_size=(2, 2)))\n",
        "  model.add(Dropout(0.25))\n",
        "  \n",
        "  # second CONV => RELU => CONV => RELU => POOL layer set\n",
        "  model.add(Conv2D(64, (3, 3), padding=\"same\"))\n",
        "  model.add(Activation(\"relu\"))\n",
        "  model.add(BatchNormalization(axis=2))\n",
        "  model.add(Conv2D(128, (3, 3), padding=\"same\"))\n",
        "  model.add(Activation(\"relu\"))\n",
        "  model.add(BatchNormalization(axis=2))\n",
        "  model.add(MaxPooling2D(pool_size=(2, 2)))\n",
        "  model.add(Dropout(0.25))\n",
        "  \n",
        "  # third CONV => RELU => CONV => RELU => CONV => RELU => POOL layer set\n",
        "  model.add(Conv2D(256, (3, 3), padding=\"same\"))\n",
        "  model.add(Activation(\"relu\"))\n",
        "  model.add(BatchNormalization(axis=2))\n",
        "  model.add(Conv2D(512, (3, 3), padding=\"same\"))\n",
        "  model.add(Activation(\"relu\"))\n",
        "  model.add(BatchNormalization(axis=2))\n",
        "  model.add(Conv2D(512, (3, 3), padding=\"same\"))\n",
        "  model.add(Activation(\"relu\"))\n",
        "  model.add(BatchNormalization(axis=2))\n",
        "  model.add(MaxPooling2D(pool_size=(2, 2)))\n",
        "  model.add(Dropout(0.25))\n",
        "  \n",
        "  # first (and only) set of FC => RELU layers\n",
        "  model.add(Flatten())\n",
        "  model.add(Dense(512))\n",
        "  model.add(Activation(\"relu\"))\n",
        "  model.add(BatchNormalization())\n",
        "  model.add(Dropout(0.5))\n",
        "  \n",
        "  # softmax classifier\n",
        "  model.add(Dense(classes))\n",
        "  model.add(Activation(\"softmax\"))\n",
        "  \n",
        "  model.summary()\n",
        "  \n",
        "  # return the constructed network architecture\n",
        "  return model"
      ],
      "execution_count": 0,
      "outputs": []
    },
    {
      "cell_type": "code",
      "metadata": {
        "id": "R4SxlYKljpDp",
        "colab_type": "code",
        "colab": {
          "base_uri": "https://localhost:8080/",
          "height": 1444
        },
        "outputId": "03b065e4-e0c2-41a7-f3e1-53488b12d9bf"
      },
      "source": [
        "opt = SGD(lr=0.01)\n",
        "model = build_NewMiniVGG(width=32, height=32, depth=3, classes=10)\n",
        "model.compile(loss='categorical_crossentropy', optimizer=opt, \n",
        "                  metrics=['accuracy'])"
      ],
      "execution_count": 6,
      "outputs": [
        {
          "output_type": "stream",
          "text": [
            "WARNING:tensorflow:From /usr/local/lib/python3.6/dist-packages/tensorflow/python/framework/op_def_library.py:263: colocate_with (from tensorflow.python.framework.ops) is deprecated and will be removed in a future version.\n",
            "Instructions for updating:\n",
            "Colocations handled automatically by placer.\n",
            "WARNING:tensorflow:From /usr/local/lib/python3.6/dist-packages/keras/backend/tensorflow_backend.py:3445: calling dropout (from tensorflow.python.ops.nn_ops) with keep_prob is deprecated and will be removed in a future version.\n",
            "Instructions for updating:\n",
            "Please use `rate` instead of `keep_prob`. Rate should be set to `rate = 1 - keep_prob`.\n",
            "_________________________________________________________________\n",
            "Layer (type)                 Output Shape              Param #   \n",
            "=================================================================\n",
            "conv2d_1 (Conv2D)            (None, 32, 32, 32)        896       \n",
            "_________________________________________________________________\n",
            "activation_1 (Activation)    (None, 32, 32, 32)        0         \n",
            "_________________________________________________________________\n",
            "batch_normalization_1 (Batch (None, 32, 32, 32)        128       \n",
            "_________________________________________________________________\n",
            "conv2d_2 (Conv2D)            (None, 32, 32, 64)        18496     \n",
            "_________________________________________________________________\n",
            "activation_2 (Activation)    (None, 32, 32, 64)        0         \n",
            "_________________________________________________________________\n",
            "batch_normalization_2 (Batch (None, 32, 32, 64)        128       \n",
            "_________________________________________________________________\n",
            "max_pooling2d_1 (MaxPooling2 (None, 16, 16, 64)        0         \n",
            "_________________________________________________________________\n",
            "dropout_1 (Dropout)          (None, 16, 16, 64)        0         \n",
            "_________________________________________________________________\n",
            "conv2d_3 (Conv2D)            (None, 16, 16, 64)        36928     \n",
            "_________________________________________________________________\n",
            "activation_3 (Activation)    (None, 16, 16, 64)        0         \n",
            "_________________________________________________________________\n",
            "batch_normalization_3 (Batch (None, 16, 16, 64)        64        \n",
            "_________________________________________________________________\n",
            "conv2d_4 (Conv2D)            (None, 16, 16, 128)       73856     \n",
            "_________________________________________________________________\n",
            "activation_4 (Activation)    (None, 16, 16, 128)       0         \n",
            "_________________________________________________________________\n",
            "batch_normalization_4 (Batch (None, 16, 16, 128)       64        \n",
            "_________________________________________________________________\n",
            "max_pooling2d_2 (MaxPooling2 (None, 8, 8, 128)         0         \n",
            "_________________________________________________________________\n",
            "dropout_2 (Dropout)          (None, 8, 8, 128)         0         \n",
            "_________________________________________________________________\n",
            "conv2d_5 (Conv2D)            (None, 8, 8, 256)         295168    \n",
            "_________________________________________________________________\n",
            "activation_5 (Activation)    (None, 8, 8, 256)         0         \n",
            "_________________________________________________________________\n",
            "batch_normalization_5 (Batch (None, 8, 8, 256)         32        \n",
            "_________________________________________________________________\n",
            "conv2d_6 (Conv2D)            (None, 8, 8, 512)         1180160   \n",
            "_________________________________________________________________\n",
            "activation_6 (Activation)    (None, 8, 8, 512)         0         \n",
            "_________________________________________________________________\n",
            "batch_normalization_6 (Batch (None, 8, 8, 512)         32        \n",
            "_________________________________________________________________\n",
            "conv2d_7 (Conv2D)            (None, 8, 8, 512)         2359808   \n",
            "_________________________________________________________________\n",
            "activation_7 (Activation)    (None, 8, 8, 512)         0         \n",
            "_________________________________________________________________\n",
            "batch_normalization_7 (Batch (None, 8, 8, 512)         32        \n",
            "_________________________________________________________________\n",
            "max_pooling2d_3 (MaxPooling2 (None, 4, 4, 512)         0         \n",
            "_________________________________________________________________\n",
            "dropout_3 (Dropout)          (None, 4, 4, 512)         0         \n",
            "_________________________________________________________________\n",
            "flatten_1 (Flatten)          (None, 8192)              0         \n",
            "_________________________________________________________________\n",
            "dense_1 (Dense)              (None, 512)               4194816   \n",
            "_________________________________________________________________\n",
            "activation_8 (Activation)    (None, 512)               0         \n",
            "_________________________________________________________________\n",
            "batch_normalization_8 (Batch (None, 512)               2048      \n",
            "_________________________________________________________________\n",
            "dropout_4 (Dropout)          (None, 512)               0         \n",
            "_________________________________________________________________\n",
            "dense_2 (Dense)              (None, 10)                5130      \n",
            "_________________________________________________________________\n",
            "activation_9 (Activation)    (None, 10)                0         \n",
            "=================================================================\n",
            "Total params: 8,167,786\n",
            "Trainable params: 8,166,522\n",
            "Non-trainable params: 1,264\n",
            "_________________________________________________________________\n"
          ],
          "name": "stdout"
        }
      ]
    },
    {
      "cell_type": "code",
      "metadata": {
        "id": "9ttw1ZLQjuhg",
        "colab_type": "code",
        "colab": {
          "base_uri": "https://localhost:8080/",
          "height": 1476
        },
        "outputId": "d06c2482-d667-4e0b-eaf8-474975775404"
      },
      "source": [
        "from keras.callbacks import ModelCheckpoint   \n",
        "\n",
        "# train the model\n",
        "checkpointer = ModelCheckpoint(filepath='model.weights.best.newvgg.hdf5', verbose=1, \n",
        "                               save_best_only=True)\n",
        "hist = model.fit(x_train, y_train, batch_size=128, epochs=20,\n",
        "          validation_data=(x_valid, y_valid), callbacks=[checkpointer], \n",
        "          verbose=2, shuffle=True)"
      ],
      "execution_count": 7,
      "outputs": [
        {
          "output_type": "stream",
          "text": [
            "WARNING:tensorflow:From /usr/local/lib/python3.6/dist-packages/tensorflow/python/ops/math_ops.py:3066: to_int32 (from tensorflow.python.ops.math_ops) is deprecated and will be removed in a future version.\n",
            "Instructions for updating:\n",
            "Use tf.cast instead.\n",
            "Train on 45000 samples, validate on 5000 samples\n",
            "Epoch 1/20\n",
            " - 34s - loss: 2.1814 - acc: 0.2933 - val_loss: 2.1720 - val_acc: 0.2880\n",
            "\n",
            "Epoch 00001: val_loss improved from inf to 2.17203, saving model to model.weights.best.newvgg.hdf5\n",
            "Epoch 2/20\n",
            " - 26s - loss: 1.6443 - acc: 0.4307 - val_loss: 1.4622 - val_acc: 0.4806\n",
            "\n",
            "Epoch 00002: val_loss improved from 2.17203 to 1.46220, saving model to model.weights.best.newvgg.hdf5\n",
            "Epoch 3/20\n",
            " - 26s - loss: 1.4165 - acc: 0.5049 - val_loss: 1.3166 - val_acc: 0.5224\n",
            "\n",
            "Epoch 00003: val_loss improved from 1.46220 to 1.31660, saving model to model.weights.best.newvgg.hdf5\n",
            "Epoch 4/20\n",
            " - 26s - loss: 1.2604 - acc: 0.5536 - val_loss: 1.1021 - val_acc: 0.6052\n",
            "\n",
            "Epoch 00004: val_loss improved from 1.31660 to 1.10213, saving model to model.weights.best.newvgg.hdf5\n",
            "Epoch 5/20\n",
            " - 26s - loss: 1.1305 - acc: 0.6004 - val_loss: 1.1501 - val_acc: 0.6034\n",
            "\n",
            "Epoch 00005: val_loss did not improve from 1.10213\n",
            "Epoch 6/20\n",
            " - 26s - loss: 1.0300 - acc: 0.6377 - val_loss: 0.9767 - val_acc: 0.6488\n",
            "\n",
            "Epoch 00006: val_loss improved from 1.10213 to 0.97671, saving model to model.weights.best.newvgg.hdf5\n",
            "Epoch 7/20\n",
            " - 26s - loss: 0.9544 - acc: 0.6630 - val_loss: 0.9334 - val_acc: 0.6660\n",
            "\n",
            "Epoch 00007: val_loss improved from 0.97671 to 0.93343, saving model to model.weights.best.newvgg.hdf5\n",
            "Epoch 8/20\n",
            " - 27s - loss: 0.8866 - acc: 0.6847 - val_loss: 0.8261 - val_acc: 0.7046\n",
            "\n",
            "Epoch 00008: val_loss improved from 0.93343 to 0.82609, saving model to model.weights.best.newvgg.hdf5\n",
            "Epoch 9/20\n",
            " - 27s - loss: 0.8336 - acc: 0.7069 - val_loss: 0.8746 - val_acc: 0.6998\n",
            "\n",
            "Epoch 00009: val_loss did not improve from 0.82609\n",
            "Epoch 10/20\n",
            " - 27s - loss: 0.7911 - acc: 0.7208 - val_loss: 0.8290 - val_acc: 0.7076\n",
            "\n",
            "Epoch 00010: val_loss did not improve from 0.82609\n",
            "Epoch 11/20\n",
            " - 27s - loss: 0.7468 - acc: 0.7381 - val_loss: 0.7769 - val_acc: 0.7290\n",
            "\n",
            "Epoch 00011: val_loss improved from 0.82609 to 0.77695, saving model to model.weights.best.newvgg.hdf5\n",
            "Epoch 12/20\n",
            " - 27s - loss: 0.7119 - acc: 0.7506 - val_loss: 0.7289 - val_acc: 0.7454\n",
            "\n",
            "Epoch 00012: val_loss improved from 0.77695 to 0.72890, saving model to model.weights.best.newvgg.hdf5\n",
            "Epoch 13/20\n",
            " - 27s - loss: 0.6754 - acc: 0.7636 - val_loss: 0.6722 - val_acc: 0.7614\n",
            "\n",
            "Epoch 00013: val_loss improved from 0.72890 to 0.67219, saving model to model.weights.best.newvgg.hdf5\n",
            "Epoch 14/20\n",
            " - 27s - loss: 0.6480 - acc: 0.7720 - val_loss: 0.6954 - val_acc: 0.7538\n",
            "\n",
            "Epoch 00014: val_loss did not improve from 0.67219\n",
            "Epoch 15/20\n",
            " - 27s - loss: 0.6179 - acc: 0.7824 - val_loss: 0.6950 - val_acc: 0.7604\n",
            "\n",
            "Epoch 00015: val_loss did not improve from 0.67219\n",
            "Epoch 16/20\n",
            " - 27s - loss: 0.5917 - acc: 0.7916 - val_loss: 0.5969 - val_acc: 0.7914\n",
            "\n",
            "Epoch 00016: val_loss improved from 0.67219 to 0.59690, saving model to model.weights.best.newvgg.hdf5\n",
            "Epoch 17/20\n",
            " - 27s - loss: 0.5674 - acc: 0.7989 - val_loss: 0.6903 - val_acc: 0.7582\n",
            "\n",
            "Epoch 00017: val_loss did not improve from 0.59690\n",
            "Epoch 18/20\n",
            " - 27s - loss: 0.5453 - acc: 0.8078 - val_loss: 0.5873 - val_acc: 0.7950\n",
            "\n",
            "Epoch 00018: val_loss improved from 0.59690 to 0.58729, saving model to model.weights.best.newvgg.hdf5\n",
            "Epoch 19/20\n",
            " - 27s - loss: 0.5153 - acc: 0.8178 - val_loss: 0.5671 - val_acc: 0.8036\n",
            "\n",
            "Epoch 00019: val_loss improved from 0.58729 to 0.56707, saving model to model.weights.best.newvgg.hdf5\n",
            "Epoch 20/20\n",
            " - 27s - loss: 0.4989 - acc: 0.8257 - val_loss: 0.5903 - val_acc: 0.7996\n",
            "\n",
            "Epoch 00020: val_loss did not improve from 0.56707\n"
          ],
          "name": "stdout"
        }
      ]
    },
    {
      "cell_type": "code",
      "metadata": {
        "id": "JVsWtzqMj2rA",
        "colab_type": "code",
        "colab": {}
      },
      "source": [
        "model.load_weights('model.weights.best.newvgg.hdf5')"
      ],
      "execution_count": 0,
      "outputs": []
    },
    {
      "cell_type": "code",
      "metadata": {
        "id": "7kaNvjmHj4xv",
        "colab_type": "code",
        "colab": {
          "base_uri": "https://localhost:8080/",
          "height": 52
        },
        "outputId": "b6266192-3d32-4610-8891-6e0a7a690679"
      },
      "source": [
        "\n",
        "score = model.evaluate(x_test, y_test, verbose=0)\n",
        "print('\\n', 'Test accuracy:', score[1])"
      ],
      "execution_count": 9,
      "outputs": [
        {
          "output_type": "stream",
          "text": [
            "\n",
            " Test accuracy: 0.7904\n"
          ],
          "name": "stdout"
        }
      ]
    },
    {
      "cell_type": "code",
      "metadata": {
        "id": "XXSW-jvjj637",
        "colab_type": "code",
        "colab": {
          "base_uri": "https://localhost:8080/",
          "height": 612
        },
        "outputId": "d3e9d19c-8ea1-438b-fcb3-b8d21ade73d9"
      },
      "source": [
        "# evaluate the network\n",
        "print(\"[INFO] evaluating network...\")\n",
        "\n",
        "# get predictions on the test set\n",
        "predictions = model.predict(x_test, batch_size=128)\n",
        "\n",
        "# define text labels (source: https://www.cs.toronto.edu/~kriz/cifar.html)\n",
        "cifar10_labels = ['airplane', 'automobile', 'bird', 'cat', 'deer', 'dog', 'frog',\n",
        "                  'horse', 'ship', 'truck']\n",
        "\n",
        "\n",
        "print(classification_report(y_test.argmax(axis=1),\n",
        "predictions.argmax(axis=1),\n",
        "target_names=cifar10_labels))\n",
        "\n",
        "# plot the training loss and accuracy\n",
        "plt.style.use(\"ggplot\")\n",
        "plt.figure()\n",
        "plt.plot(np.arange(0, 20), hist.history[\"loss\"], label=\"train_loss\" )\n",
        "plt.plot(np.arange(0, 20), hist.history[\"val_loss\"], label=\"val_loss\")\n",
        "plt.plot(np.arange(0, 20), hist.history[\"acc\" ], label=\"train_acc\" )\n",
        "plt.plot(np.arange(0, 20), hist.history[\"val_acc\"], label=\"val_acc\")\n",
        "plt.title(\"Training Loss and Accuracy\")\n",
        "plt.xlabel(\"Epoch #\")\n",
        "plt.ylabel(\"Loss/Accuracy\")\n",
        "plt.legend()\n",
        "plt.show()"
      ],
      "execution_count": 11,
      "outputs": [
        {
          "output_type": "stream",
          "text": [
            "[INFO] evaluating network...\n",
            "              precision    recall  f1-score   support\n",
            "\n",
            "    airplane       0.85      0.77      0.81      1000\n",
            "  automobile       0.93      0.87      0.90      1000\n",
            "        bird       0.81      0.64      0.71      1000\n",
            "         cat       0.57      0.69      0.62      1000\n",
            "        deer       0.74      0.79      0.76      1000\n",
            "         dog       0.72      0.67      0.69      1000\n",
            "        frog       0.80      0.88      0.84      1000\n",
            "       horse       0.87      0.81      0.84      1000\n",
            "        ship       0.84      0.92      0.88      1000\n",
            "       truck       0.84      0.89      0.86      1000\n",
            "\n",
            "   micro avg       0.79      0.79      0.79     10000\n",
            "   macro avg       0.80      0.79      0.79     10000\n",
            "weighted avg       0.80      0.79      0.79     10000\n",
            "\n"
          ],
          "name": "stdout"
        },
        {
          "output_type": "display_data",
          "data": {
            "image/png": "[encoded data removed]",
            "text/plain": [
              "<Figure size 432x288 with 1 Axes>"
            ]
          },
          "metadata": {
            "tags": []
          }
        }
      ]
    },
    {
      "cell_type": "code",
      "metadata": {
        "id": "V9M7Db7cm1y6",
        "colab_type": "code",
        "colab": {}
      },
      "source": [
        "from keras.layers.normalization import BatchNormalization\n",
        "from keras.layers.core import Dropout\n",
        "\n",
        "def build_NewAlexNet(width, height, depth, classes):\n",
        "  # initialize the model\n",
        "  model = Sequential()\n",
        "  inputShape = (height, width, depth)\n",
        "  model.add(Conv2D(64, (5, 5), input_shape=inputShape))\n",
        "  model.add(Activation(\"relu\"))\n",
        "  model.add(MaxPooling2D(pool_size=(2, 2)))\n",
        "  model.add(Conv2D(32, (3, 3)))\n",
        "  model.add(Activation(\"relu\"))\n",
        "  model.add(BatchNormalization(axis=2))\n",
        "  model.add(Dropout(0.25))\n",
        "  \n",
        "  \n",
        "  model.add(Conv2D(64, (5, 5)))\n",
        "  model.add(Activation(\"relu\"))\n",
        "  model.add(MaxPooling2D(pool_size=(2, 2)))\n",
        "  model.add(Conv2D(64, (3, 3)))\n",
        "  model.add(Activation(\"relu\"))\n",
        "  model.add(BatchNormalization(axis=2))\n",
        "  model.add(Dropout(0.25))\n",
        "  \n",
        "  model.add(Flatten())\n",
        "  model.add(Dense(1024))\n",
        "  model.add(Activation(\"relu\"))\n",
        "  model.add(BatchNormalization())\n",
        "  model.add(Dense(512))\n",
        "  model.add(Activation(\"relu\"))\n",
        "  model.add(BatchNormalization())\n",
        "  model.add(Dropout(0.5))\n",
        "  \n",
        "  # softmax classifier\n",
        "  model.add(Dense(classes))\n",
        "  model.add(Activation(\"softmax\"))\n",
        "  \n",
        "  model.summary()\n",
        "  \n",
        "  # return the constructed network architecture\n",
        "  return model"
      ],
      "execution_count": 0,
      "outputs": []
    },
    {
      "cell_type": "code",
      "metadata": {
        "id": "4PGwpaUqnDZd",
        "colab_type": "code",
        "colab": {
          "base_uri": "https://localhost:8080/",
          "height": 972
        },
        "outputId": "f28535b9-fa01-499b-fe9c-dd2bb3b52092"
      },
      "source": [
        "opt = SGD(lr=0.01)\n",
        "model = build_NewAlexNet(width=32, height=32, depth=3, classes=10)\n",
        "model.compile(loss='categorical_crossentropy', optimizer=opt, \n",
        "                  metrics=['accuracy'])"
      ],
      "execution_count": 13,
      "outputs": [
        {
          "output_type": "stream",
          "text": [
            "_________________________________________________________________\n",
            "Layer (type)                 Output Shape              Param #   \n",
            "=================================================================\n",
            "conv2d_8 (Conv2D)            (None, 28, 28, 64)        4864      \n",
            "_________________________________________________________________\n",
            "activation_10 (Activation)   (None, 28, 28, 64)        0         \n",
            "_________________________________________________________________\n",
            "max_pooling2d_4 (MaxPooling2 (None, 14, 14, 64)        0         \n",
            "_________________________________________________________________\n",
            "conv2d_9 (Conv2D)            (None, 12, 12, 32)        18464     \n",
            "_________________________________________________________________\n",
            "activation_11 (Activation)   (None, 12, 12, 32)        0         \n",
            "_________________________________________________________________\n",
            "batch_normalization_9 (Batch (None, 12, 12, 32)        48        \n",
            "_________________________________________________________________\n",
            "dropout_5 (Dropout)          (None, 12, 12, 32)        0         \n",
            "_________________________________________________________________\n",
            "conv2d_10 (Conv2D)           (None, 8, 8, 64)          51264     \n",
            "_________________________________________________________________\n",
            "activation_12 (Activation)   (None, 8, 8, 64)          0         \n",
            "_________________________________________________________________\n",
            "max_pooling2d_5 (MaxPooling2 (None, 4, 4, 64)          0         \n",
            "_________________________________________________________________\n",
            "conv2d_11 (Conv2D)           (None, 2, 2, 64)          36928     \n",
            "_________________________________________________________________\n",
            "activation_13 (Activation)   (None, 2, 2, 64)          0         \n",
            "_________________________________________________________________\n",
            "batch_normalization_10 (Batc (None, 2, 2, 64)          8         \n",
            "_________________________________________________________________\n",
            "dropout_6 (Dropout)          (None, 2, 2, 64)          0         \n",
            "_________________________________________________________________\n",
            "flatten_2 (Flatten)          (None, 256)               0         \n",
            "_________________________________________________________________\n",
            "dense_3 (Dense)              (None, 1024)              263168    \n",
            "_________________________________________________________________\n",
            "activation_14 (Activation)   (None, 1024)              0         \n",
            "_________________________________________________________________\n",
            "batch_normalization_11 (Batc (None, 1024)              4096      \n",
            "_________________________________________________________________\n",
            "dense_4 (Dense)              (None, 512)               524800    \n",
            "_________________________________________________________________\n",
            "activation_15 (Activation)   (None, 512)               0         \n",
            "_________________________________________________________________\n",
            "batch_normalization_12 (Batc (None, 512)               2048      \n",
            "_________________________________________________________________\n",
            "dropout_7 (Dropout)          (None, 512)               0         \n",
            "_________________________________________________________________\n",
            "dense_5 (Dense)              (None, 10)                5130      \n",
            "_________________________________________________________________\n",
            "activation_16 (Activation)   (None, 10)                0         \n",
            "=================================================================\n",
            "Total params: 910,818\n",
            "Trainable params: 907,718\n",
            "Non-trainable params: 3,100\n",
            "_________________________________________________________________\n"
          ],
          "name": "stdout"
        }
      ]
    },
    {
      "cell_type": "code",
      "metadata": {
        "id": "cWytxidrnLV5",
        "colab_type": "code",
        "colab": {
          "base_uri": "https://localhost:8080/",
          "height": 1424
        },
        "outputId": "cbb9b6d1-7450-4b3f-aeb6-dd5a8977e02e"
      },
      "source": [
        "from keras.callbacks import ModelCheckpoint   \n",
        "\n",
        "# train the model\n",
        "checkpointer = ModelCheckpoint(filepath='model.weights.best.newalexnet.hdf5', verbose=1, \n",
        "                               save_best_only=True)\n",
        "hist = model.fit(x_train, y_train, batch_size=128, epochs=20,\n",
        "          validation_data=(x_valid, y_valid), callbacks=[checkpointer], \n",
        "          verbose=2, shuffle=True)"
      ],
      "execution_count": 14,
      "outputs": [
        {
          "output_type": "stream",
          "text": [
            "Train on 45000 samples, validate on 5000 samples\n",
            "Epoch 1/20\n",
            " - 6s - loss: 2.5871 - acc: 0.2006 - val_loss: 2.2200 - val_acc: 0.2248\n",
            "\n",
            "Epoch 00001: val_loss improved from inf to 2.22005, saving model to model.weights.best.newalexnet.hdf5\n",
            "Epoch 2/20\n",
            " - 5s - loss: 1.9795 - acc: 0.3014 - val_loss: 1.7866 - val_acc: 0.3490\n",
            "\n",
            "Epoch 00002: val_loss improved from 2.22005 to 1.78656, saving model to model.weights.best.newalexnet.hdf5\n",
            "Epoch 3/20\n",
            " - 4s - loss: 1.7220 - acc: 0.3783 - val_loss: 2.0580 - val_acc: 0.3440\n",
            "\n",
            "Epoch 00003: val_loss did not improve from 1.78656\n",
            "Epoch 4/20\n",
            " - 4s - loss: 1.5851 - acc: 0.4190 - val_loss: 1.4243 - val_acc: 0.4692\n",
            "\n",
            "Epoch 00004: val_loss improved from 1.78656 to 1.42433, saving model to model.weights.best.newalexnet.hdf5\n",
            "Epoch 5/20\n",
            " - 5s - loss: 1.5002 - acc: 0.4514 - val_loss: 1.5325 - val_acc: 0.4392\n",
            "\n",
            "Epoch 00005: val_loss did not improve from 1.42433\n",
            "Epoch 6/20\n",
            " - 5s - loss: 1.4261 - acc: 0.4812 - val_loss: 1.3336 - val_acc: 0.5194\n",
            "\n",
            "Epoch 00006: val_loss improved from 1.42433 to 1.33362, saving model to model.weights.best.newalexnet.hdf5\n",
            "Epoch 7/20\n",
            " - 4s - loss: 1.3713 - acc: 0.5023 - val_loss: 1.6461 - val_acc: 0.4302\n",
            "\n",
            "Epoch 00007: val_loss did not improve from 1.33362\n",
            "Epoch 8/20\n",
            " - 4s - loss: 1.3219 - acc: 0.5211 - val_loss: 1.1811 - val_acc: 0.5756\n",
            "\n",
            "Epoch 00008: val_loss improved from 1.33362 to 1.18107, saving model to model.weights.best.newalexnet.hdf5\n",
            "Epoch 9/20\n",
            " - 4s - loss: 1.2761 - acc: 0.5397 - val_loss: 1.2109 - val_acc: 0.5668\n",
            "\n",
            "Epoch 00009: val_loss did not improve from 1.18107\n",
            "Epoch 10/20\n",
            " - 4s - loss: 1.2369 - acc: 0.5544 - val_loss: 1.1589 - val_acc: 0.5802\n",
            "\n",
            "Epoch 00010: val_loss improved from 1.18107 to 1.15894, saving model to model.weights.best.newalexnet.hdf5\n",
            "Epoch 11/20\n",
            " - 4s - loss: 1.1936 - acc: 0.5699 - val_loss: 1.1417 - val_acc: 0.5866\n",
            "\n",
            "Epoch 00011: val_loss improved from 1.15894 to 1.14173, saving model to model.weights.best.newalexnet.hdf5\n",
            "Epoch 12/20\n",
            " - 4s - loss: 1.1656 - acc: 0.5806 - val_loss: 1.9608 - val_acc: 0.3778\n",
            "\n",
            "Epoch 00012: val_loss did not improve from 1.14173\n",
            "Epoch 13/20\n",
            " - 4s - loss: 1.1235 - acc: 0.5976 - val_loss: 1.3130 - val_acc: 0.5340\n",
            "\n",
            "Epoch 00013: val_loss did not improve from 1.14173\n",
            "Epoch 14/20\n",
            " - 4s - loss: 1.0950 - acc: 0.6066 - val_loss: 1.1287 - val_acc: 0.5920\n",
            "\n",
            "Epoch 00014: val_loss improved from 1.14173 to 1.12871, saving model to model.weights.best.newalexnet.hdf5\n",
            "Epoch 15/20\n",
            " - 4s - loss: 1.0650 - acc: 0.6195 - val_loss: 1.1123 - val_acc: 0.6068\n",
            "\n",
            "Epoch 00015: val_loss improved from 1.12871 to 1.11226, saving model to model.weights.best.newalexnet.hdf5\n",
            "Epoch 16/20\n",
            " - 4s - loss: 1.0364 - acc: 0.6297 - val_loss: 1.0530 - val_acc: 0.6232\n",
            "\n",
            "Epoch 00016: val_loss improved from 1.11226 to 1.05302, saving model to model.weights.best.newalexnet.hdf5\n",
            "Epoch 17/20\n",
            " - 4s - loss: 1.0076 - acc: 0.6412 - val_loss: 1.2393 - val_acc: 0.5632\n",
            "\n",
            "Epoch 00017: val_loss did not improve from 1.05302\n",
            "Epoch 18/20\n",
            " - 4s - loss: 0.9857 - acc: 0.6506 - val_loss: 1.0473 - val_acc: 0.6262\n",
            "\n",
            "Epoch 00018: val_loss improved from 1.05302 to 1.04732, saving model to model.weights.best.newalexnet.hdf5\n",
            "Epoch 19/20\n",
            " - 4s - loss: 0.9567 - acc: 0.6586 - val_loss: 0.9452 - val_acc: 0.6692\n",
            "\n",
            "Epoch 00019: val_loss improved from 1.04732 to 0.94520, saving model to model.weights.best.newalexnet.hdf5\n",
            "Epoch 20/20\n",
            " - 4s - loss: 0.9345 - acc: 0.6666 - val_loss: 0.9686 - val_acc: 0.6638\n",
            "\n",
            "Epoch 00020: val_loss did not improve from 0.94520\n"
          ],
          "name": "stdout"
        }
      ]
    },
    {
      "cell_type": "code",
      "metadata": {
        "id": "jcumv1sQoHDC",
        "colab_type": "code",
        "colab": {}
      },
      "source": [
        "model.load_weights('model.weights.best.newalexnet.hdf5')"
      ],
      "execution_count": 0,
      "outputs": []
    },
    {
      "cell_type": "code",
      "metadata": {
        "id": "wtngDWqpoIko",
        "colab_type": "code",
        "colab": {
          "base_uri": "https://localhost:8080/",
          "height": 52
        },
        "outputId": "31ef0175-437d-4828-8aef-4e170f543c3c"
      },
      "source": [
        "score = model.evaluate(x_test, y_test, verbose=0)\n",
        "print('\\n', 'Test accuracy:', score[1])"
      ],
      "execution_count": 16,
      "outputs": [
        {
          "output_type": "stream",
          "text": [
            "\n",
            " Test accuracy: 0.6634\n"
          ],
          "name": "stdout"
        }
      ]
    },
    {
      "cell_type": "code",
      "metadata": {
        "id": "2czerNgwoMRX",
        "colab_type": "code",
        "colab": {
          "base_uri": "https://localhost:8080/",
          "height": 612
        },
        "outputId": "5638e76e-89fd-4a9c-c418-8b42fd5c3809"
      },
      "source": [
        "# evaluate the network\n",
        "print(\"[INFO] evaluating network...\")\n",
        "\n",
        "# get predictions on the test set\n",
        "predictions = model.predict(x_test, batch_size=128)\n",
        "\n",
        "# define text labels (source: https://www.cs.toronto.edu/~kriz/cifar.html)\n",
        "cifar10_labels = ['airplane', 'automobile', 'bird', 'cat', 'deer', 'dog', 'frog',\n",
        "                  'horse', 'ship', 'truck']\n",
        "\n",
        "\n",
        "print(classification_report(y_test.argmax(axis=1),\n",
        "predictions.argmax(axis=1),\n",
        "target_names=cifar10_labels))\n",
        "\n",
        "# plot the training loss and accuracy\n",
        "plt.style.use(\"ggplot\")\n",
        "plt.figure()\n",
        "plt.plot(np.arange(0, 20), hist.history[\"loss\"], label=\"train_loss\" )\n",
        "plt.plot(np.arange(0, 20), hist.history[\"val_loss\"], label=\"val_loss\")\n",
        "plt.plot(np.arange(0, 20), hist.history[\"acc\" ], label=\"train_acc\" )\n",
        "plt.plot(np.arange(0, 20), hist.history[\"val_acc\"], label=\"val_acc\")\n",
        "plt.title(\"Training Loss and Accuracy\")\n",
        "plt.xlabel(\"Epoch #\")\n",
        "plt.ylabel(\"Loss/Accuracy\")\n",
        "plt.legend()\n",
        "plt.show()"
      ],
      "execution_count": 17,
      "outputs": [
        {
          "output_type": "stream",
          "text": [
            "[INFO] evaluating network...\n",
            "              precision    recall  f1-score   support\n",
            "\n",
            "    airplane       0.71      0.73      0.72      1000\n",
            "  automobile       0.83      0.81      0.82      1000\n",
            "        bird       0.76      0.34      0.47      1000\n",
            "         cat       0.46      0.41      0.43      1000\n",
            "        deer       0.50      0.70      0.58      1000\n",
            "         dog       0.55      0.60      0.57      1000\n",
            "        frog       0.74      0.73      0.74      1000\n",
            "       horse       0.61      0.81      0.70      1000\n",
            "        ship       0.88      0.72      0.79      1000\n",
            "       truck       0.75      0.78      0.76      1000\n",
            "\n",
            "   micro avg       0.66      0.66      0.66     10000\n",
            "   macro avg       0.68      0.66      0.66     10000\n",
            "weighted avg       0.68      0.66      0.66     10000\n",
            "\n"
          ],
          "name": "stdout"
        },
        {
          "output_type": "display_data",
          "data": {
            "image/png": "[encoded data removed]",
            "text/plain": [
              "<Figure size 432x288 with 1 Axes>"
            ]
          },
          "metadata": {
            "tags": []
          }
        }
      ]
    }
  ]
}
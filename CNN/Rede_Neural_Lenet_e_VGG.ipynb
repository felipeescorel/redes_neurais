{
  "nbformat": 4,
  "nbformat_minor": 0,
  "metadata": {
    "colab": {
      "name": "Rede Neural Lenet e VGG",
      "version": "0.3.2",
      "provenance": [],
      "collapsed_sections": [],
      "include_colab_link": true
    },
    "kernelspec": {
      "name": "python3",
      "display_name": "Python 3"
    },
    "accelerator": "GPU"
  },
  "cells": [
    {
      "cell_type": "markdown",
      "metadata": {
        "id": "view-in-github",
        "colab_type": "text"
      },
      "source": [
        "<a href=\"https://colab.research.google.com/github/vmacf/redes_neurais/blob/master/CNN/Rede_Neural_Lenet_e_VGG.ipynb\" target=\"_parent\"><img src=\"https://colab.research.google.com/assets/colab-badge.svg\" alt=\"Open In Colab\"/></a>"
      ]
    },
    {
      "metadata": {
        "id": "wziql3WY62o0",
        "colab_type": "text"
      },
      "cell_type": "markdown",
      "source": [
        "## Rede Neural Convolucional\n",
        "\n",
        "### Nessa aula, vamos treinar a rede Neural VGG com a base de dados CIFAR-10\n",
        "\n",
        "---\n",
        "\n",
        "### 1. Carrega a Base de dados CIFAR-10"
      ]
    },
    {
      "metadata": {
        "id": "Mg9ihtNj8pDo",
        "colab_type": "code",
        "colab": {}
      },
      "cell_type": "code",
      "source": [
        "import keras\n",
        "from keras.datasets import cifar10\n",
        "\n",
        "# load the pre-shuffled train and test data\n",
        "(x_train, y_train), (x_test, y_test) = cifar10.load_data()"
      ],
      "execution_count": 0,
      "outputs": []
    },
    {
      "metadata": {
        "id": "G41PbCuK8qQH",
        "colab_type": "text"
      },
      "cell_type": "markdown",
      "source": [
        "###2. Reescale as imagens dividindo todos os pixels por 255"
      ]
    },
    {
      "metadata": {
        "id": "CeJg_vfa828R",
        "colab_type": "code",
        "colab": {}
      },
      "cell_type": "code",
      "source": [
        "# rescale [0,255] --> [0,1]\n",
        "x_train = x_train.astype('float32')/255\n",
        "x_test = x_test.astype('float32')/255"
      ],
      "execution_count": 0,
      "outputs": []
    },
    {
      "metadata": {
        "id": "krh48rlw9XHe",
        "colab_type": "text"
      },
      "cell_type": "markdown",
      "source": [
        "### 3. Comece importando os pacotes necessários para o projeto"
      ]
    },
    {
      "metadata": {
        "id": "WppfDvBhkFfd",
        "colab_type": "code",
        "colab": {}
      },
      "cell_type": "code",
      "source": [
        "# import the necessary packages\n",
        "#from pyimagesearch.nn.conv import LeNet\n",
        "from keras.optimizers import SGD\n",
        "from sklearn.preprocessing import LabelBinarizer\n",
        "from sklearn.metrics import classification_report\n",
        "from keras import backend as K\n",
        "import matplotlib.pyplot as plt\n",
        "import numpy as np\n",
        "\n",
        "from keras.models import Sequential\n",
        "from keras.layers.convolutional import Conv2D\n",
        "from keras.layers.convolutional import MaxPooling2D\n",
        "from keras.layers.core import Activation\n",
        "from keras.layers.core import Flatten\n",
        "from keras.layers.core import Dense"
      ],
      "execution_count": 0,
      "outputs": []
    },
    {
      "metadata": {
        "id": "qYO2Eone87MN",
        "colab_type": "text"
      },
      "cell_type": "markdown",
      "source": [
        "### 4.  Dividir base de dados em conjuntos de treinamento, teste e validação."
      ]
    },
    {
      "metadata": {
        "id": "WeikbgB68886",
        "colab_type": "code",
        "outputId": "91eccc5e-2d14-45e2-9866-cb234531c480",
        "colab": {
          "base_uri": "https://localhost:8080/",
          "height": 91
        }
      },
      "cell_type": "code",
      "source": [
        "from keras.utils import np_utils\n",
        "\n",
        "# one-hot encode the labels\n",
        "num_classes = len(np.unique(y_train))\n",
        "y_train = keras.utils.to_categorical(y_train, num_classes)\n",
        "y_test = keras.utils.to_categorical(y_test, num_classes)\n",
        "\n",
        "# break training set into training and validation sets\n",
        "(x_train, x_valid) = x_train[5000:], x_train[:5000]\n",
        "(y_train, y_valid) = y_train[5000:], y_train[:5000]\n",
        "\n",
        "# print shape of training set\n",
        "print('x_train shape:', x_train.shape)\n",
        "\n",
        "# print number of training, validation, and test images\n",
        "print(x_train.shape[0], 'train samples')\n",
        "print(x_test.shape[0], 'test samples')\n",
        "print(x_valid.shape[0], 'validation samples')"
      ],
      "execution_count": 13,
      "outputs": [
        {
          "output_type": "stream",
          "text": [
            "x_train shape: (45000, 32, 32, 3)\n",
            "45000 train samples\n",
            "10000 test samples\n",
            "5000 validation samples\n"
          ],
          "name": "stdout"
        }
      ]
    },
    {
      "metadata": {
        "id": "gfEq5XMP92vb",
        "colab_type": "text"
      },
      "cell_type": "markdown",
      "source": [
        "### 5. Construa o modelo Lenet"
      ]
    },
    {
      "metadata": {
        "id": "U27CsX1OkewH",
        "colab_type": "code",
        "colab": {}
      },
      "cell_type": "code",
      "source": [
        "def build_LeNet(width, height, depth, classes):\n",
        "  # initialize the model\n",
        "  model = Sequential()\n",
        "  inputShape = (height, width, depth)\n",
        "\n",
        "  # first set of CONV => RELU => POOL layers\n",
        "  model.add(Conv2D(20, (5, 5), padding=\"same\",\n",
        "    input_shape=inputShape))\n",
        "  model.add(Activation(\"relu\"))\n",
        "  model.add(MaxPooling2D(pool_size=(2, 2), strides=(2, 2)))\n",
        "\n",
        "  # second set of CONV => RELU => POOL layers\n",
        "  model.add(Conv2D(50, (5, 5), padding=\"same\"))\n",
        "  model.add(Activation(\"relu\"))\n",
        "  model.add(MaxPooling2D(pool_size=(2, 2), strides=(2, 2)))\n",
        "\n",
        "  # first (and only) set of FC => RELU layers\n",
        "  model.add(Flatten())\n",
        "  model.add(Dense(500))\n",
        "  model.add(Activation(\"relu\"))\n",
        "\n",
        "  # softmax classifier\n",
        "  model.add(Dense(classes))\n",
        "  model.add(Activation(\"softmax\"))\n",
        "  \n",
        "  model.summary()\n",
        "  \n",
        "  # return the constructed network architecture\n",
        "  return model"
      ],
      "execution_count": 0,
      "outputs": []
    },
    {
      "metadata": {
        "id": "rbNA7trm-UFq",
        "colab_type": "text"
      },
      "cell_type": "markdown",
      "source": [
        "### 6. Construa o modelo MiniVGG"
      ]
    },
    {
      "metadata": {
        "id": "PU54qS0nD7QS",
        "colab_type": "code",
        "colab": {}
      },
      "cell_type": "code",
      "source": [
        "from keras.layers.normalization import BatchNormalization\n",
        "from keras.layers.core import Dropout\n",
        "\n",
        "def build_MiniVGG(width, height, depth, classes):\n",
        "  # initialize the model\n",
        "  model = Sequential()\n",
        "  inputShape = (height, width, depth)# first CONV => RELU => CONV => RELU => POOL layer set\n",
        "  model.add(Conv2D(32, (3, 3), padding=\"same\",\n",
        "  input_shape=inputShape))\n",
        "  model.add(Activation(\"relu\"))\n",
        "  model.add(BatchNormalization(axis=2))\n",
        "  model.add(Conv2D(32, (3, 3), padding=\"same\"))\n",
        "  model.add(Activation(\"relu\"))\n",
        "  model.add(BatchNormalization(axis=2))\n",
        "  model.add(MaxPooling2D(pool_size=(2, 2)))\n",
        "  model.add(Dropout(0.25))\n",
        "  \n",
        "  # second CONV => RELU => CONV => RELU => POOL layer set\n",
        "  model.add(Conv2D(64, (3, 3), padding=\"same\"))\n",
        "  model.add(Activation(\"relu\"))\n",
        "  model.add(BatchNormalization(axis=2))\n",
        "  model.add(Conv2D(64, (3, 3), padding=\"same\"))\n",
        "  model.add(Activation(\"relu\"))\n",
        "  model.add(BatchNormalization(axis=2))\n",
        "  model.add(MaxPooling2D(pool_size=(2, 2)))\n",
        "  model.add(Dropout(0.25))\n",
        "  \n",
        "  # first (and only) set of FC => RELU layers\n",
        "  model.add(Flatten())\n",
        "  model.add(Dense(512))\n",
        "  model.add(Activation(\"relu\"))\n",
        "  model.add(BatchNormalization())\n",
        "  model.add(Dropout(0.5))\n",
        "  \n",
        "  # softmax classifier\n",
        "  model.add(Dense(classes))\n",
        "  model.add(Activation(\"softmax\"))\n",
        "  \n",
        "  model.summary()\n",
        "  \n",
        "  # return the constructed network architecture\n",
        "  return model\n",
        "  "
      ],
      "execution_count": 0,
      "outputs": []
    },
    {
      "metadata": {
        "id": "_ako4TaV_LZ9",
        "colab_type": "text"
      },
      "cell_type": "markdown",
      "source": [
        "### 7. Compile o modelo desejado (Lenet ou MiniVGG)"
      ]
    },
    {
      "metadata": {
        "id": "UhXIPFVQ_ON-",
        "colab_type": "code",
        "outputId": "112e410b-ab5f-4bfc-83a6-2a1e37c06b07",
        "colab": {
          "base_uri": "https://localhost:8080/",
          "height": 1135
        }
      },
      "cell_type": "code",
      "source": [
        "opt = SGD(lr=0.01)\n",
        "model = build_MiniVGG(width=32, height=32, depth=3, classes=10)\n",
        "model.compile(loss='categorical_crossentropy', optimizer=opt, \n",
        "                  metrics=['accuracy'])"
      ],
      "execution_count": 16,
      "outputs": [
        {
          "output_type": "stream",
          "text": [
            "WARNING:tensorflow:From /usr/local/lib/python3.6/dist-packages/tensorflow/python/framework/op_def_library.py:263: colocate_with (from tensorflow.python.framework.ops) is deprecated and will be removed in a future version.\n",
            "Instructions for updating:\n",
            "Colocations handled automatically by placer.\n",
            "WARNING:tensorflow:From /usr/local/lib/python3.6/dist-packages/keras/backend/tensorflow_backend.py:3445: calling dropout (from tensorflow.python.ops.nn_ops) with keep_prob is deprecated and will be removed in a future version.\n",
            "Instructions for updating:\n",
            "Please use `rate` instead of `keep_prob`. Rate should be set to `rate = 1 - keep_prob`.\n",
            "_________________________________________________________________\n",
            "Layer (type)                 Output Shape              Param #   \n",
            "=================================================================\n",
            "conv2d_1 (Conv2D)            (None, 32, 32, 32)        896       \n",
            "_________________________________________________________________\n",
            "activation_1 (Activation)    (None, 32, 32, 32)        0         \n",
            "_________________________________________________________________\n",
            "batch_normalization_1 (Batch (None, 32, 32, 32)        128       \n",
            "_________________________________________________________________\n",
            "conv2d_2 (Conv2D)            (None, 32, 32, 32)        9248      \n",
            "_________________________________________________________________\n",
            "activation_2 (Activation)    (None, 32, 32, 32)        0         \n",
            "_________________________________________________________________\n",
            "batch_normalization_2 (Batch (None, 32, 32, 32)        128       \n",
            "_________________________________________________________________\n",
            "max_pooling2d_1 (MaxPooling2 (None, 16, 16, 32)        0         \n",
            "_________________________________________________________________\n",
            "dropout_1 (Dropout)          (None, 16, 16, 32)        0         \n",
            "_________________________________________________________________\n",
            "conv2d_3 (Conv2D)            (None, 16, 16, 64)        18496     \n",
            "_________________________________________________________________\n",
            "activation_3 (Activation)    (None, 16, 16, 64)        0         \n",
            "_________________________________________________________________\n",
            "batch_normalization_3 (Batch (None, 16, 16, 64)        64        \n",
            "_________________________________________________________________\n",
            "conv2d_4 (Conv2D)            (None, 16, 16, 64)        36928     \n",
            "_________________________________________________________________\n",
            "activation_4 (Activation)    (None, 16, 16, 64)        0         \n",
            "_________________________________________________________________\n",
            "batch_normalization_4 (Batch (None, 16, 16, 64)        64        \n",
            "_________________________________________________________________\n",
            "max_pooling2d_2 (MaxPooling2 (None, 8, 8, 64)          0         \n",
            "_________________________________________________________________\n",
            "dropout_2 (Dropout)          (None, 8, 8, 64)          0         \n",
            "_________________________________________________________________\n",
            "flatten_1 (Flatten)          (None, 4096)              0         \n",
            "_________________________________________________________________\n",
            "dense_1 (Dense)              (None, 512)               2097664   \n",
            "_________________________________________________________________\n",
            "activation_5 (Activation)    (None, 512)               0         \n",
            "_________________________________________________________________\n",
            "batch_normalization_5 (Batch (None, 512)               2048      \n",
            "_________________________________________________________________\n",
            "dropout_3 (Dropout)          (None, 512)               0         \n",
            "_________________________________________________________________\n",
            "dense_2 (Dense)              (None, 10)                5130      \n",
            "_________________________________________________________________\n",
            "activation_6 (Activation)    (None, 10)                0         \n",
            "=================================================================\n",
            "Total params: 2,170,794\n",
            "Trainable params: 2,169,578\n",
            "Non-trainable params: 1,216\n",
            "_________________________________________________________________\n"
          ],
          "name": "stdout"
        }
      ]
    },
    {
      "metadata": {
        "id": "J9C2tpWs_oF4",
        "colab_type": "text"
      },
      "cell_type": "markdown",
      "source": [
        "### 8. Treine o Modelo"
      ]
    },
    {
      "metadata": {
        "id": "qMNki4Ou_rFd",
        "colab_type": "code",
        "outputId": "2bc27b57-ce8c-4b85-8373-4350744fd88a",
        "colab": {
          "base_uri": "https://localhost:8080/",
          "height": 1601
        }
      },
      "cell_type": "code",
      "source": [
        "from keras.callbacks import ModelCheckpoint   \n",
        "\n",
        "# train the model\n",
        "checkpointer = ModelCheckpoint(filepath='model.weights.best.hdf5', verbose=1, \n",
        "                               save_best_only=True)\n",
        "hist = model.fit(x_train, y_train, batch_size=128, epochs=20,\n",
        "          validation_data=(x_valid, y_valid), callbacks=[checkpointer], \n",
        "          verbose=2, shuffle=True)"
      ],
      "execution_count": 17,
      "outputs": [
        {
          "output_type": "stream",
          "text": [
            "WARNING:tensorflow:From /usr/local/lib/python3.6/dist-packages/tensorflow/python/ops/math_ops.py:3066: to_int32 (from tensorflow.python.ops.math_ops) is deprecated and will be removed in a future version.\n",
            "Instructions for updating:\n",
            "Use tf.cast instead.\n",
            "Train on 45000 samples, validate on 5000 samples\n",
            "Epoch 1/20\n",
            " - 14s - loss: 2.3444 - acc: 0.2859 - val_loss: 1.6811 - val_acc: 0.3892\n",
            "\n",
            "Epoch 00001: val_loss improved from inf to 1.68111, saving model to model.weights.best.hdf5\n",
            "Epoch 2/20\n",
            " - 10s - loss: 1.7531 - acc: 0.4060 - val_loss: 1.4409 - val_acc: 0.4788\n",
            "\n",
            "Epoch 00002: val_loss improved from 1.68111 to 1.44094, saving model to model.weights.best.hdf5\n",
            "Epoch 3/20\n",
            " - 10s - loss: 1.5367 - acc: 0.4652 - val_loss: 1.2881 - val_acc: 0.5438\n",
            "\n",
            "Epoch 00003: val_loss improved from 1.44094 to 1.28811, saving model to model.weights.best.hdf5\n",
            "Epoch 4/20\n",
            " - 10s - loss: 1.3998 - acc: 0.5045 - val_loss: 1.2006 - val_acc: 0.5624\n",
            "\n",
            "Epoch 00004: val_loss improved from 1.28811 to 1.20064, saving model to model.weights.best.hdf5\n",
            "Epoch 5/20\n",
            " - 10s - loss: 1.3074 - acc: 0.5353 - val_loss: 1.1526 - val_acc: 0.5900\n",
            "\n",
            "Epoch 00005: val_loss improved from 1.20064 to 1.15260, saving model to model.weights.best.hdf5\n",
            "Epoch 6/20\n",
            " - 10s - loss: 1.2320 - acc: 0.5598 - val_loss: 1.1022 - val_acc: 0.6046\n",
            "\n",
            "Epoch 00006: val_loss improved from 1.15260 to 1.10216, saving model to model.weights.best.hdf5\n",
            "Epoch 7/20\n",
            " - 10s - loss: 1.1714 - acc: 0.5835 - val_loss: 1.1176 - val_acc: 0.5994\n",
            "\n",
            "Epoch 00007: val_loss did not improve from 1.10216\n",
            "Epoch 8/20\n",
            " - 10s - loss: 1.1197 - acc: 0.6016 - val_loss: 1.0298 - val_acc: 0.6246\n",
            "\n",
            "Epoch 00008: val_loss improved from 1.10216 to 1.02978, saving model to model.weights.best.hdf5\n",
            "Epoch 9/20\n",
            " - 10s - loss: 1.0732 - acc: 0.6179 - val_loss: 1.0310 - val_acc: 0.6286\n",
            "\n",
            "Epoch 00009: val_loss did not improve from 1.02978\n",
            "Epoch 10/20\n",
            " - 10s - loss: 1.0292 - acc: 0.6332 - val_loss: 0.9519 - val_acc: 0.6620\n",
            "\n",
            "Epoch 00010: val_loss improved from 1.02978 to 0.95194, saving model to model.weights.best.hdf5\n",
            "Epoch 11/20\n",
            " - 10s - loss: 0.9897 - acc: 0.6486 - val_loss: 1.0175 - val_acc: 0.6458\n",
            "\n",
            "Epoch 00011: val_loss did not improve from 0.95194\n",
            "Epoch 12/20\n",
            " - 10s - loss: 0.9576 - acc: 0.6630 - val_loss: 0.8776 - val_acc: 0.6924\n",
            "\n",
            "Epoch 00012: val_loss improved from 0.95194 to 0.87763, saving model to model.weights.best.hdf5\n",
            "Epoch 13/20\n",
            " - 10s - loss: 0.9343 - acc: 0.6690 - val_loss: 0.9219 - val_acc: 0.6678\n",
            "\n",
            "Epoch 00013: val_loss did not improve from 0.87763\n",
            "Epoch 14/20\n",
            " - 10s - loss: 0.9065 - acc: 0.6768 - val_loss: 0.8525 - val_acc: 0.6994\n",
            "\n",
            "Epoch 00014: val_loss improved from 0.87763 to 0.85254, saving model to model.weights.best.hdf5\n",
            "Epoch 15/20\n",
            " - 10s - loss: 0.8795 - acc: 0.6893 - val_loss: 0.9055 - val_acc: 0.6730\n",
            "\n",
            "Epoch 00015: val_loss did not improve from 0.85254\n",
            "Epoch 16/20\n",
            " - 10s - loss: 0.8592 - acc: 0.6953 - val_loss: 0.8218 - val_acc: 0.7082\n",
            "\n",
            "Epoch 00016: val_loss improved from 0.85254 to 0.82184, saving model to model.weights.best.hdf5\n",
            "Epoch 17/20\n",
            " - 10s - loss: 0.8409 - acc: 0.7006 - val_loss: 0.8824 - val_acc: 0.6876\n",
            "\n",
            "Epoch 00017: val_loss did not improve from 0.82184\n",
            "Epoch 18/20\n",
            " - 10s - loss: 0.8228 - acc: 0.7087 - val_loss: 0.8878 - val_acc: 0.6828\n",
            "\n",
            "Epoch 00018: val_loss did not improve from 0.82184\n",
            "Epoch 19/20\n",
            " - 10s - loss: 0.8056 - acc: 0.7147 - val_loss: 0.8329 - val_acc: 0.7108\n",
            "\n",
            "Epoch 00019: val_loss did not improve from 0.82184\n",
            "Epoch 20/20\n",
            " - 10s - loss: 0.7842 - acc: 0.7236 - val_loss: 0.8803 - val_acc: 0.6942\n",
            "\n",
            "Epoch 00020: val_loss did not improve from 0.82184\n"
          ],
          "name": "stdout"
        }
      ]
    },
    {
      "metadata": {
        "id": "kVuD-3YRApuZ",
        "colab_type": "text"
      },
      "cell_type": "markdown",
      "source": [
        "### 9. Carrege o modelo com a melhor acurácia no conjunto de validação"
      ]
    },
    {
      "metadata": {
        "id": "2hRoZP7lAz4_",
        "colab_type": "code",
        "colab": {}
      },
      "cell_type": "code",
      "source": [
        "# load the weights that yielded the best validation accuracy\n",
        "model.load_weights('model.weights.best.hdf5')"
      ],
      "execution_count": 0,
      "outputs": []
    },
    {
      "metadata": {
        "id": "oGZZwhU2A08d",
        "colab_type": "text"
      },
      "cell_type": "markdown",
      "source": [
        "### **10**. Calcule a acurácia no conjunto de teste"
      ]
    },
    {
      "metadata": {
        "id": "pOu79m9dA-5D",
        "colab_type": "code",
        "outputId": "e2664e50-9658-4414-ba7f-48b399c44954",
        "colab": {
          "base_uri": "https://localhost:8080/",
          "height": 54
        }
      },
      "cell_type": "code",
      "source": [
        "# evaluate and print test accuracy\n",
        "score = model.evaluate(x_test, y_test, verbose=0)\n",
        "print('\\n', 'Test accuracy:', score[1])"
      ],
      "execution_count": 19,
      "outputs": [
        {
          "output_type": "stream",
          "text": [
            "\n",
            " Test accuracy: 0.7065\n"
          ],
          "name": "stdout"
        }
      ]
    },
    {
      "metadata": {
        "id": "yb9V707SDIFc",
        "colab_type": "text"
      },
      "cell_type": "markdown",
      "source": [
        "### **11**. Informações sobre acurácia no treinamento"
      ]
    },
    {
      "metadata": {
        "id": "DkumElTUH622",
        "colab_type": "code",
        "outputId": "6c3ff4ae-ca47-4957-ba02-efbd4d616bbf",
        "colab": {
          "base_uri": "https://localhost:8080/",
          "height": 634
        }
      },
      "cell_type": "code",
      "source": [
        "# evaluate the network\n",
        "print(\"[INFO] evaluating network...\")\n",
        "\n",
        "# get predictions on the test set\n",
        "predictions = model.predict(x_test, batch_size=128)\n",
        "\n",
        "# define text labels (source: https://www.cs.toronto.edu/~kriz/cifar.html)\n",
        "cifar10_labels = ['airplane', 'automobile', 'bird', 'cat', 'deer', 'dog', 'frog', 'horse', 'ship', 'truck']\n",
        "\n",
        "\n",
        "print(classification_report(y_test.argmax(axis=1),\n",
        "predictions.argmax(axis=1),\n",
        "target_names=cifar10_labels))\n",
        "\n",
        "# plot the training loss and accuracy\n",
        "plt.style.use(\"ggplot\")\n",
        "plt.figure()\n",
        "plt.plot(np.arange(0, 20), hist.history[\"loss\"], label=\"train_loss\" )\n",
        "plt.plot(np.arange(0, 20), hist.history[\"val_loss\"], label=\"val_loss\")\n",
        "plt.plot(np.arange(0, 20), hist.history[\"acc\" ], label=\"train_acc\" )\n",
        "plt.plot(np.arange(0, 20), hist.history[\"val_acc\"], label=\"val_acc\")\n",
        "plt.title(\"Training Loss and Accuracy\")\n",
        "plt.xlabel(\"Epoch #\")\n",
        "plt.ylabel(\"Loss/Accuracy\")\n",
        "plt.legend()\n",
        "plt.show()"
      ],
      "execution_count": 20,
      "outputs": [
        {
          "output_type": "stream",
          "text": [
            "[INFO] evaluating network...\n",
            "              precision    recall  f1-score   support\n",
            "\n",
            "    airplane       0.79      0.70      0.74      1000\n",
            "  automobile       0.82      0.83      0.83      1000\n",
            "        bird       0.69      0.50      0.58      1000\n",
            "         cat       0.56      0.48      0.51      1000\n",
            "        deer       0.59      0.71      0.65      1000\n",
            "         dog       0.66      0.56      0.61      1000\n",
            "        frog       0.63      0.92      0.75      1000\n",
            "       horse       0.84      0.69      0.75      1000\n",
            "        ship       0.77      0.86      0.82      1000\n",
            "       truck       0.76      0.81      0.79      1000\n",
            "\n",
            "   micro avg       0.71      0.71      0.71     10000\n",
            "   macro avg       0.71      0.71      0.70     10000\n",
            "weighted avg       0.71      0.71      0.70     10000\n",
            "\n"
          ],
          "name": "stdout"
        },
        {
          "output_type": "display_data",
          "data": {
            "image/png": "[encoded data removed]",
            "text/plain": [
              "<Figure size 432x288 with 1 Axes>"
            ]
          },
          "metadata": {
            "tags": []
          }
        }
      ]
    },
    {
      "metadata": {
        "id": "KtsNOi--O0dT",
        "colab_type": "text"
      },
      "cell_type": "markdown",
      "source": [
        "##Exercício\n",
        "\n",
        "1. Compare a arquitetura criada MiniVGG com a VGG16. Quais são as principais diferenças? Formule uma nova arquitetura VGG16.\n",
        "\n",
        "2. Compare a arquitetura criada LENET com a AlexNet. Quais são as principais diferenças? Formule uma nova arquitetura da AlexNet.\n",
        "\n"
      ]
    }
  ]
}
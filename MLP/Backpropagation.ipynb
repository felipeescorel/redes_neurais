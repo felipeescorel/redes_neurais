{
  "nbformat": 4,
  "nbformat_minor": 0,
  "metadata": {
    "colab": {
      "name": "Backpropagation",
      "version": "0.3.2",
      "provenance": [],
      "include_colab_link": true
    },
    "language_info": {
      "codemirror_mode": {
        "name": "ipython",
        "version": 3
      },
      "file_extension": ".py",
      "mimetype": "text/x-python",
      "name": "python",
      "nbconvert_exporter": "python",
      "pygments_lexer": "ipython3",
      "version": "3.7.3"
    },
    "kernelspec": {
      "display_name": "Python 3",
      "language": "python",
      "name": "python3"
    },
    "accelerator": "GPU"
  },
  "cells": [
    {
      "cell_type": "markdown",
      "metadata": {
        "id": "view-in-github",
        "colab_type": "text"
      },
      "source": [
        "<a href=\"https://colab.research.google.com/github/felipeescorel/redes_neurais/blob/master/MLP/Backpropagation.ipynb\" target=\"_parent\"><img src=\"https://colab.research.google.com/assets/colab-badge.svg\" alt=\"Open In Colab\"/></a>"
      ]
    },
    {
      "cell_type": "markdown",
      "metadata": {
        "colab_type": "text",
        "id": "PJEk_jQrrJXn"
      },
      "source": [
        "##Multipayer Perceptron (MLP)\n",
        "\n",
        "Rede Neural baseado no algoritmo de gradiente descendente.  \n",
        "Os gradientes são calculados usando backpropagation. \n",
        "\n",
        "Para mais detalhes, ver os capitulos 13 a 16 do livro no site:\n",
        "\n",
        "http://deeplearningbook.com.br/"
      ]
    },
    {
      "cell_type": "code",
      "metadata": {
        "colab_type": "code",
        "id": "JNeeLtK58tGe",
        "colab": {}
      },
      "source": [
        "import random\n",
        "import numpy as np\n",
        "import pandas as pd\n",
        "from sklearn.model_selection import KFold"
      ],
      "execution_count": 0,
      "outputs": []
    },
    {
      "cell_type": "code",
      "metadata": {
        "id": "ay-5b8n87Nb_",
        "colab_type": "code",
        "outputId": "a8fb9402-c298-4d60-a78c-78c3ec9a6a4c",
        "colab": {
          "base_uri": "https://localhost:8080/",
          "height": 139
        }
      },
      "source": [
        "!git clone https://github.com/felipeescorel/redes_neurais.git"
      ],
      "execution_count": 2,
      "outputs": [
        {
          "output_type": "stream",
          "text": [
            "Cloning into 'redes_neurais'...\n",
            "remote: Enumerating objects: 42, done.\u001b[K\n",
            "remote: Counting objects:   2% (1/42)   \u001b[K\rremote: Counting objects:   4% (2/42)   \u001b[K\rremote: Counting objects:   7% (3/42)   \u001b[K\rremote: Counting objects:   9% (4/42)   \u001b[K\rremote: Counting objects:  11% (5/42)   \u001b[K\rremote: Counting objects:  14% (6/42)   \u001b[K\rremote: Counting objects:  16% (7/42)   \u001b[K\rremote: Counting objects:  19% (8/42)   \u001b[K\rremote: Counting objects:  21% (9/42)   \u001b[K\rremote: Counting objects:  23% (10/42)   \u001b[K\rremote: Counting objects:  26% (11/42)   \u001b[K\rremote: Counting objects:  28% (12/42)   \u001b[K\rremote: Counting objects:  30% (13/42)   \u001b[K\rremote: Counting objects:  33% (14/42)   \u001b[K\rremote: Counting objects:  35% (15/42)   \u001b[K\rremote: Counting objects:  38% (16/42)   \u001b[K\rremote: Counting objects:  40% (17/42)   \u001b[K\rremote: Counting objects:  42% (18/42)   \u001b[K\rremote: Counting objects:  45% (19/42)   \u001b[K\rremote: Counting objects:  47% (20/42)   \u001b[K\rremote: Counting objects:  50% (21/42)   \u001b[K\rremote: Counting objects:  52% (22/42)   \u001b[K\rremote: Counting objects:  54% (23/42)   \u001b[K\rremote: Counting objects:  57% (24/42)   \u001b[K\rremote: Counting objects:  59% (25/42)   \u001b[K\rremote: Counting objects:  61% (26/42)   \u001b[K\rremote: Counting objects:  64% (27/42)   \u001b[K\rremote: Counting objects:  66% (28/42)   \u001b[K\rremote: Counting objects:  69% (29/42)   \u001b[K\rremote: Counting objects:  71% (30/42)   \u001b[K\rremote: Counting objects:  73% (31/42)   \u001b[K\rremote: Counting objects:  76% (32/42)   \u001b[K\rremote: Counting objects:  78% (33/42)   \u001b[K\rremote: Counting objects:  80% (34/42)   \u001b[K\rremote: Counting objects:  83% (35/42)   \u001b[K\rremote: Counting objects:  85% (36/42)   \u001b[K\rremote: Counting objects:  88% (37/42)   \u001b[K\rremote: Counting objects:  90% (38/42)   \u001b[K\rremote: Counting objects:  92% (39/42)   \u001b[K\rremote: Counting objects:  95% (40/42)   \u001b[K\rremote: Counting objects:  97% (41/42)   \u001b[K\rremote: Counting objects: 100% (42/42)   \u001b[K\rremote: Counting objects: 100% (42/42), done.\u001b[K\n",
            "remote: Compressing objects: 100% (40/40), done.\u001b[K\n",
            "remote: Total 146 (delta 9), reused 20 (delta 1), pack-reused 104\u001b[K\n",
            "Receiving objects: 100% (146/146), 34.11 MiB | 22.26 MiB/s, done.\n",
            "Resolving deltas: 100% (29/29), done.\n"
          ],
          "name": "stdout"
        }
      ]
    },
    {
      "cell_type": "markdown",
      "metadata": {
        "colab_type": "text",
        "id": "BPjNMuBE8UcP"
      },
      "source": [
        "A entrada é uma lista (`sizes`) contém o número de neurônios nas respectivas camadas da rede. Por exemplo, se a lista for [2, 3, 1] então será uma rede de três camadas, com o primeira camada contendo 2 neurônios, a segunda camada 3 neurônios, e a terceira camada 1 neurônio. Os bias e pesos para a rede são inicializados aleatoriamente, usando uma distribuição Gaussiana com média 0 e variância 1. Note que a primeira camada é assumida como uma camada de entrada, e por convenção não definimos nenhum bias para esses neurônios, pois os bias são usados na computação das saídas das camadas posteriores.\n"
      ]
    },
    {
      "cell_type": "markdown",
      "metadata": {
        "id": "MMLLNf3PUO61",
        "colab_type": "text"
      },
      "source": [
        "# **Rede 1**"
      ]
    },
    {
      "cell_type": "code",
      "metadata": {
        "colab_type": "code",
        "id": "tGf77mI_vuzP",
        "colab": {}
      },
      "source": [
        "# Classe Network\n",
        "class Network(object):\n",
        "\n",
        "    def __init__(self, sizes):\n",
        "        self.num_layers = len(sizes)\n",
        "        self.sizes = sizes\n",
        "        self.biases = [np.random.randn(y, 1) for y in sizes[1:]]\n",
        "        self.weights = [np.random.randn(y, x) for x, y in zip(sizes[:-1], sizes[1:])]\n",
        "\n",
        "    def feedforward(self, a,tipo_fun):\n",
        "        \"\"\"Retorna a saída da rede se `a` for entrada.\"\"\"\n",
        "        for b, w in zip(self.biases, self.weights):\n",
        "            a = funcao_ativacao(tipo_fun,False,np.dot(w, a)+b)\n",
        "        return a\n",
        "\n",
        "    def SGD(self, training_data, epochs, mini_batch_size, eta, test_data=None,tipo_fun='sigmoid'):\n",
        "        \"\"\"Treinar a rede neural usando o algoritmo mini batch com gradiente descendente. \n",
        "         A entrada é uma lista de tuplas\n",
        "         `(x, y)` representando as entradas de treinamento e as\n",
        "         saídas. Os outros parâmetros não opcionais são\n",
        "         auto-explicativos. Se `test_data` for fornecido, então a\n",
        "         rede será avaliada em relação aos dados do teste após cada\n",
        "         época e progresso parcial impresso. Isso é útil para\n",
        "         acompanhar o progresso, mas retarda as coisas substancialmente.\"\"\"\n",
        "        starting_eta = eta\n",
        "        training_data = list(training_data)\n",
        "        n = len(training_data)\n",
        "\n",
        "        if test_data:\n",
        "            test_data = list(test_data)\n",
        "            n_test = len(test_data)\n",
        "\n",
        "        for j in range(epochs):\n",
        "            random.shuffle(training_data)\n",
        "            mini_batches = [training_data[k:k+mini_batch_size] for k in range(0, n, mini_batch_size)]\n",
        "            \n",
        "            for mini_batch in mini_batches:\n",
        "                self.update_mini_batch(mini_batch, eta,tipo_fun)\n",
        "            eta = learning_upd(starting_eta,j,epochs)\n",
        "            if test_data:\n",
        "              print(\"Epoch {} : {} / {}\".format(j,self.evaluate(test_data,tipo_fun),n_test));\n",
        "            else:\n",
        "                print(\"Epoch {} finalizada\".format(j))\n",
        "\n",
        "    def update_mini_batch(self, mini_batch, eta,tipo_fun):\n",
        "        \"\"\"Atualiza os pesos e bias da rede aplicando\n",
        "         a descida do gradiente usando backpropagation para um único mini lote.\n",
        "         O `mini_batch` é uma lista de tuplas `(x, y)`, e `eta` é a taxa de aprendizado.\"\"\"\n",
        "\n",
        "        nabla_b = [np.zeros(b.shape) for b in self.biases]\n",
        "        nabla_w = [np.zeros(w.shape) for w in self.weights]\n",
        "        \n",
        "        for x, y in mini_batch:\n",
        "            delta_nabla_b, delta_nabla_w = self.backprop(x, y,tipo_fun)\n",
        "            nabla_b = [nb+dnb for nb, dnb in zip(nabla_b, delta_nabla_b)]\n",
        "            nabla_w = [nw+dnw for nw, dnw in zip(nabla_w, delta_nabla_w)]\n",
        "        \n",
        "        self.weights = [w-(eta/len(mini_batch))*nw for w, nw in zip(self.weights, nabla_w)]\n",
        "        self.biases = [b-(eta/len(mini_batch))*nb for b, nb in zip(self.biases, nabla_b)]\n",
        "\n",
        "    def backprop(self, x, y,tipo_fun):\n",
        "        \"\"\"Retorna uma tupla `(nabla_b, nabla_w)` representando o\n",
        "         gradiente para a função de custo C_x. `nabla_b` e\n",
        "         `nabla_w` são listas de camadas de matrizes numpy, semelhantes\n",
        "         a `self.biases` e `self.weights`.\"\"\"\n",
        "\n",
        "        nabla_b = [np.zeros(b.shape) for b in self.biases]\n",
        "        nabla_w = [np.zeros(w.shape) for w in self.weights]\n",
        "        \n",
        "        # Feedforward\n",
        "        activation = x\n",
        "\n",
        "        # Lista para armazenar todas as ativações, camada por camada\n",
        "        activations = [x] \n",
        "\n",
        "        # Lista para armazenar todos os vetores z, camada por camada\n",
        "        zs = [] \n",
        "\n",
        "        for b, w in zip(self.biases, self.weights):\n",
        "            z = np.dot(w, activation)+b\n",
        "            zs.append(z)\n",
        "            activation = funcao_ativacao(tipo_fun,False,z)\n",
        "            activations.append(activation)\n",
        "        \n",
        "        # Backward pass\n",
        "        delta = self.cost_derivative(activations[-1], y) * funcao_ativacao(tipo_fun,True,zs[-1])\n",
        "        nabla_b[-1] = delta\n",
        "        nabla_w[-1] = np.dot(delta, activations[-2].transpose())\n",
        "        \n",
        "        # Aqui, l = 1 significa a última camada de neurônios, l = 2 é a segunda e assim por diante. \n",
        "        for l in range(2, self.num_layers):\n",
        "            z = zs[-l]\n",
        "            sp = funcao_ativacao(tipo_fun,True,z)\n",
        "            delta = np.dot(self.weights[-l+1].transpose(), delta) * sp\n",
        "            nabla_b[-l] = delta\n",
        "            nabla_w[-l] = np.dot(delta, activations[-l-1].transpose())\n",
        "        return (nabla_b, nabla_w)\n",
        "\n",
        "    def evaluate(self, test_data,tipo_fun):\n",
        "        \"\"\"Retorna o número de entradas de teste para as quais a rede neural \n",
        "         produz o resultado correto. Note que a saída da rede neural\n",
        "         é considerada o índice de qualquer que seja\n",
        "         neurônio na camada final que tenha a maior ativação.\"\"\"\n",
        "\n",
        "        test_results = [(np.argmax(self.feedforward(x,tipo_fun)), np.argmax(y)) for (x, y) in test_data]\n",
        "        return sum(int(x == y) for (x, y) in test_results)\n",
        "\n",
        "    def cost_derivative(self, output_activations, y):\n",
        "        \"\"\"Retorna o vetor das derivadas parciais.\"\"\"\n",
        "        return (output_activations-y)\n",
        "\n",
        "# # Função de Ativação Sigmóide\n",
        "# def sigmoid(z):\n",
        "#     return 1.0/(1.0+np.exp(-z))\n",
        "\n",
        "# # Função para retornar as derivadas da função Sigmóide\n",
        "# def sigmoid_prime(z):\n",
        "#     return sigmoid(z)*(1-sigmoid(z))\n"
      ],
      "execution_count": 0,
      "outputs": []
    },
    {
      "cell_type": "code",
      "metadata": {
        "id": "c0yEcp11OAK-",
        "colab_type": "code",
        "colab": {}
      },
      "source": [
        "def funcao_ativacao(tipo, is_prime, z):\n",
        "  # Função de Ativação Sigmóide\n",
        "  def sigmoid(z):\n",
        "      return 1.0/(1.0+np.exp(-z))\n",
        "\n",
        "  def relu(z):\n",
        "      return np.array([[max(0, i[0])] for i in z])\n",
        "\n",
        "  # Função para retornar as derivadas da função Sigmóide\n",
        "  def sigmoid_prime(z):\n",
        "      return sigmoid(z)*(1-sigmoid(z))\n",
        "\n",
        "  def relu_prime(z):\n",
        "      return relu(z)*(1-relu(z))\n",
        "  \n",
        "  switcher = {\n",
        "      'sigmoid': sigmoid,\n",
        "      'relu': relu\n",
        "  }\n",
        "  \n",
        "  switcher_prime = {\n",
        "      'sigmoid': sigmoid_prime,\n",
        "      'relu': relu_prime,\n",
        "  }\n",
        "  \n",
        "  if is_prime:\n",
        "    fun = switcher_prime.get(tipo)\n",
        "  else:\n",
        "    fun = switcher.get(tipo)\n",
        "  return fun(z)\n",
        "\n",
        "\n",
        "def learning_upd(taxa_inicial, epoch, n_epochs):\n",
        "    return taxa_inicial * np.exp(-epoch / n_epochs)"
      ],
      "execution_count": 0,
      "outputs": []
    },
    {
      "cell_type": "markdown",
      "metadata": {
        "colab_type": "text",
        "id": "6lndK7bt9F6d"
      },
      "source": [
        "Como exemplo, essa mesma rede será executada na base de dados MNIST. O codigo abaixo carrega a base de dados."
      ]
    },
    {
      "cell_type": "code",
      "metadata": {
        "colab_type": "code",
        "id": "KOZwqOkDv3t-",
        "colab": {}
      },
      "source": [
        "# Carregar o dataset MNIST\n",
        "\n",
        "# Imports\n",
        "import pickle\n",
        "import gzip\n",
        "import numpy as np\n",
        "\n",
        "def load_data():\n",
        "    f = gzip.open('redes_neurais/MLP/mnist.pkl.gz', 'rb')\n",
        "    training_data, validation_data, test_data = pickle.load(f, encoding=\"latin1\")\n",
        "    f.close()\n",
        "    return (training_data, validation_data, test_data)\n",
        "\n",
        "def load_data_wrapper():\n",
        "    tr_d, va_d, te_d = load_data()\n",
        "    training_inputs = [np.reshape(x, (784, 1)) for x in tr_d[0]]\n",
        "    training_results = [vectorized_result(y) for y in tr_d[1]]\n",
        "    training_data = zip(training_inputs, training_results)\n",
        "    validation_inputs = [np.reshape(x, (784, 1)) for x in va_d[0]]\n",
        "    validation_data = zip(validation_inputs, va_d[1])\n",
        "    test_inputs = [np.reshape(x, (784, 1)) for x in te_d[0]]\n",
        "    test_data = zip(test_inputs, te_d[1])\n",
        "    return (training_data, validation_data, test_data)\n",
        "\n",
        "def vectorized_result(j):\n",
        "    e = np.zeros((10, 1))\n",
        "    e[j] = 1.0\n",
        "    return e\n",
        "  \n",
        "def all_data():\n",
        "  training_data, validation_data, test_data = load_data_wrapper()\n",
        "\n",
        "  training_data = list(training_data)\n",
        "  validation_data = list(validation_data)\n",
        "  test_data = list(test_data)\n",
        "\n",
        "  return training_data + validation_data + test_data\n"
      ],
      "execution_count": 0,
      "outputs": []
    },
    {
      "cell_type": "markdown",
      "metadata": {
        "colab_type": "text",
        "id": "a2V5r3YW95A4"
      },
      "source": [
        "#Executa a rede neural\n",
        "\n",
        "Parâmetros de rede:\n",
        "         2º param é contagem de épocas\n",
        "         3º param é tamanho do lote\n",
        "         4º param é a taxa de aprendizado (eta)\n",
        "\n",
        "\n"
      ]
    },
    {
      "cell_type": "code",
      "metadata": {
        "colab_type": "code",
        "id": "7c86ya6KrquI",
        "outputId": "dacfdfe9-ec0a-499b-e5c3-fe3db1f3df02",
        "colab": {
          "base_uri": "https://localhost:8080/",
          "height": 538
        }
      },
      "source": [
        "training_data, validation_data, test_data = load_data_wrapper()\n",
        "training_data = list(training_data)\n",
        "\n",
        "\n",
        "net = Network([784, 30, 10])\n",
        "net.SGD(training_data, 30, 10, 3.0, test_data=test_data)\n",
        "\n"
      ],
      "execution_count": 6,
      "outputs": [
        {
          "output_type": "stream",
          "text": [
            "Epoch 0 : 1019 / 10000\n",
            "Epoch 1 : 1007 / 10000\n",
            "Epoch 2 : 988 / 10000\n",
            "Epoch 3 : 1014 / 10000\n",
            "Epoch 4 : 1007 / 10000\n",
            "Epoch 5 : 1008 / 10000\n",
            "Epoch 6 : 1027 / 10000\n",
            "Epoch 7 : 1013 / 10000\n",
            "Epoch 8 : 997 / 10000\n",
            "Epoch 9 : 1001 / 10000\n",
            "Epoch 10 : 1023 / 10000\n",
            "Epoch 11 : 1010 / 10000\n",
            "Epoch 12 : 1000 / 10000\n",
            "Epoch 13 : 1021 / 10000\n",
            "Epoch 14 : 1011 / 10000\n",
            "Epoch 15 : 998 / 10000\n",
            "Epoch 16 : 1026 / 10000\n",
            "Epoch 17 : 1002 / 10000\n",
            "Epoch 18 : 1025 / 10000\n",
            "Epoch 19 : 1011 / 10000\n",
            "Epoch 20 : 1004 / 10000\n",
            "Epoch 21 : 1003 / 10000\n",
            "Epoch 22 : 1011 / 10000\n",
            "Epoch 23 : 1008 / 10000\n",
            "Epoch 24 : 1008 / 10000\n",
            "Epoch 25 : 1002 / 10000\n",
            "Epoch 26 : 1011 / 10000\n",
            "Epoch 27 : 997 / 10000\n",
            "Epoch 28 : 1011 / 10000\n",
            "Epoch 29 : 1000 / 10000\n"
          ],
          "name": "stdout"
        }
      ]
    },
    {
      "cell_type": "markdown",
      "metadata": {
        "colab_type": "text",
        "id": "rLJbbYrFdU_w"
      },
      "source": [
        "##Mini-Projeto\n",
        "\n",
        "1) Realizar avaliaçao usando validação cruzada\n",
        "\n",
        "2) Modificar a taxa de aprendizagem pra diminuir com o tempo\n",
        "\n",
        "3) Realizar avaliações com a validação cruzada modificando os seguintes parâmetros:\n",
        "     \n",
        "     a) Taxa de aprendizagem: 0.5, 0.1 e 0.001\n",
        "     b) Função de ativação RELU\n",
        "     c) 3 diferentes configurações de neurônios na camada  intermediária\n",
        "\n",
        "\n",
        "Data de Entrega: 23/04/2019\n",
        "\n",
        "A partir dos melhores resultados obtidos na etapa anterior, resolver as seguintes questões:\n",
        "\n",
        "4) Implementar as regularizações L1 e L2\n",
        "\n",
        "5) Implementar o Momento\n",
        "\n",
        "6) Comparar os experimentos e explicar o que achou dos resultados.\n",
        "\n",
        "Data de Entrega: 30/04/2019\n"
      ]
    },
    {
      "cell_type": "code",
      "metadata": {
        "id": "1uTGwNnhHi7W",
        "colab_type": "code",
        "outputId": "986929c1-25f3-4333-c395-3a4e21cb5c75",
        "colab": {
          "base_uri": "https://localhost:8080/",
          "height": 191
        }
      },
      "source": [
        "data = all_data()\n",
        "net = Network([784, 30, 10])\n",
        "acertos_dict = {}\n",
        "crossValidation = KFold(n_splits= 4)\n",
        "at = 0.5\n",
        "epoch = 1\n",
        "\n",
        "for i, index in enumerate(crossValidation.split(data)):\n",
        "  train_index = index[0]\n",
        "  test_index = index[1]\n",
        "  \n",
        "  k = \"K {}\".format(i)\n",
        "  \n",
        "  print(k)\n",
        "  training_data = data[train_index[0]:train_index[-1]+1]\n",
        "  testing_data = data[test_index[0]:test_index[-1]+1]\n",
        "  \n",
        "  result = net.SGD(training_data, epoch, 10, at,test_data=testing_data, tipo_fun='relu')\n",
        "  acertos_dict[k] = result"
      ],
      "execution_count": 7,
      "outputs": [
        {
          "output_type": "stream",
          "text": [
            "K 0\n"
          ],
          "name": "stdout"
        },
        {
          "output_type": "stream",
          "text": [
            "/usr/local/lib/python3.6/dist-packages/ipykernel_launcher.py:85: RuntimeWarning: overflow encountered in multiply\n",
            "/usr/local/lib/python3.6/dist-packages/ipykernel_launcher.py:93: RuntimeWarning: invalid value encountered in multiply\n"
          ],
          "name": "stderr"
        },
        {
          "output_type": "stream",
          "text": [
            "Epoch 0 : 1741 / 17500\n",
            "K 1\n",
            "Epoch 0 : 1693 / 17500\n",
            "K 2\n",
            "Epoch 0 : 3998 / 17500\n",
            "K 3\n",
            "Epoch 0 : 17500 / 17500\n"
          ],
          "name": "stdout"
        }
      ]
    },
    {
      "cell_type": "code",
      "metadata": {
        "id": "oJQ_PoecIL7f",
        "colab_type": "code",
        "outputId": "31ddb045-3ff3-45f5-8fa7-b1bf0bb24757",
        "colab": {
          "base_uri": "https://localhost:8080/",
          "height": 243
        }
      },
      "source": [
        "data = all_data()\n",
        "net = Network([784, 30, 10])\n",
        "acertos_dict = {}\n",
        "crossValidation = KFold(n_splits= 4)\n",
        "at = 0.1\n",
        "epoch = 1\n",
        "\n",
        "for i, index in enumerate(crossValidation.split(data)):\n",
        "  train_index = index[0]\n",
        "  test_index = index[1]\n",
        "  \n",
        "  k = \"K {}\".format(i)\n",
        "  \n",
        "  print(k)\n",
        "  training_data = data[train_index[0]:train_index[-1]+1]\n",
        "  testing_data = data[test_index[0]:test_index[-1]+1]\n",
        "  \n",
        "  result = net.SGD(training_data, epoch, 10, at,test_data=testing_data, tipo_fun='relu')\n",
        "  acertos_dict[k] = result"
      ],
      "execution_count": 8,
      "outputs": [
        {
          "output_type": "stream",
          "text": [
            "K 0\n"
          ],
          "name": "stdout"
        },
        {
          "output_type": "stream",
          "text": [
            "/usr/local/lib/python3.6/dist-packages/ipykernel_launcher.py:93: RuntimeWarning: overflow encountered in multiply\n",
            "/usr/local/lib/python3.6/dist-packages/ipykernel_launcher.py:14: RuntimeWarning: overflow encountered in multiply\n",
            "  \n",
            "/usr/local/lib/python3.6/dist-packages/ipykernel_launcher.py:85: RuntimeWarning: overflow encountered in multiply\n",
            "/usr/local/lib/python3.6/dist-packages/ipykernel_launcher.py:93: RuntimeWarning: invalid value encountered in multiply\n"
          ],
          "name": "stderr"
        },
        {
          "output_type": "stream",
          "text": [
            "Epoch 0 : 1741 / 17500\n",
            "K 1\n",
            "Epoch 0 : 1693 / 17500\n",
            "K 2\n",
            "Epoch 0 : 3998 / 17500\n",
            "K 3\n",
            "Epoch 0 : 17500 / 17500\n"
          ],
          "name": "stdout"
        }
      ]
    },
    {
      "cell_type": "code",
      "metadata": {
        "id": "_zEeLeV0if5I",
        "colab_type": "code",
        "outputId": "892d5fb1-3b2a-432a-dc09-a814fd6025c8",
        "colab": {
          "base_uri": "https://localhost:8080/",
          "height": 225
        }
      },
      "source": [
        "data = all_data()\n",
        "net = Network([784, 30, 10])\n",
        "acertos_dict = {}\n",
        "crossValidation = KFold(n_splits= 4)\n",
        "at = 0.4\n",
        "epoch = 1\n",
        "\n",
        "for i, index in enumerate(crossValidation.split(data)):\n",
        "  train_index = index[0]\n",
        "  test_index = index[1]\n",
        "  \n",
        "  k = \"K {}\".format(i)\n",
        "  \n",
        "  print(k)\n",
        "  training_data = data[train_index[0]:train_index[-1]+1]\n",
        "  testing_data = data[test_index[0]:test_index[-1]+1]\n",
        "  \n",
        "  result = net.SGD(training_data, epoch, 10, at,test_data=testing_data, tipo_fun='relu')\n",
        "  acertos_dict[k] = result"
      ],
      "execution_count": 9,
      "outputs": [
        {
          "output_type": "stream",
          "text": [
            "K 0\n"
          ],
          "name": "stdout"
        },
        {
          "output_type": "stream",
          "text": [
            "/usr/local/lib/python3.6/dist-packages/ipykernel_launcher.py:85: RuntimeWarning: overflow encountered in multiply\n",
            "/usr/local/lib/python3.6/dist-packages/ipykernel_launcher.py:93: RuntimeWarning: invalid value encountered in multiply\n",
            "/usr/local/lib/python3.6/dist-packages/ipykernel_launcher.py:14: RuntimeWarning: overflow encountered in multiply\n",
            "  \n"
          ],
          "name": "stderr"
        },
        {
          "output_type": "stream",
          "text": [
            "Epoch 0 : 1741 / 17500\n",
            "K 1\n",
            "Epoch 0 : 1693 / 17500\n",
            "K 2\n",
            "Epoch 0 : 3998 / 17500\n",
            "K 3\n",
            "Epoch 0 : 17500 / 17500\n"
          ],
          "name": "stdout"
        }
      ]
    },
    {
      "cell_type": "code",
      "metadata": {
        "id": "LP_BtyNJjnD2",
        "colab_type": "code",
        "outputId": "822a7afc-3972-47f4-d9a1-caa6f877f0ac",
        "colab": {
          "base_uri": "https://localhost:8080/",
          "height": 225
        }
      },
      "source": [
        "data = all_data()\n",
        "net = Network([784, 40, 10])\n",
        "acertos_dict = {}\n",
        "crossValidation = KFold(n_splits= 4)\n",
        "at = 0.5\n",
        "epoch = 1\n",
        "\n",
        "for i, index in enumerate(crossValidation.split(data)):\n",
        "  train_index = index[0]\n",
        "  test_index = index[1]\n",
        "  \n",
        "  k = \"K {}\".format(i)\n",
        "  \n",
        "  print(k)\n",
        "  training_data = data[train_index[0]:train_index[-1]+1]\n",
        "  testing_data = data[test_index[0]:test_index[-1]+1]\n",
        "  \n",
        "  result = net.SGD(training_data, epoch, 10, at,test_data=testing_data, tipo_fun='relu')\n",
        "  acertos_dict[k] = result"
      ],
      "execution_count": 10,
      "outputs": [
        {
          "output_type": "stream",
          "text": [
            "K 0\n"
          ],
          "name": "stdout"
        },
        {
          "output_type": "stream",
          "text": [
            "/usr/local/lib/python3.6/dist-packages/ipykernel_launcher.py:85: RuntimeWarning: overflow encountered in multiply\n",
            "/usr/local/lib/python3.6/dist-packages/ipykernel_launcher.py:93: RuntimeWarning: invalid value encountered in multiply\n",
            "/usr/local/lib/python3.6/dist-packages/ipykernel_launcher.py:14: RuntimeWarning: overflow encountered in multiply\n",
            "  \n"
          ],
          "name": "stderr"
        },
        {
          "output_type": "stream",
          "text": [
            "Epoch 0 : 1741 / 17500\n",
            "K 1\n",
            "Epoch 0 : 1693 / 17500\n",
            "K 2\n",
            "Epoch 0 : 3998 / 17500\n",
            "K 3\n",
            "Epoch 0 : 17500 / 17500\n"
          ],
          "name": "stdout"
        }
      ]
    },
    {
      "cell_type": "code",
      "metadata": {
        "id": "nWMKanHNjnM7",
        "colab_type": "code",
        "outputId": "abebd15b-f933-4009-d3e3-49e48bcf16af",
        "colab": {
          "base_uri": "https://localhost:8080/",
          "height": 208
        }
      },
      "source": [
        "data = all_data()\n",
        "net = Network([784, 40, 10])\n",
        "acertos_dict = {}\n",
        "crossValidation = KFold(n_splits= 4)\n",
        "at = 0.5\n",
        "epoch = 1\n",
        "\n",
        "for i, index in enumerate(crossValidation.split(data)):\n",
        "  train_index = index[0]\n",
        "  test_index = index[1]\n",
        "  \n",
        "  k = \"K {}\".format(i)\n",
        "  \n",
        "  print(k)\n",
        "  training_data = data[train_index[0]:train_index[-1]+1]\n",
        "  testing_data = data[test_index[0]:test_index[-1]+1]\n",
        "  \n",
        "  result = net.SGD(training_data, epoch, 10, at,test_data=testing_data, tipo_fun='relu')\n",
        "  acertos_dict[k] = result"
      ],
      "execution_count": 11,
      "outputs": [
        {
          "output_type": "stream",
          "text": [
            "K 0\n"
          ],
          "name": "stdout"
        },
        {
          "output_type": "stream",
          "text": [
            "/usr/local/lib/python3.6/dist-packages/ipykernel_launcher.py:93: RuntimeWarning: invalid value encountered in multiply\n",
            "/usr/local/lib/python3.6/dist-packages/ipykernel_launcher.py:14: RuntimeWarning: overflow encountered in multiply\n",
            "  \n"
          ],
          "name": "stderr"
        },
        {
          "output_type": "stream",
          "text": [
            "Epoch 0 : 1741 / 17500\n",
            "K 1\n",
            "Epoch 0 : 1693 / 17500\n",
            "K 2\n",
            "Epoch 0 : 3998 / 17500\n",
            "K 3\n",
            "Epoch 0 : 17500 / 17500\n"
          ],
          "name": "stdout"
        }
      ]
    },
    {
      "cell_type": "code",
      "metadata": {
        "id": "vs5-fan4jnXm",
        "colab_type": "code",
        "outputId": "6f285d42-469d-4fc1-9e98-15bf76d7dd0c",
        "colab": {
          "base_uri": "https://localhost:8080/",
          "height": 225
        }
      },
      "source": [
        "data = all_data()\n",
        "net = Network([784, 40, 10])\n",
        "acertos_dict = {}\n",
        "crossValidation = KFold(n_splits= 4)\n",
        "at = 0.5\n",
        "epoch = 1\n",
        "\n",
        "for i, index in enumerate(crossValidation.split(data)):\n",
        "  train_index = index[0]\n",
        "  test_index = index[1]\n",
        "  \n",
        "  k = \"K {}\".format(i)\n",
        "  \n",
        "  print(k)\n",
        "  training_data = data[train_index[0]:train_index[-1]+1]\n",
        "  testing_data = data[test_index[0]:test_index[-1]+1]\n",
        "  \n",
        "  result = net.SGD(training_data, epoch, 10, at,test_data=testing_data, tipo_fun='relu')\n",
        "  acertos_dict[k] = result"
      ],
      "execution_count": 12,
      "outputs": [
        {
          "output_type": "stream",
          "text": [
            "K 0\n"
          ],
          "name": "stdout"
        },
        {
          "output_type": "stream",
          "text": [
            "/usr/local/lib/python3.6/dist-packages/ipykernel_launcher.py:93: RuntimeWarning: overflow encountered in multiply\n",
            "/usr/local/lib/python3.6/dist-packages/ipykernel_launcher.py:14: RuntimeWarning: overflow encountered in multiply\n",
            "  \n",
            "/usr/local/lib/python3.6/dist-packages/ipykernel_launcher.py:93: RuntimeWarning: invalid value encountered in multiply\n"
          ],
          "name": "stderr"
        },
        {
          "output_type": "stream",
          "text": [
            "Epoch 0 : 1741 / 17500\n",
            "K 1\n",
            "Epoch 0 : 1693 / 17500\n",
            "K 2\n",
            "Epoch 0 : 3998 / 17500\n",
            "K 3\n",
            "Epoch 0 : 17500 / 17500\n"
          ],
          "name": "stdout"
        }
      ]
    },
    {
      "cell_type": "code",
      "metadata": {
        "id": "cBQcLGzxjnmB",
        "colab_type": "code",
        "outputId": "533c92c8-5f28-493d-cc2c-1e1c93393a1c",
        "colab": {
          "base_uri": "https://localhost:8080/",
          "height": 243
        }
      },
      "source": [
        "data = all_data()\n",
        "net = Network([784, 60, 10])\n",
        "acertos_dict = {}\n",
        "crossValidation = KFold(n_splits= 4)\n",
        "at = 0.5\n",
        "epoch = 1\n",
        "\n",
        "for i, index in enumerate(crossValidation.split(data)):\n",
        "  train_index = index[0]\n",
        "  test_index = index[1]\n",
        "  \n",
        "  k = \"K {}\".format(i)\n",
        "  \n",
        "  print(k)\n",
        "  training_data = data[train_index[0]:train_index[-1]+1]\n",
        "  testing_data = data[test_index[0]:test_index[-1]+1]\n",
        "  \n",
        "  result = net.SGD(training_data, epoch, 10, at,test_data=testing_data, tipo_fun='relu')\n",
        "  acertos_dict[k] = result"
      ],
      "execution_count": 13,
      "outputs": [
        {
          "output_type": "stream",
          "text": [
            "K 0\n"
          ],
          "name": "stdout"
        },
        {
          "output_type": "stream",
          "text": [
            "/usr/local/lib/python3.6/dist-packages/ipykernel_launcher.py:93: RuntimeWarning: overflow encountered in multiply\n",
            "/usr/local/lib/python3.6/dist-packages/ipykernel_launcher.py:93: RuntimeWarning: invalid value encountered in multiply\n",
            "/usr/local/lib/python3.6/dist-packages/ipykernel_launcher.py:14: RuntimeWarning: overflow encountered in multiply\n",
            "  \n",
            "/usr/local/lib/python3.6/dist-packages/ipykernel_launcher.py:85: RuntimeWarning: overflow encountered in multiply\n"
          ],
          "name": "stderr"
        },
        {
          "output_type": "stream",
          "text": [
            "Epoch 0 : 1741 / 17500\n",
            "K 1\n",
            "Epoch 0 : 1693 / 17500\n",
            "K 2\n",
            "Epoch 0 : 3998 / 17500\n",
            "K 3\n",
            "Epoch 0 : 17500 / 17500\n"
          ],
          "name": "stdout"
        }
      ]
    },
    {
      "cell_type": "code",
      "metadata": {
        "id": "t_QDn894jnr4",
        "colab_type": "code",
        "outputId": "2578702e-7ec3-4259-df9d-b30c9d128d48",
        "colab": {
          "base_uri": "https://localhost:8080/",
          "height": 208
        }
      },
      "source": [
        "data = all_data()\n",
        "net = Network([784, 60, 10])\n",
        "acertos_dict = {}\n",
        "crossValidation = KFold(n_splits= 4)\n",
        "at = 0.1\n",
        "epoch = 1\n",
        "\n",
        "for i, index in enumerate(crossValidation.split(data)):\n",
        "  train_index = index[0]\n",
        "  test_index = index[1]\n",
        "  \n",
        "  k = \"K {}\".format(i)\n",
        "  \n",
        "  print(k)\n",
        "  training_data = data[train_index[0]:train_index[-1]+1]\n",
        "  testing_data = data[test_index[0]:test_index[-1]+1]\n",
        "  \n",
        "  result = net.SGD(training_data, epoch, 10, at,test_data=testing_data, tipo_fun='relu')\n",
        "  acertos_dict[k] = result"
      ],
      "execution_count": 14,
      "outputs": [
        {
          "output_type": "stream",
          "text": [
            "K 0\n"
          ],
          "name": "stdout"
        },
        {
          "output_type": "stream",
          "text": [
            "/usr/local/lib/python3.6/dist-packages/ipykernel_launcher.py:14: RuntimeWarning: overflow encountered in multiply\n",
            "  \n",
            "/usr/local/lib/python3.6/dist-packages/ipykernel_launcher.py:93: RuntimeWarning: invalid value encountered in multiply\n"
          ],
          "name": "stderr"
        },
        {
          "output_type": "stream",
          "text": [
            "Epoch 0 : 1741 / 17500\n",
            "K 1\n",
            "Epoch 0 : 1693 / 17500\n",
            "K 2\n",
            "Epoch 0 : 3998 / 17500\n",
            "K 3\n",
            "Epoch 0 : 17500 / 17500\n"
          ],
          "name": "stdout"
        }
      ]
    },
    {
      "cell_type": "code",
      "metadata": {
        "id": "Qvnxxudujn4J",
        "colab_type": "code",
        "outputId": "138932c8-ae60-44eb-abad-c43e0065d18d",
        "colab": {
          "base_uri": "https://localhost:8080/",
          "height": 243
        }
      },
      "source": [
        "data = all_data()\n",
        "net = Network([784, 60, 10])\n",
        "acertos_dict = {}\n",
        "crossValidation = KFold(n_splits= 4)\n",
        "at = 0.01\n",
        "epoch = 1\n",
        "\n",
        "for i, index in enumerate(crossValidation.split(data)):\n",
        "  train_index = index[0]\n",
        "  test_index = index[1]\n",
        "  \n",
        "  k = \"K {}\".format(i)\n",
        "  \n",
        "  print(k)\n",
        "  training_data = data[train_index[0]:train_index[-1]+1]\n",
        "  testing_data = data[test_index[0]:test_index[-1]+1]\n",
        "  \n",
        "  result = net.SGD(training_data, epoch, 10, at,test_data=testing_data, tipo_fun='relu')\n",
        "  acertos_dict[k] = result"
      ],
      "execution_count": 15,
      "outputs": [
        {
          "output_type": "stream",
          "text": [
            "K 0\n"
          ],
          "name": "stdout"
        },
        {
          "output_type": "stream",
          "text": [
            "/usr/local/lib/python3.6/dist-packages/ipykernel_launcher.py:93: RuntimeWarning: overflow encountered in multiply\n",
            "/usr/local/lib/python3.6/dist-packages/ipykernel_launcher.py:14: RuntimeWarning: overflow encountered in multiply\n",
            "  \n",
            "/usr/local/lib/python3.6/dist-packages/ipykernel_launcher.py:85: RuntimeWarning: overflow encountered in multiply\n",
            "/usr/local/lib/python3.6/dist-packages/ipykernel_launcher.py:93: RuntimeWarning: invalid value encountered in multiply\n"
          ],
          "name": "stderr"
        },
        {
          "output_type": "stream",
          "text": [
            "Epoch 0 : 1852 / 17500\n",
            "K 1\n",
            "Epoch 0 : 1780 / 17500\n",
            "K 2\n",
            "Epoch 0 : 1543 / 17500\n",
            "K 3\n",
            "Epoch 0 : 0 / 17500\n"
          ],
          "name": "stdout"
        }
      ]
    },
    {
      "cell_type": "markdown",
      "metadata": {
        "id": "VgQOFd3S_Bl1",
        "colab_type": "text"
      },
      "source": [
        "**PARTE 2**"
      ]
    },
    {
      "cell_type": "code",
      "metadata": {
        "id": "Wt5oZgyL_E9M",
        "colab_type": "code",
        "colab": {}
      },
      "source": [
        "# Classe Network\n",
        "class Network2(object):\n",
        "\n",
        "    def __init__(self, sizes, regularizacao='L1', lambda_value=0.00001, beta=0.7):\n",
        "        self.num_layers = len(sizes)\n",
        "        self.sizes = sizes\n",
        "        self.biases = [np.random.randn(y, 1) for y in sizes[1:]]\n",
        "        self.weights = [np.random.randn(y, x) for x, y in zip(sizes[:-1], sizes[1:])]\n",
        "        self.lambda_value = lambda_value\n",
        "        self.regularizacao = regularizacao\n",
        "        self.beta = beta\n",
        "\n",
        "    def feedforward(self, a, tipo_fun):\n",
        "        \"\"\"Retorna a saída da rede se `a` for entrada.\"\"\"\n",
        "        for b, w in zip(self.biases, self.weights):\n",
        "            a = funcao_ativacao(tipo_fun, False, np.dot(w, a)+b)\n",
        "        return a\n",
        "\n",
        "    def SGD(self, training_data, epochs, mini_batch_size, eta, test_data=None,\n",
        "            tipo_fun='sigmoid'):\n",
        "        \"\"\"Treinar a rede neural usando o algoritmo mini batch com gradiente descendente. \n",
        "         A entrada é uma lista de tuplas\n",
        "         `(x, y)` representando as entradas de treinamento e as\n",
        "         saídas. Os outros parâmetros não opcionais são\n",
        "         auto-explicativos. Se `test_data` for fornecido, então a\n",
        "         rede será avaliada em relação aos dados do teste após cada\n",
        "         época e progresso parcial impresso. Isso é útil para\n",
        "         acompanhar o progresso, mas retarda as coisas substancialmente.\"\"\"\n",
        "        \n",
        "        eta_inicial = eta\n",
        "        training_data = list(training_data)\n",
        "        n = len(training_data)\n",
        "\n",
        "        for j in range(epochs):\n",
        "            random.shuffle(training_data)\n",
        "            mini_batches = [training_data[k:k+mini_batch_size] for k in range(0, n, mini_batch_size)]\n",
        "            \n",
        "            for mini_batch in mini_batches:\n",
        "                self.update_mini_batch(mini_batch, eta, tipo_fun)\n",
        "                        \n",
        "            eta = learning_upd(eta_inicial, j, epochs)\n",
        "        \n",
        "          \n",
        "        if test_data:\n",
        "            predic = self.evaluate(test_data, tipo_fun)\n",
        "            print(\"Total Input {} / Total predict {}\".format(len(test_data), predic))\n",
        "            return predic\n",
        "        else:\n",
        "            print(\"Epoch {} finalizada\".format(j))\n",
        "               \n",
        "    def update_mini_batch(self, mini_batch, eta, tipo_fun):\n",
        "        \"\"\"Atualiza os pesos e bias da rede aplicando\n",
        "         a descida do gradiente usando backpropagation para um único mini lote.\n",
        "         O `mini_batch` é uma lista de tuplas `(x, y)`, e `eta` é a taxa de aprendizado.\"\"\"\n",
        "\n",
        "        nabla_b = [np.zeros(b.shape) for b in self.biases]\n",
        "        nabla_w = [np.zeros(w.shape) for w in self.weights]\n",
        "        \n",
        "        for x, y in mini_batch:\n",
        "          delta_nabla_b, delta_nabla_w = self.backprop(x, y, tipo_fun)\n",
        "          nabla_b = [nb+dnb for nb, dnb in zip(nabla_b, delta_nabla_b)]\n",
        "          nabla_w = [nw+dnw for nw, dnw in zip(nabla_w, delta_nabla_w)]\n",
        "        \n",
        "        pos = 0\n",
        "#         momento = []\n",
        "        for w, nw in zip(self.weights, nabla_w):\n",
        "          constante = self.lambda_value\n",
        "\n",
        "          if self.regularizacao == 'L2':\n",
        "            constante *= w \n",
        "          \n",
        "#           if len(momento) == 0:\n",
        "#             v_t = self.beta\n",
        "#           else:\n",
        "#             v_t = self.beta*momento[pos-1] + self.weights[pos-1]\n",
        "          \n",
        "#           momento.append(v_t)\n",
        "#           peso = w-(eta/len(mini_batch))*nw\n",
        "#           self.weights[pos] = (peso + constante) - v_t\n",
        "          self.weights[pos] = w-(eta/len(mini_batch))*nw + constante\n",
        "          pos += 1\n",
        "\n",
        "        self.biases = [b-(eta/len(mini_batch))*nb for b, nb in zip(self.biases, nabla_b)]\n",
        "        \n",
        "\n",
        "    def backprop(self, x, y, tipo_fun):\n",
        "        \"\"\"Retorna uma tupla `(nabla_b, nabla_w)` representando o\n",
        "         gradiente para a função de custo C_x. `nabla_b` e\n",
        "         `nabla_w` são listas de camadas de matrizes numpy, semelhantes\n",
        "         a `self.biases` e `self.weights`.\"\"\"\n",
        "\n",
        "        nabla_b = [np.zeros(b.shape) for b in self.biases]\n",
        "        nabla_w = [np.zeros(w.shape) for w in self.weights]\n",
        "        \n",
        "        # Feedforward\n",
        "        activation = x\n",
        "\n",
        "        # Lista para armazenar todas as ativações, camada por camada\n",
        "        activations = [x] \n",
        "\n",
        "        # Lista para armazenar todos os vetores z, camada por camada\n",
        "        zs = [] \n",
        "\n",
        "        for b, w in zip(self.biases, self.weights):\n",
        "            z = np.dot(w, activation)+b\n",
        "            zs.append(z)\n",
        "            activation = funcao_ativacao(tipo_fun, False, z)\n",
        "            activations.append(activation)\n",
        "        \n",
        "        # Backward pass\n",
        "        delta = self.cost_derivative(activations[-1], y) * funcao_ativacao(tipo_fun, True, zs[-1])\n",
        "        nabla_b[-1] = delta\n",
        "        nabla_w[-1] = np.dot(delta, activations[-2].transpose())\n",
        "        \n",
        "        # Aqui, l = 1 significa a última camada de neurônios, l = 2 é a segunda e assim por diante. \n",
        "        for l in range(2, self.num_layers):\n",
        "            z = zs[-l]\n",
        "            sp = funcao_ativacao(tipo_fun, True, z)\n",
        "            delta = np.dot(self.weights[-l+1].transpose(), delta) * sp\n",
        "            nabla_b[-l] = delta\n",
        "            nabla_w[-l] = np.dot(delta, activations[-l-1].transpose())\n",
        "        return (nabla_b, nabla_w)\n",
        "\n",
        "    def evaluate(self, test_data, tipo_fun):\n",
        "        \"\"\"Retorna o número de entradas de teste para as quais a rede neural \n",
        "         produz o resultado correto. Note que a saída da rede neural\n",
        "         é considerada o índice de qualquer que seja\n",
        "         neurônio na camada final que tenha a maior ativação.\"\"\"\n",
        "\n",
        "        test_results = [(np.argmax(self.feedforward(x, tipo_fun)), np.argmax(y)) for (x, y) in test_data]\n",
        "        return sum(int(x == y) for (x, y) in test_results)\n",
        "\n",
        "    def cost_derivative(self, output_activations, y):\n",
        "        \"\"\"Retorna o vetor das derivadas parciais.\"\"\"\n",
        "        return (output_activations-y)"
      ],
      "execution_count": 0,
      "outputs": []
    },
    {
      "cell_type": "code",
      "metadata": {
        "id": "Oubh2kmNBCJO",
        "colab_type": "code",
        "outputId": "598b5b79-f9bc-495a-d558-a2f39e8aed7f",
        "colab": {
          "base_uri": "https://localhost:8080/",
          "height": 260
        }
      },
      "source": [
        "data = all_data()\n",
        "net = Network2([784, 30, 10])\n",
        "acertos_dict = {}\n",
        "crossValidation = KFold(n_splits= 4)\n",
        "at = 0.5\n",
        "epoch = 10\n",
        "\n",
        "for i, index in enumerate(crossValidation.split(data)):\n",
        "  train_index = index[0]\n",
        "  test_index = index[1]\n",
        "  \n",
        "  k = \"K {}\".format(i)\n",
        "  \n",
        "  print(k)\n",
        "  training_data = data[train_index[0]:train_index[-1]+1]\n",
        "  testing_data = data[test_index[0]:test_index[-1]+1]\n",
        "  \n",
        "  result = net.SGD(training_data, epoch, 10, at,test_data=testing_data, tipo_fun='relu')"
      ],
      "execution_count": 20,
      "outputs": [
        {
          "output_type": "stream",
          "text": [
            "K 0\n"
          ],
          "name": "stdout"
        },
        {
          "output_type": "stream",
          "text": [
            "/usr/local/lib/python3.6/dist-packages/ipykernel_launcher.py:118: RuntimeWarning: invalid value encountered in multiply\n",
            "/usr/local/lib/python3.6/dist-packages/ipykernel_launcher.py:61: RuntimeWarning: overflow encountered in add\n",
            "/usr/local/lib/python3.6/dist-packages/ipykernel_launcher.py:118: RuntimeWarning: overflow encountered in multiply\n",
            "/usr/local/lib/python3.6/dist-packages/ipykernel_launcher.py:14: RuntimeWarning: overflow encountered in multiply\n",
            "  \n",
            "/usr/local/lib/python3.6/dist-packages/ipykernel_launcher.py:110: RuntimeWarning: overflow encountered in multiply\n"
          ],
          "name": "stderr"
        },
        {
          "output_type": "stream",
          "text": [
            "Total Input 17500 / Total predict 1741\n",
            "K 1\n",
            "Total Input 17500 / Total predict 1693\n",
            "K 2\n",
            "Total Input 17500 / Total predict 3998\n",
            "K 3\n",
            "Total Input 17500 / Total predict 17500\n"
          ],
          "name": "stdout"
        }
      ]
    },
    {
      "cell_type": "code",
      "metadata": {
        "id": "UWk8mjCcGW0s",
        "colab_type": "code",
        "outputId": "e676c55d-4bdf-4fdf-ba3d-0756cf7a61cc",
        "colab": {
          "base_uri": "https://localhost:8080/",
          "height": 225
        }
      },
      "source": [
        "data = all_data()\n",
        "net = Network2([784, 30, 10])\n",
        "acertos_dict = {}\n",
        "crossValidation = KFold(n_splits= 4)\n",
        "at = 0.1\n",
        "epoch = 10\n",
        "\n",
        "for i, index in enumerate(crossValidation.split(data)):\n",
        "  train_index = index[0]\n",
        "  test_index = index[1]\n",
        "  \n",
        "  k = \"K {}\".format(i)\n",
        "  \n",
        "  print(k)\n",
        "  training_data = data[train_index[0]:train_index[-1]+1]\n",
        "  testing_data = data[test_index[0]:test_index[-1]+1]\n",
        "  \n",
        "  result = net.SGD(training_data, epoch, 10, at,test_data=testing_data, tipo_fun='relu')"
      ],
      "execution_count": 21,
      "outputs": [
        {
          "output_type": "stream",
          "text": [
            "K 0\n"
          ],
          "name": "stdout"
        },
        {
          "output_type": "stream",
          "text": [
            "/usr/local/lib/python3.6/dist-packages/ipykernel_launcher.py:118: RuntimeWarning: overflow encountered in multiply\n",
            "/usr/local/lib/python3.6/dist-packages/ipykernel_launcher.py:14: RuntimeWarning: overflow encountered in multiply\n",
            "  \n",
            "/usr/local/lib/python3.6/dist-packages/ipykernel_launcher.py:118: RuntimeWarning: invalid value encountered in multiply\n"
          ],
          "name": "stderr"
        },
        {
          "output_type": "stream",
          "text": [
            "Total Input 17500 / Total predict 1699\n",
            "K 1\n",
            "Total Input 17500 / Total predict 1735\n",
            "K 2\n",
            "Total Input 17500 / Total predict 1534\n",
            "K 3\n",
            "Total Input 17500 / Total predict 0\n"
          ],
          "name": "stdout"
        }
      ]
    },
    {
      "cell_type": "code",
      "metadata": {
        "id": "9z72Ve37WEZG",
        "colab_type": "code",
        "colab": {
          "base_uri": "https://localhost:8080/",
          "height": 225
        },
        "outputId": "9ad1de45-7ae7-4566-80e1-e9aafee6c8d3"
      },
      "source": [
        "data = all_data()\n",
        "net = Network2([784, 30, 10])\n",
        "acertos_dict = {}\n",
        "crossValidation = KFold(n_splits= 4)\n",
        "at = 0.001\n",
        "epoch = 10\n",
        "\n",
        "for i, index in enumerate(crossValidation.split(data)):\n",
        "  train_index = index[0]\n",
        "  test_index = index[1]\n",
        "  \n",
        "  k = \"K {}\".format(i)\n",
        "  \n",
        "  print(k)\n",
        "  training_data = data[train_index[0]:train_index[-1]+1]\n",
        "  testing_data = data[test_index[0]:test_index[-1]+1]\n",
        "  \n",
        "  result = net.SGD(training_data, epoch, 10, at,test_data=testing_data, tipo_fun='relu')"
      ],
      "execution_count": 22,
      "outputs": [
        {
          "output_type": "stream",
          "text": [
            "K 0\n"
          ],
          "name": "stdout"
        },
        {
          "output_type": "stream",
          "text": [
            "/usr/local/lib/python3.6/dist-packages/ipykernel_launcher.py:14: RuntimeWarning: overflow encountered in multiply\n",
            "  \n",
            "/usr/local/lib/python3.6/dist-packages/ipykernel_launcher.py:110: RuntimeWarning: overflow encountered in multiply\n",
            "/usr/local/lib/python3.6/dist-packages/ipykernel_launcher.py:118: RuntimeWarning: invalid value encountered in multiply\n"
          ],
          "name": "stderr"
        },
        {
          "output_type": "stream",
          "text": [
            "Total Input 17500 / Total predict 1678\n",
            "K 1\n",
            "Total Input 17500 / Total predict 1695\n",
            "K 2\n",
            "Total Input 17500 / Total predict 1469\n",
            "K 3\n",
            "Total Input 17500 / Total predict 0\n"
          ],
          "name": "stdout"
        }
      ]
    },
    {
      "cell_type": "code",
      "metadata": {
        "id": "CFKOu0-TGX_I",
        "colab_type": "code",
        "outputId": "e65bdc11-2983-4cdc-847c-9a9dd33eddc9",
        "colab": {
          "base_uri": "https://localhost:8080/",
          "height": 225
        }
      },
      "source": [
        "data = all_data()\n",
        "net = Network2([784, 30, 10],regularizacao='L2')\n",
        "acertos_dict = {}\n",
        "crossValidation = KFold(n_splits= 4)\n",
        "at = 0.5\n",
        "epoch = 10\n",
        "\n",
        "for i, index in enumerate(crossValidation.split(data)):\n",
        "  train_index = index[0]\n",
        "  test_index = index[1]\n",
        "  \n",
        "  k = \"K {}\".format(i)\n",
        "  \n",
        "  print(k)\n",
        "  training_data = data[train_index[0]:train_index[-1]+1]\n",
        "  testing_data = data[test_index[0]:test_index[-1]+1]\n",
        "  \n",
        "  result = net.SGD(training_data, epoch, 10, at,test_data=testing_data, tipo_fun='relu')"
      ],
      "execution_count": 23,
      "outputs": [
        {
          "output_type": "stream",
          "text": [
            "K 0\n"
          ],
          "name": "stdout"
        },
        {
          "output_type": "stream",
          "text": [
            "/usr/local/lib/python3.6/dist-packages/ipykernel_launcher.py:118: RuntimeWarning: overflow encountered in multiply\n",
            "/usr/local/lib/python3.6/dist-packages/ipykernel_launcher.py:14: RuntimeWarning: overflow encountered in multiply\n",
            "  \n",
            "/usr/local/lib/python3.6/dist-packages/ipykernel_launcher.py:118: RuntimeWarning: invalid value encountered in multiply\n"
          ],
          "name": "stderr"
        },
        {
          "output_type": "stream",
          "text": [
            "Total Input 17500 / Total predict 1741\n",
            "K 1\n",
            "Total Input 17500 / Total predict 1693\n",
            "K 2\n",
            "Total Input 17500 / Total predict 3998\n",
            "K 3\n",
            "Total Input 17500 / Total predict 17500\n"
          ],
          "name": "stdout"
        }
      ]
    },
    {
      "cell_type": "code",
      "metadata": {
        "id": "Yvfw01zbVqgv",
        "colab_type": "code",
        "colab": {
          "base_uri": "https://localhost:8080/",
          "height": 225
        },
        "outputId": "92b86623-575f-414f-fb45-366c5da46250"
      },
      "source": [
        "data = all_data()\n",
        "net = Network2([784, 30, 10],regularizacao='L2')\n",
        "acertos_dict = {}\n",
        "crossValidation = KFold(n_splits= 4)\n",
        "at = 0.1\n",
        "epoch = 10\n",
        "\n",
        "for i, index in enumerate(crossValidation.split(data)):\n",
        "  train_index = index[0]\n",
        "  test_index = index[1]\n",
        "  \n",
        "  k = \"K {}\".format(i)\n",
        "  \n",
        "  print(k)\n",
        "  training_data = data[train_index[0]:train_index[-1]+1]\n",
        "  testing_data = data[test_index[0]:test_index[-1]+1]\n",
        "  \n",
        "  result = net.SGD(training_data, epoch, 10, at,test_data=testing_data, tipo_fun='relu')"
      ],
      "execution_count": 24,
      "outputs": [
        {
          "output_type": "stream",
          "text": [
            "K 0\n"
          ],
          "name": "stdout"
        },
        {
          "output_type": "stream",
          "text": [
            "/usr/local/lib/python3.6/dist-packages/ipykernel_launcher.py:118: RuntimeWarning: overflow encountered in multiply\n",
            "/usr/local/lib/python3.6/dist-packages/ipykernel_launcher.py:14: RuntimeWarning: overflow encountered in multiply\n",
            "  \n",
            "/usr/local/lib/python3.6/dist-packages/ipykernel_launcher.py:118: RuntimeWarning: invalid value encountered in multiply\n"
          ],
          "name": "stderr"
        },
        {
          "output_type": "stream",
          "text": [
            "Total Input 17500 / Total predict 1741\n",
            "K 1\n",
            "Total Input 17500 / Total predict 1693\n",
            "K 2\n",
            "Total Input 17500 / Total predict 3998\n",
            "K 3\n",
            "Total Input 17500 / Total predict 17500\n"
          ],
          "name": "stdout"
        }
      ]
    },
    {
      "cell_type": "code",
      "metadata": {
        "id": "qAY5ZeuEWh4R",
        "colab_type": "code",
        "colab": {
          "base_uri": "https://localhost:8080/",
          "height": 225
        },
        "outputId": "549cdc85-bc27-4008-e216-8ebc37fb7d0f"
      },
      "source": [
        "data = all_data()\n",
        "net = Network2([784, 30, 10],regularizacao='L2')\n",
        "acertos_dict = {}\n",
        "crossValidation = KFold(n_splits= 4)\n",
        "at = 0.001\n",
        "epoch = 10\n",
        "\n",
        "for i, index in enumerate(crossValidation.split(data)):\n",
        "  train_index = index[0]\n",
        "  test_index = index[1]\n",
        "  \n",
        "  k = \"K {}\".format(i)\n",
        "  \n",
        "  print(k)\n",
        "  training_data = data[train_index[0]:train_index[-1]+1]\n",
        "  testing_data = data[test_index[0]:test_index[-1]+1]\n",
        "  \n",
        "  result = net.SGD(training_data, epoch, 10, at,test_data=testing_data, tipo_fun='relu')"
      ],
      "execution_count": 25,
      "outputs": [
        {
          "output_type": "stream",
          "text": [
            "K 0\n"
          ],
          "name": "stdout"
        },
        {
          "output_type": "stream",
          "text": [
            "/usr/local/lib/python3.6/dist-packages/ipykernel_launcher.py:14: RuntimeWarning: overflow encountered in multiply\n",
            "  \n",
            "/usr/local/lib/python3.6/dist-packages/ipykernel_launcher.py:110: RuntimeWarning: overflow encountered in multiply\n",
            "/usr/local/lib/python3.6/dist-packages/ipykernel_launcher.py:118: RuntimeWarning: invalid value encountered in multiply\n"
          ],
          "name": "stderr"
        },
        {
          "output_type": "stream",
          "text": [
            "Total Input 17500 / Total predict 1741\n",
            "K 1\n",
            "Total Input 17500 / Total predict 1693\n",
            "K 2\n",
            "Total Input 17500 / Total predict 3998\n",
            "K 3\n",
            "Total Input 17500 / Total predict 17500\n"
          ],
          "name": "stdout"
        }
      ]
    }
  ]
}
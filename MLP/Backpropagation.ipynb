{
  "nbformat": 4,
  "nbformat_minor": 0,
  "metadata": {
    "colab": {
      "name": "Backpropagation",
      "version": "0.3.2",
      "provenance": [],
      "include_colab_link": true
    },
    "language_info": {
      "codemirror_mode": {
        "name": "ipython",
        "version": 3
      },
      "file_extension": ".py",
      "mimetype": "text/x-python",
      "name": "python",
      "nbconvert_exporter": "python",
      "pygments_lexer": "ipython3",
      "version": "3.7.3"
    },
    "kernelspec": {
      "display_name": "Python 3",
      "language": "python",
      "name": "python3"
    },
    "accelerator": "GPU"
  },
  "cells": [
    {
      "cell_type": "markdown",
      "metadata": {
        "id": "view-in-github",
        "colab_type": "text"
      },
      "source": [
        "<a href=\"https://colab.research.google.com/github/felipeescorel/redes_neurais/blob/master/MLP/Backpropagation.ipynb\" target=\"_parent\"><img src=\"https://colab.research.google.com/assets/colab-badge.svg\" alt=\"Open In Colab\"/></a>"
      ]
    },
    {
      "cell_type": "markdown",
      "metadata": {
        "colab_type": "text",
        "id": "PJEk_jQrrJXn"
      },
      "source": [
        "##Multipayer Perceptron (MLP)\n",
        "\n",
        "Rede Neural baseado no algoritmo de gradiente descendente.  \n",
        "Os gradientes são calculados usando backpropagation. \n",
        "\n",
        "Para mais detalhes, ver os capitulos 13 a 16 do livro no site:\n",
        "\n",
        "http://deeplearningbook.com.br/"
      ]
    },
    {
      "cell_type": "code",
      "metadata": {
        "colab_type": "code",
        "id": "JNeeLtK58tGe",
        "colab": {}
      },
      "source": [
        "import random\n",
        "import numpy as np\n",
        "import pandas as pd\n",
        "from sklearn.model_selection import KFold"
      ],
      "execution_count": 0,
      "outputs": []
    },
    {
      "cell_type": "code",
      "metadata": {
        "id": "ay-5b8n87Nb_",
        "colab_type": "code",
        "colab": {
          "base_uri": "https://localhost:8080/",
          "height": 156
        },
        "outputId": "c6e3eb32-47bf-4cad-ad94-b5cbd5468fd3"
      },
      "source": [
        "!git clone https://github.com/felipeescorel/redes_neurais.git"
      ],
      "execution_count": 6,
      "outputs": [
        {
          "output_type": "stream",
          "text": [
            "Cloning into 'redes_neurais'...\n",
            "remote: Enumerating objects: 12, done.\u001b[K\n",
            "remote: Counting objects:   8% (1/12)   \u001b[K\rremote: Counting objects:  16% (2/12)   \u001b[K\rremote: Counting objects:  25% (3/12)   \u001b[K\rremote: Counting objects:  33% (4/12)   \u001b[K\rremote: Counting objects:  41% (5/12)   \u001b[K\rremote: Counting objects:  50% (6/12)   \u001b[K\rremote: Counting objects:  58% (7/12)   \u001b[K\rremote: Counting objects:  66% (8/12)   \u001b[K\rremote: Counting objects:  75% (9/12)   \u001b[K\rremote: Counting objects:  83% (10/12)   \u001b[K\rremote: Counting objects:  91% (11/12)   \u001b[K\rremote: Counting objects: 100% (12/12)   \u001b[K\rremote: Counting objects: 100% (12/12), done.\u001b[K\n",
            "remote: Compressing objects: 100% (12/12), done.\u001b[K\n",
            "remote: Total 115 (delta 1), reused 4 (delta 0), pack-reused 103\n",
            "Receiving objects: 100% (115/115), 21.66 MiB | 16.84 MiB/s, done.\n",
            "Resolving deltas: 100% (21/21), done.\n",
            "fatal: destination path 'redes_neurais' already exists and is not an empty directory.\n"
          ],
          "name": "stdout"
        }
      ]
    },
    {
      "cell_type": "markdown",
      "metadata": {
        "colab_type": "text",
        "id": "BPjNMuBE8UcP"
      },
      "source": [
        "A entrada é uma lista (`sizes`) contém o número de neurônios nas respectivas camadas da rede. Por exemplo, se a lista for [2, 3, 1] então será uma rede de três camadas, com o primeira camada contendo 2 neurônios, a segunda camada 3 neurônios, e a terceira camada 1 neurônio. Os bias e pesos para a rede são inicializados aleatoriamente, usando uma distribuição Gaussiana com média 0 e variância 1. Note que a primeira camada é assumida como uma camada de entrada, e por convenção não definimos nenhum bias para esses neurônios, pois os bias são usados na computação das saídas das camadas posteriores.\n"
      ]
    },
    {
      "cell_type": "code",
      "metadata": {
        "colab_type": "code",
        "id": "tGf77mI_vuzP",
        "colab": {}
      },
      "source": [
        "# Classe Network\n",
        "class Network(object):\n",
        "\n",
        "    def __init__(self, sizes):\n",
        "        self.num_layers = len(sizes)\n",
        "        self.sizes = sizes\n",
        "        self.biases = [np.random.randn(y, 1) for y in sizes[1:]]\n",
        "        self.weights = [np.random.randn(y, x) for x, y in zip(sizes[:-1], sizes[1:])]\n",
        "\n",
        "    def feedforward(self, a,tipo_fun):\n",
        "        \"\"\"Retorna a saída da rede se `a` for entrada.\"\"\"\n",
        "        for b, w in zip(self.biases, self.weights):\n",
        "            a = funcao_ativacao(tipo_fun,False,np.dot(w, a)+b)\n",
        "        return a\n",
        "\n",
        "    def SGD(self, training_data, epochs, mini_batch_size, eta, test_data=None,tipo_fun='sigmoid'):\n",
        "        \"\"\"Treinar a rede neural usando o algoritmo mini batch com gradiente descendente. \n",
        "         A entrada é uma lista de tuplas\n",
        "         `(x, y)` representando as entradas de treinamento e as\n",
        "         saídas. Os outros parâmetros não opcionais são\n",
        "         auto-explicativos. Se `test_data` for fornecido, então a\n",
        "         rede será avaliada em relação aos dados do teste após cada\n",
        "         época e progresso parcial impresso. Isso é útil para\n",
        "         acompanhar o progresso, mas retarda as coisas substancialmente.\"\"\"\n",
        "        starting_eta = eta\n",
        "        training_data = list(training_data)\n",
        "        n = len(training_data)\n",
        "\n",
        "        if test_data:\n",
        "            test_data = list(test_data)\n",
        "            n_test = len(test_data)\n",
        "\n",
        "        for j in range(epochs):\n",
        "            random.shuffle(training_data)\n",
        "            mini_batches = [training_data[k:k+mini_batch_size] for k in range(0, n, mini_batch_size)]\n",
        "            \n",
        "            for mini_batch in mini_batches:\n",
        "                self.update_mini_batch(mini_batch, eta,tipo_fun)\n",
        "            eta = learning_upd(starting_eta,j,epochs)\n",
        "            if test_data:\n",
        "              print(\"Epoch {} : {} / {}\".format(j,self.evaluate(test_data,tipo_fun),n_test));\n",
        "            else:\n",
        "                print(\"Epoch {} finalizada\".format(j))\n",
        "\n",
        "    def update_mini_batch(self, mini_batch, eta,tipo_fun):\n",
        "        \"\"\"Atualiza os pesos e bias da rede aplicando\n",
        "         a descida do gradiente usando backpropagation para um único mini lote.\n",
        "         O `mini_batch` é uma lista de tuplas `(x, y)`, e `eta` é a taxa de aprendizado.\"\"\"\n",
        "\n",
        "        nabla_b = [np.zeros(b.shape) for b in self.biases]\n",
        "        nabla_w = [np.zeros(w.shape) for w in self.weights]\n",
        "        \n",
        "        for x, y in mini_batch:\n",
        "            delta_nabla_b, delta_nabla_w = self.backprop(x, y,tipo_fun)\n",
        "            nabla_b = [nb+dnb for nb, dnb in zip(nabla_b, delta_nabla_b)]\n",
        "            nabla_w = [nw+dnw for nw, dnw in zip(nabla_w, delta_nabla_w)]\n",
        "        \n",
        "        self.weights = [w-(eta/len(mini_batch))*nw for w, nw in zip(self.weights, nabla_w)]\n",
        "        self.biases = [b-(eta/len(mini_batch))*nb for b, nb in zip(self.biases, nabla_b)]\n",
        "\n",
        "    def backprop(self, x, y,tipo_fun):\n",
        "        \"\"\"Retorna uma tupla `(nabla_b, nabla_w)` representando o\n",
        "         gradiente para a função de custo C_x. `nabla_b` e\n",
        "         `nabla_w` são listas de camadas de matrizes numpy, semelhantes\n",
        "         a `self.biases` e `self.weights`.\"\"\"\n",
        "\n",
        "        nabla_b = [np.zeros(b.shape) for b in self.biases]\n",
        "        nabla_w = [np.zeros(w.shape) for w in self.weights]\n",
        "        \n",
        "        # Feedforward\n",
        "        activation = x\n",
        "\n",
        "        # Lista para armazenar todas as ativações, camada por camada\n",
        "        activations = [x] \n",
        "\n",
        "        # Lista para armazenar todos os vetores z, camada por camada\n",
        "        zs = [] \n",
        "\n",
        "        for b, w in zip(self.biases, self.weights):\n",
        "            z = np.dot(w, activation)+b\n",
        "            zs.append(z)\n",
        "            activation = funcao_ativacao(tipo_fun,False,z)\n",
        "            activations.append(activation)\n",
        "        \n",
        "        # Backward pass\n",
        "        delta = self.cost_derivative(activations[-1], y) * funcao_ativacao(tipo_fun,True,zs[-1])\n",
        "        nabla_b[-1] = delta\n",
        "        nabla_w[-1] = np.dot(delta, activations[-2].transpose())\n",
        "        \n",
        "        # Aqui, l = 1 significa a última camada de neurônios, l = 2 é a segunda e assim por diante. \n",
        "        for l in range(2, self.num_layers):\n",
        "            z = zs[-l]\n",
        "            sp = funcao_ativacao(tipo_fun,True,z)\n",
        "            delta = np.dot(self.weights[-l+1].transpose(), delta) * sp\n",
        "            nabla_b[-l] = delta\n",
        "            nabla_w[-l] = np.dot(delta, activations[-l-1].transpose())\n",
        "        return (nabla_b, nabla_w)\n",
        "\n",
        "    def evaluate(self, test_data,tipo_fun):\n",
        "        \"\"\"Retorna o número de entradas de teste para as quais a rede neural \n",
        "         produz o resultado correto. Note que a saída da rede neural\n",
        "         é considerada o índice de qualquer que seja\n",
        "         neurônio na camada final que tenha a maior ativação.\"\"\"\n",
        "\n",
        "        test_results = [(np.argmax(self.feedforward(x,tipo_fun)), np.argmax(y)) for (x, y) in test_data]\n",
        "        return sum(int(x == y) for (x, y) in test_results)\n",
        "\n",
        "    def cost_derivative(self, output_activations, y):\n",
        "        \"\"\"Retorna o vetor das derivadas parciais.\"\"\"\n",
        "        return (output_activations-y)\n",
        "\n",
        "# # Função de Ativação Sigmóide\n",
        "# def sigmoid(z):\n",
        "#     return 1.0/(1.0+np.exp(-z))\n",
        "\n",
        "# # Função para retornar as derivadas da função Sigmóide\n",
        "# def sigmoid_prime(z):\n",
        "#     return sigmoid(z)*(1-sigmoid(z))\n"
      ],
      "execution_count": 0,
      "outputs": []
    },
    {
      "cell_type": "code",
      "metadata": {
        "id": "c0yEcp11OAK-",
        "colab_type": "code",
        "colab": {}
      },
      "source": [
        "def funcao_ativacao(tipo, is_prime, z):\n",
        "  # Função de Ativação Sigmóide\n",
        "  def sigmoid(z):\n",
        "      return 1.0/(1.0+np.exp(-z))\n",
        "\n",
        "  def relu(z):\n",
        "      return np.array([[max(0, i[0])] for i in z])\n",
        "\n",
        "  # Função para retornar as derivadas da função Sigmóide\n",
        "  def sigmoid_prime(z):\n",
        "      return sigmoid(z)*(1-sigmoid(z))\n",
        "\n",
        "  def relu_prime(z):\n",
        "      return relu(z)*(1-relu(z))\n",
        "  \n",
        "  switcher = {\n",
        "      'sigmoid': sigmoid,\n",
        "      'relu': relu\n",
        "  }\n",
        "  \n",
        "  switcher_prime = {\n",
        "      'sigmoid': sigmoid_prime,\n",
        "      'relu': relu_prime,\n",
        "  }\n",
        "  \n",
        "  if is_prime:\n",
        "    fun = switcher_prime.get(tipo)\n",
        "  else:\n",
        "    fun = switcher.get(tipo)\n",
        "  return fun(z)\n",
        "\n",
        "\n",
        "def learning_upd(taxa_inicial, epoch, n_epochs):\n",
        "    return taxa_inicial * np.exp(-epoch / n_epochs)"
      ],
      "execution_count": 0,
      "outputs": []
    },
    {
      "cell_type": "markdown",
      "metadata": {
        "colab_type": "text",
        "id": "6lndK7bt9F6d"
      },
      "source": [
        "Como exemplo, essa mesma rede será executada na base de dados MNIST. O codigo abaixo carrega a base de dados."
      ]
    },
    {
      "cell_type": "code",
      "metadata": {
        "colab_type": "code",
        "id": "KOZwqOkDv3t-",
        "colab": {}
      },
      "source": [
        "# Carregar o dataset MNIST\n",
        "\n",
        "# Imports\n",
        "import pickle\n",
        "import gzip\n",
        "import numpy as np\n",
        "\n",
        "def load_data():\n",
        "    f = gzip.open('redes_neurais/MLP/mnist.pkl.gz', 'rb')\n",
        "    training_data, validation_data, test_data = pickle.load(f, encoding=\"latin1\")\n",
        "    f.close()\n",
        "    return (training_data, validation_data, test_data)\n",
        "\n",
        "def load_data_wrapper():\n",
        "    tr_d, va_d, te_d = load_data()\n",
        "    training_inputs = [np.reshape(x, (784, 1)) for x in tr_d[0]]\n",
        "    training_results = [vectorized_result(y) for y in tr_d[1]]\n",
        "    training_data = zip(training_inputs, training_results)\n",
        "    validation_inputs = [np.reshape(x, (784, 1)) for x in va_d[0]]\n",
        "    validation_data = zip(validation_inputs, va_d[1])\n",
        "    test_inputs = [np.reshape(x, (784, 1)) for x in te_d[0]]\n",
        "    test_data = zip(test_inputs, te_d[1])\n",
        "    return (training_data, validation_data, test_data)\n",
        "\n",
        "def vectorized_result(j):\n",
        "    e = np.zeros((10, 1))\n",
        "    e[j] = 1.0\n",
        "    return e\n",
        "  \n",
        "def all_data():\n",
        "  training_data, validation_data, test_data = load_data_wrapper()\n",
        "\n",
        "  training_data = list(training_data)\n",
        "  validation_data = list(validation_data)\n",
        "  test_data = list(test_data)\n",
        "\n",
        "  return training_data + validation_data + test_data\n"
      ],
      "execution_count": 0,
      "outputs": []
    },
    {
      "cell_type": "markdown",
      "metadata": {
        "colab_type": "text",
        "id": "a2V5r3YW95A4"
      },
      "source": [
        "#Executa a rede neural\n",
        "\n",
        "Parâmetros de rede:\n",
        "         2º param é contagem de épocas\n",
        "         3º param é tamanho do lote\n",
        "         4º param é a taxa de aprendizado (eta)\n",
        "\n",
        "\n"
      ]
    },
    {
      "cell_type": "code",
      "metadata": {
        "colab_type": "code",
        "id": "7c86ya6KrquI",
        "colab": {
          "base_uri": "https://localhost:8080/",
          "height": 538
        },
        "outputId": "f3f73842-0b47-460f-b1fa-7b2117a2e1bb"
      },
      "source": [
        "training_data, validation_data, test_data = load_data_wrapper()\n",
        "training_data = list(training_data)\n",
        "\n",
        "\n",
        "net = Network([784, 30, 10])\n",
        "net.SGD(training_data, 30, 10, 3.0, test_data=test_data)\n",
        "\n"
      ],
      "execution_count": 5,
      "outputs": [
        {
          "output_type": "stream",
          "text": [
            "Epoch 0 : 9067 / 10000\n",
            "Epoch 1 : 9268 / 10000\n",
            "Epoch 2 : 9331 / 10000\n",
            "Epoch 3 : 9393 / 10000\n",
            "Epoch 4 : 9426 / 10000\n",
            "Epoch 5 : 9445 / 10000\n",
            "Epoch 6 : 9427 / 10000\n",
            "Epoch 7 : 9411 / 10000\n",
            "Epoch 8 : 9464 / 10000\n",
            "Epoch 9 : 9488 / 10000\n",
            "Epoch 10 : 9491 / 10000\n",
            "Epoch 11 : 9508 / 10000\n",
            "Epoch 12 : 9507 / 10000\n",
            "Epoch 13 : 9514 / 10000\n",
            "Epoch 14 : 9525 / 10000\n",
            "Epoch 15 : 9515 / 10000\n",
            "Epoch 16 : 9506 / 10000\n",
            "Epoch 17 : 9468 / 10000\n",
            "Epoch 18 : 9540 / 10000\n",
            "Epoch 19 : 9497 / 10000\n",
            "Epoch 20 : 9544 / 10000\n",
            "Epoch 21 : 9520 / 10000\n",
            "Epoch 22 : 9490 / 10000\n",
            "Epoch 23 : 9516 / 10000\n",
            "Epoch 24 : 9520 / 10000\n",
            "Epoch 25 : 9556 / 10000\n",
            "Epoch 26 : 9519 / 10000\n",
            "Epoch 27 : 9527 / 10000\n",
            "Epoch 28 : 9511 / 10000\n",
            "Epoch 29 : 9535 / 10000\n"
          ],
          "name": "stdout"
        }
      ]
    },
    {
      "cell_type": "markdown",
      "metadata": {
        "colab_type": "text",
        "id": "rLJbbYrFdU_w"
      },
      "source": [
        "##Mini-Projeto\n",
        "\n",
        "1) Realizar avaliaçao usando validação cruzada\n",
        "\n",
        "2) Modificar a taxa de aprendizagem pra diminuir com o tempo\n",
        "\n",
        "3) Realizar avaliações com a validação cruzada modificando os seguintes parâmetros:\n",
        "     \n",
        "     a) Taxa de aprendizagem: 0.5, 0.1 e 0.001\n",
        "     b) Função de ativação RELU\n",
        "     c) 3 diferentes configurações de neurônios na camada  intermediária\n",
        "\n",
        "\n",
        "Data de Entrega: 23/04/2019\n",
        "\n",
        "A partir dos melhores resultados obtidos na etapa anterior, resolver as seguintes questões:\n",
        "\n",
        "4) Implementar as regularizações L1 e L2\n",
        "\n",
        "5) Implementar o Momento\n",
        "\n",
        "6) Comparar os experimentos e explicar o que achou dos resultados.\n",
        "\n",
        "Data de Entrega: 30/04/2019\n"
      ]
    },
    {
      "cell_type": "code",
      "metadata": {
        "id": "1uTGwNnhHi7W",
        "colab_type": "code",
        "colab": {
          "base_uri": "https://localhost:8080/",
          "height": 243
        },
        "outputId": "818e151f-96dd-4d85-865f-77d28cdcefd8"
      },
      "source": [
        "data = all_data()\n",
        "net = Network([784, 30, 10])\n",
        "acertos_dict = {}\n",
        "crossValidation = KFold(n_splits= 4)\n",
        "at = 0.5\n",
        "epoch = 1\n",
        "\n",
        "for i, index in enumerate(crossValidation.split(data)):\n",
        "  train_index = index[0]\n",
        "  test_index = index[1]\n",
        "  \n",
        "  k = \"K {}\".format(i)\n",
        "  \n",
        "  print(k)\n",
        "  training_data = data[train_index[0]:train_index[-1]+1]\n",
        "  testing_data = data[test_index[0]:test_index[-1]+1]\n",
        "  \n",
        "  result = net.SGD(training_data, epoch, 10, at,test_data=testing_data, tipo_fun='relu')\n",
        "  acertos_dict[k] = result"
      ],
      "execution_count": 24,
      "outputs": [
        {
          "output_type": "stream",
          "text": [
            "K 0\n"
          ],
          "name": "stdout"
        },
        {
          "output_type": "stream",
          "text": [
            "/usr/local/lib/python3.6/dist-packages/ipykernel_launcher.py:93: RuntimeWarning: invalid value encountered in multiply\n",
            "/usr/local/lib/python3.6/dist-packages/ipykernel_launcher.py:55: RuntimeWarning: overflow encountered in add\n",
            "/usr/local/lib/python3.6/dist-packages/ipykernel_launcher.py:14: RuntimeWarning: overflow encountered in multiply\n",
            "  \n",
            "/usr/local/lib/python3.6/dist-packages/ipykernel_launcher.py:85: RuntimeWarning: overflow encountered in multiply\n"
          ],
          "name": "stderr"
        },
        {
          "output_type": "stream",
          "text": [
            "Epoch 0 : 1741 / 17500\n",
            "K 1\n",
            "Epoch 0 : 1693 / 17500\n",
            "K 2\n",
            "Epoch 0 : 3998 / 17500\n",
            "K 3\n",
            "Epoch 0 : 17500 / 17500\n"
          ],
          "name": "stdout"
        }
      ]
    },
    {
      "cell_type": "code",
      "metadata": {
        "id": "oJQ_PoecIL7f",
        "colab_type": "code",
        "colab": {
          "base_uri": "https://localhost:8080/",
          "height": 139
        },
        "outputId": "c1769a8c-1c66-46d1-d73e-4d38899fe486"
      },
      "source": [
        "data = all_data()\n",
        "net = Network([784, 30, 10])\n",
        "acertos_dict = {}\n",
        "crossValidation = KFold(n_splits= 4)\n",
        "at = 0.1\n",
        "epoch = 1\n",
        "\n",
        "for i, index in enumerate(crossValidation.split(data)):\n",
        "  train_index = index[0]\n",
        "  test_index = index[1]\n",
        "  \n",
        "  k = \"K {}\".format(i)\n",
        "  \n",
        "  print(k)\n",
        "  training_data = data[train_index[0]:train_index[-1]+1]\n",
        "  testing_data = data[test_index[0]:test_index[-1]+1]\n",
        "  \n",
        "  result = net.SGD(training_data, epoch, 10, at,test_data=testing_data, tipo_fun='relu')\n",
        "  acertos_dict[k] = result"
      ],
      "execution_count": 25,
      "outputs": [
        {
          "output_type": "stream",
          "text": [
            "Epoch 0 : 1546 / 17500\n",
            "K 1\n",
            "Epoch 0 : 1604 / 17500\n",
            "K 2\n",
            "Epoch 0 : 1356 / 17500\n",
            "K 3\n",
            "Epoch 0 : 0 / 17500\n"
          ],
          "name": "stdout"
        }
      ]
    },
    {
      "cell_type": "code",
      "metadata": {
        "id": "_zEeLeV0if5I",
        "colab_type": "code",
        "colab": {
          "base_uri": "https://localhost:8080/",
          "height": 243
        },
        "outputId": "4a24507c-3555-4840-e85d-5b3efb538ffe"
      },
      "source": [
        "data = all_data()\n",
        "net = Network([784, 30, 10])\n",
        "acertos_dict = {}\n",
        "crossValidation = KFold(n_splits= 4)\n",
        "at = 0.4\n",
        "epoch = 1\n",
        "\n",
        "for i, index in enumerate(crossValidation.split(data)):\n",
        "  train_index = index[0]\n",
        "  test_index = index[1]\n",
        "  \n",
        "  k = \"K {}\".format(i)\n",
        "  \n",
        "  print(k)\n",
        "  training_data = data[train_index[0]:train_index[-1]+1]\n",
        "  testing_data = data[test_index[0]:test_index[-1]+1]\n",
        "  \n",
        "  result = net.SGD(training_data, epoch, 10, at,test_data=testing_data, tipo_fun='relu')\n",
        "  acertos_dict[k] = result"
      ],
      "execution_count": 26,
      "outputs": [
        {
          "output_type": "stream",
          "text": [
            "K 0\n"
          ],
          "name": "stdout"
        },
        {
          "output_type": "stream",
          "text": [
            "/usr/local/lib/python3.6/dist-packages/ipykernel_launcher.py:93: RuntimeWarning: overflow encountered in multiply\n",
            "/usr/local/lib/python3.6/dist-packages/ipykernel_launcher.py:14: RuntimeWarning: overflow encountered in multiply\n",
            "  \n",
            "/usr/local/lib/python3.6/dist-packages/ipykernel_launcher.py:85: RuntimeWarning: overflow encountered in multiply\n",
            "/usr/local/lib/python3.6/dist-packages/ipykernel_launcher.py:93: RuntimeWarning: invalid value encountered in multiply\n"
          ],
          "name": "stderr"
        },
        {
          "output_type": "stream",
          "text": [
            "Epoch 0 : 1699 / 17500\n",
            "K 1\n",
            "Epoch 0 : 1735 / 17500\n",
            "K 2\n",
            "Epoch 0 : 1534 / 17500\n",
            "K 3\n",
            "Epoch 0 : 0 / 17500\n"
          ],
          "name": "stdout"
        }
      ]
    },
    {
      "cell_type": "code",
      "metadata": {
        "id": "LP_BtyNJjnD2",
        "colab_type": "code",
        "colab": {
          "base_uri": "https://localhost:8080/",
          "height": 191
        },
        "outputId": "13a23071-f037-4154-d546-d755dd5817c8"
      },
      "source": [
        "data = all_data()\n",
        "net = Network([784, 40, 10])\n",
        "acertos_dict = {}\n",
        "crossValidation = KFold(n_splits= 4)\n",
        "at = 0.5\n",
        "epoch = 1\n",
        "\n",
        "for i, index in enumerate(crossValidation.split(data)):\n",
        "  train_index = index[0]\n",
        "  test_index = index[1]\n",
        "  \n",
        "  k = \"K {}\".format(i)\n",
        "  \n",
        "  print(k)\n",
        "  training_data = data[train_index[0]:train_index[-1]+1]\n",
        "  testing_data = data[test_index[0]:test_index[-1]+1]\n",
        "  \n",
        "  result = net.SGD(training_data, epoch, 10, at,test_data=testing_data, tipo_fun='relu')\n",
        "  acertos_dict[k] = result"
      ],
      "execution_count": 27,
      "outputs": [
        {
          "output_type": "stream",
          "text": [
            "K 0\n"
          ],
          "name": "stdout"
        },
        {
          "output_type": "stream",
          "text": [
            "/usr/local/lib/python3.6/dist-packages/ipykernel_launcher.py:85: RuntimeWarning: overflow encountered in multiply\n",
            "/usr/local/lib/python3.6/dist-packages/ipykernel_launcher.py:93: RuntimeWarning: invalid value encountered in multiply\n"
          ],
          "name": "stderr"
        },
        {
          "output_type": "stream",
          "text": [
            "Epoch 0 : 1741 / 17500\n",
            "K 1\n",
            "Epoch 0 : 1693 / 17500\n",
            "K 2\n",
            "Epoch 0 : 3998 / 17500\n",
            "K 3\n",
            "Epoch 0 : 17500 / 17500\n"
          ],
          "name": "stdout"
        }
      ]
    },
    {
      "cell_type": "code",
      "metadata": {
        "id": "nWMKanHNjnM7",
        "colab_type": "code",
        "colab": {
          "base_uri": "https://localhost:8080/",
          "height": 208
        },
        "outputId": "44ca62fc-63dd-45ce-be79-889294d889a4"
      },
      "source": [
        "data = all_data()\n",
        "net = Network([784, 40, 10])\n",
        "acertos_dict = {}\n",
        "crossValidation = KFold(n_splits= 4)\n",
        "at = 0.5\n",
        "epoch = 1\n",
        "\n",
        "for i, index in enumerate(crossValidation.split(data)):\n",
        "  train_index = index[0]\n",
        "  test_index = index[1]\n",
        "  \n",
        "  k = \"K {}\".format(i)\n",
        "  \n",
        "  print(k)\n",
        "  training_data = data[train_index[0]:train_index[-1]+1]\n",
        "  testing_data = data[test_index[0]:test_index[-1]+1]\n",
        "  \n",
        "  result = net.SGD(training_data, epoch, 10, at,test_data=testing_data, tipo_fun='relu')\n",
        "  acertos_dict[k] = result"
      ],
      "execution_count": 28,
      "outputs": [
        {
          "output_type": "stream",
          "text": [
            "K 0\n"
          ],
          "name": "stdout"
        },
        {
          "output_type": "stream",
          "text": [
            "/usr/local/lib/python3.6/dist-packages/ipykernel_launcher.py:93: RuntimeWarning: invalid value encountered in multiply\n",
            "/usr/local/lib/python3.6/dist-packages/ipykernel_launcher.py:14: RuntimeWarning: overflow encountered in multiply\n",
            "  \n"
          ],
          "name": "stderr"
        },
        {
          "output_type": "stream",
          "text": [
            "Epoch 0 : 1741 / 17500\n",
            "K 1\n",
            "Epoch 0 : 1693 / 17500\n",
            "K 2\n",
            "Epoch 0 : 3998 / 17500\n",
            "K 3\n",
            "Epoch 0 : 17500 / 17500\n"
          ],
          "name": "stdout"
        }
      ]
    },
    {
      "cell_type": "code",
      "metadata": {
        "id": "vs5-fan4jnXm",
        "colab_type": "code",
        "colab": {
          "base_uri": "https://localhost:8080/",
          "height": 225
        },
        "outputId": "8e1e1baf-aa90-444a-dd04-0d44268c23ef"
      },
      "source": [
        "data = all_data()\n",
        "net = Network([784, 40, 10])\n",
        "acertos_dict = {}\n",
        "crossValidation = KFold(n_splits= 4)\n",
        "at = 0.5\n",
        "epoch = 1\n",
        "\n",
        "for i, index in enumerate(crossValidation.split(data)):\n",
        "  train_index = index[0]\n",
        "  test_index = index[1]\n",
        "  \n",
        "  k = \"K {}\".format(i)\n",
        "  \n",
        "  print(k)\n",
        "  training_data = data[train_index[0]:train_index[-1]+1]\n",
        "  testing_data = data[test_index[0]:test_index[-1]+1]\n",
        "  \n",
        "  result = net.SGD(training_data, epoch, 10, at,test_data=testing_data, tipo_fun='relu')\n",
        "  acertos_dict[k] = result"
      ],
      "execution_count": 29,
      "outputs": [
        {
          "output_type": "stream",
          "text": [
            "K 0\n"
          ],
          "name": "stdout"
        },
        {
          "output_type": "stream",
          "text": [
            "/usr/local/lib/python3.6/dist-packages/ipykernel_launcher.py:85: RuntimeWarning: overflow encountered in multiply\n",
            "/usr/local/lib/python3.6/dist-packages/ipykernel_launcher.py:93: RuntimeWarning: invalid value encountered in multiply\n",
            "/usr/local/lib/python3.6/dist-packages/ipykernel_launcher.py:14: RuntimeWarning: overflow encountered in multiply\n",
            "  \n"
          ],
          "name": "stderr"
        },
        {
          "output_type": "stream",
          "text": [
            "Epoch 0 : 1741 / 17500\n",
            "K 1\n",
            "Epoch 0 : 1693 / 17500\n",
            "K 2\n",
            "Epoch 0 : 3998 / 17500\n",
            "K 3\n",
            "Epoch 0 : 17500 / 17500\n"
          ],
          "name": "stdout"
        }
      ]
    },
    {
      "cell_type": "code",
      "metadata": {
        "id": "cBQcLGzxjnmB",
        "colab_type": "code",
        "colab": {
          "base_uri": "https://localhost:8080/",
          "height": 225
        },
        "outputId": "a30b88d6-34a3-4dbe-cf2c-558d358d4121"
      },
      "source": [
        "data = all_data()\n",
        "net = Network([784, 60, 10])\n",
        "acertos_dict = {}\n",
        "crossValidation = KFold(n_splits= 4)\n",
        "at = 0.5\n",
        "epoch = 1\n",
        "\n",
        "for i, index in enumerate(crossValidation.split(data)):\n",
        "  train_index = index[0]\n",
        "  test_index = index[1]\n",
        "  \n",
        "  k = \"K {}\".format(i)\n",
        "  \n",
        "  print(k)\n",
        "  training_data = data[train_index[0]:train_index[-1]+1]\n",
        "  testing_data = data[test_index[0]:test_index[-1]+1]\n",
        "  \n",
        "  result = net.SGD(training_data, epoch, 10, at,test_data=testing_data, tipo_fun='relu')\n",
        "  acertos_dict[k] = result"
      ],
      "execution_count": 30,
      "outputs": [
        {
          "output_type": "stream",
          "text": [
            "K 0\n"
          ],
          "name": "stdout"
        },
        {
          "output_type": "stream",
          "text": [
            "/usr/local/lib/python3.6/dist-packages/ipykernel_launcher.py:93: RuntimeWarning: invalid value encountered in multiply\n",
            "/usr/local/lib/python3.6/dist-packages/ipykernel_launcher.py:14: RuntimeWarning: overflow encountered in multiply\n",
            "  \n",
            "/usr/local/lib/python3.6/dist-packages/ipykernel_launcher.py:85: RuntimeWarning: overflow encountered in multiply\n"
          ],
          "name": "stderr"
        },
        {
          "output_type": "stream",
          "text": [
            "Epoch 0 : 1741 / 17500\n",
            "K 1\n",
            "Epoch 0 : 1693 / 17500\n",
            "K 2\n",
            "Epoch 0 : 3998 / 17500\n",
            "K 3\n",
            "Epoch 0 : 17500 / 17500\n"
          ],
          "name": "stdout"
        }
      ]
    },
    {
      "cell_type": "code",
      "metadata": {
        "id": "t_QDn894jnr4",
        "colab_type": "code",
        "colab": {
          "base_uri": "https://localhost:8080/",
          "height": 225
        },
        "outputId": "b85d80a7-1753-4454-f11f-a4273f35def8"
      },
      "source": [
        "data = all_data()\n",
        "net = Network([784, 60, 10])\n",
        "acertos_dict = {}\n",
        "crossValidation = KFold(n_splits= 4)\n",
        "at = 0.1\n",
        "epoch = 1\n",
        "\n",
        "for i, index in enumerate(crossValidation.split(data)):\n",
        "  train_index = index[0]\n",
        "  test_index = index[1]\n",
        "  \n",
        "  k = \"K {}\".format(i)\n",
        "  \n",
        "  print(k)\n",
        "  training_data = data[train_index[0]:train_index[-1]+1]\n",
        "  testing_data = data[test_index[0]:test_index[-1]+1]\n",
        "  \n",
        "  result = net.SGD(training_data, epoch, 10, at,test_data=testing_data, tipo_fun='relu')\n",
        "  acertos_dict[k] = result"
      ],
      "execution_count": 31,
      "outputs": [
        {
          "output_type": "stream",
          "text": [
            "K 0\n"
          ],
          "name": "stdout"
        },
        {
          "output_type": "stream",
          "text": [
            "/usr/local/lib/python3.6/dist-packages/ipykernel_launcher.py:93: RuntimeWarning: overflow encountered in multiply\n",
            "/usr/local/lib/python3.6/dist-packages/ipykernel_launcher.py:14: RuntimeWarning: overflow encountered in multiply\n",
            "  \n",
            "/usr/local/lib/python3.6/dist-packages/ipykernel_launcher.py:93: RuntimeWarning: invalid value encountered in multiply\n"
          ],
          "name": "stderr"
        },
        {
          "output_type": "stream",
          "text": [
            "Epoch 0 : 1741 / 17500\n",
            "K 1\n",
            "Epoch 0 : 1693 / 17500\n",
            "K 2\n",
            "Epoch 0 : 3998 / 17500\n",
            "K 3\n",
            "Epoch 0 : 17500 / 17500\n"
          ],
          "name": "stdout"
        }
      ]
    },
    {
      "cell_type": "code",
      "metadata": {
        "id": "Qvnxxudujn4J",
        "colab_type": "code",
        "colab": {
          "base_uri": "https://localhost:8080/",
          "height": 225
        },
        "outputId": "8fbda259-1a15-4bba-d3af-648ac63e086d"
      },
      "source": [
        "data = all_data()\n",
        "net = Network([784, 60, 10])\n",
        "acertos_dict = {}\n",
        "crossValidation = KFold(n_splits= 4)\n",
        "at = 0.01\n",
        "epoch = 1\n",
        "\n",
        "for i, index in enumerate(crossValidation.split(data)):\n",
        "  train_index = index[0]\n",
        "  test_index = index[1]\n",
        "  \n",
        "  k = \"K {}\".format(i)\n",
        "  \n",
        "  print(k)\n",
        "  training_data = data[train_index[0]:train_index[-1]+1]\n",
        "  testing_data = data[test_index[0]:test_index[-1]+1]\n",
        "  \n",
        "  result = net.SGD(training_data, epoch, 10, at,test_data=testing_data, tipo_fun='relu')\n",
        "  acertos_dict[k] = result"
      ],
      "execution_count": 32,
      "outputs": [
        {
          "output_type": "stream",
          "text": [
            "K 0\n"
          ],
          "name": "stdout"
        },
        {
          "output_type": "stream",
          "text": [
            "/usr/local/lib/python3.6/dist-packages/ipykernel_launcher.py:93: RuntimeWarning: overflow encountered in multiply\n",
            "/usr/local/lib/python3.6/dist-packages/ipykernel_launcher.py:14: RuntimeWarning: overflow encountered in multiply\n",
            "  \n",
            "/usr/local/lib/python3.6/dist-packages/ipykernel_launcher.py:93: RuntimeWarning: invalid value encountered in multiply\n"
          ],
          "name": "stderr"
        },
        {
          "output_type": "stream",
          "text": [
            "Epoch 0 : 1741 / 17500\n",
            "K 1\n",
            "Epoch 0 : 1693 / 17500\n",
            "K 2\n",
            "Epoch 0 : 3998 / 17500\n",
            "K 3\n",
            "Epoch 0 : 17500 / 17500\n"
          ],
          "name": "stdout"
        }
      ]
    },
    {
      "cell_type": "markdown",
      "metadata": {
        "id": "VgQOFd3S_Bl1",
        "colab_type": "text"
      },
      "source": [
        "**PARTE 2**"
      ]
    },
    {
      "cell_type": "code",
      "metadata": {
        "id": "Wt5oZgyL_E9M",
        "colab_type": "code",
        "colab": {}
      },
      "source": [
        "# Classe Network\n",
        "class Network2(object):\n",
        "\n",
        "    def __init__(self, sizes, regularizacao='L1', lambda_value=0.00001, beta=0.7):\n",
        "        self.num_layers = len(sizes)\n",
        "        self.sizes = sizes\n",
        "        self.biases = [np.random.randn(y, 1) for y in sizes[1:]]\n",
        "        self.weights = [np.random.randn(y, x) for x, y in zip(sizes[:-1], sizes[1:])]\n",
        "        self.lambda_value = lambda_value\n",
        "        self.regularizacao = regularizacao\n",
        "        self.beta = beta\n",
        "\n",
        "    def feedforward(self, a, tipo_fun):\n",
        "        \"\"\"Retorna a saída da rede se `a` for entrada.\"\"\"\n",
        "        for b, w in zip(self.biases, self.weights):\n",
        "            a = funcao_ativacao(tipo_fun, False, np.dot(w, a)+b)\n",
        "        return a\n",
        "\n",
        "    def SGD(self, training_data, epochs, mini_batch_size, eta, test_data=None,\n",
        "            tipo_fun='sigmoid'):\n",
        "        \"\"\"Treinar a rede neural usando o algoritmo mini batch com gradiente descendente. \n",
        "         A entrada é uma lista de tuplas\n",
        "         `(x, y)` representando as entradas de treinamento e as\n",
        "         saídas. Os outros parâmetros não opcionais são\n",
        "         auto-explicativos. Se `test_data` for fornecido, então a\n",
        "         rede será avaliada em relação aos dados do teste após cada\n",
        "         época e progresso parcial impresso. Isso é útil para\n",
        "         acompanhar o progresso, mas retarda as coisas substancialmente.\"\"\"\n",
        "        \n",
        "        eta_inicial = eta\n",
        "        training_data = list(training_data)\n",
        "        n = len(training_data)\n",
        "\n",
        "        for j in range(epochs):\n",
        "            random.shuffle(training_data)\n",
        "            mini_batches = [training_data[k:k+mini_batch_size] for k in range(0, n, mini_batch_size)]\n",
        "            \n",
        "            for mini_batch in mini_batches:\n",
        "                self.update_mini_batch(mini_batch, eta, tipo_fun)\n",
        "                        \n",
        "            eta = atualiza_taxa_aprend(eta_inicial, j, epochs)\n",
        "        \n",
        "          \n",
        "        if test_data:\n",
        "            predic = self.evaluate(test_data, tipo_fun)\n",
        "            print(\"Total Input {} / Total predict {}\".format(len(test_data), predic))\n",
        "            return predic\n",
        "        else:\n",
        "            print(\"Epoch {} finalizada\".format(j))\n",
        "               \n",
        "    def update_mini_batch(self, mini_batch, eta, tipo_fun):\n",
        "        \"\"\"Atualiza os pesos e bias da rede aplicando\n",
        "         a descida do gradiente usando backpropagation para um único mini lote.\n",
        "         O `mini_batch` é uma lista de tuplas `(x, y)`, e `eta` é a taxa de aprendizado.\"\"\"\n",
        "\n",
        "        nabla_b = [np.zeros(b.shape) for b in self.biases]\n",
        "        nabla_w = [np.zeros(w.shape) for w in self.weights]\n",
        "        \n",
        "        for x, y in mini_batch:\n",
        "          delta_nabla_b, delta_nabla_w = self.backprop(x, y, tipo_fun)\n",
        "          nabla_b = [nb+dnb for nb, dnb in zip(nabla_b, delta_nabla_b)]\n",
        "          nabla_w = [nw+dnw for nw, dnw in zip(nabla_w, delta_nabla_w)]\n",
        "        \n",
        "        pos = 0\n",
        "#         momento = []\n",
        "        for w, nw in zip(self.weights, nabla_w):\n",
        "          constante = self.lambda_value\n",
        "\n",
        "          if self.regularizacao == 'L2':\n",
        "            constante *= w \n",
        "          \n",
        "#           if len(momento) == 0:\n",
        "#             v_t = self.beta\n",
        "#           else:\n",
        "#             v_t = self.beta*momento[pos-1] + self.weights[pos-1]\n",
        "          \n",
        "#           momento.append(v_t)\n",
        "#           peso = w-(eta/len(mini_batch))*nw\n",
        "#           self.weights[pos] = (peso + constante) - v_t\n",
        "          self.weights[pos] = w-(eta/len(mini_batch))*nw + constante\n",
        "          pos += 1\n",
        "\n",
        "        self.biases = [b-(eta/len(mini_batch))*nb for b, nb in zip(self.biases, nabla_b)]\n",
        "        \n",
        "\n",
        "    def backprop(self, x, y, tipo_fun):\n",
        "        \"\"\"Retorna uma tupla `(nabla_b, nabla_w)` representando o\n",
        "         gradiente para a função de custo C_x. `nabla_b` e\n",
        "         `nabla_w` são listas de camadas de matrizes numpy, semelhantes\n",
        "         a `self.biases` e `self.weights`.\"\"\"\n",
        "\n",
        "        nabla_b = [np.zeros(b.shape) for b in self.biases]\n",
        "        nabla_w = [np.zeros(w.shape) for w in self.weights]\n",
        "        \n",
        "        # Feedforward\n",
        "        activation = x\n",
        "\n",
        "        # Lista para armazenar todas as ativações, camada por camada\n",
        "        activations = [x] \n",
        "\n",
        "        # Lista para armazenar todos os vetores z, camada por camada\n",
        "        zs = [] \n",
        "\n",
        "        for b, w in zip(self.biases, self.weights):\n",
        "            z = np.dot(w, activation)+b\n",
        "            zs.append(z)\n",
        "            activation = funcao_ativacao(tipo_fun, False, z)\n",
        "            activations.append(activation)\n",
        "        \n",
        "        # Backward pass\n",
        "        delta = self.cost_derivative(activations[-1], y) * funcao_ativacao(tipo_fun, True, zs[-1])\n",
        "        nabla_b[-1] = delta\n",
        "        nabla_w[-1] = np.dot(delta, activations[-2].transpose())\n",
        "        \n",
        "        # Aqui, l = 1 significa a última camada de neurônios, l = 2 é a segunda e assim por diante. \n",
        "        for l in range(2, self.num_layers):\n",
        "            z = zs[-l]\n",
        "            sp = funcao_ativacao(tipo_fun, True, z)\n",
        "            delta = np.dot(self.weights[-l+1].transpose(), delta) * sp\n",
        "            nabla_b[-l] = delta\n",
        "            nabla_w[-l] = np.dot(delta, activations[-l-1].transpose())\n",
        "        return (nabla_b, nabla_w)\n",
        "\n",
        "    def evaluate(self, test_data, tipo_fun):\n",
        "        \"\"\"Retorna o número de entradas de teste para as quais a rede neural \n",
        "         produz o resultado correto. Note que a saída da rede neural\n",
        "         é considerada o índice de qualquer que seja\n",
        "         neurônio na camada final que tenha a maior ativação.\"\"\"\n",
        "\n",
        "        test_results = [(np.argmax(self.feedforward(x, tipo_fun)), np.argmax(y)) for (x, y) in test_data]\n",
        "        return sum(int(x == y) for (x, y) in test_results)\n",
        "\n",
        "    def cost_derivative(self, output_activations, y):\n",
        "        \"\"\"Retorna o vetor das derivadas parciais.\"\"\"\n",
        "        return (output_activations-y)"
      ],
      "execution_count": 0,
      "outputs": []
    },
    {
      "cell_type": "code",
      "metadata": {
        "id": "Oubh2kmNBCJO",
        "colab_type": "code",
        "colab": {
          "base_uri": "https://localhost:8080/",
          "height": 208
        },
        "outputId": "82a9a4b0-7eff-4598-fe14-273f0c528721"
      },
      "source": [
        "data = all_data()\n",
        "net = Network2([784, 30, 10])\n",
        "acertos_dict = {}\n",
        "crossValidation = KFold(n_splits= 4)\n",
        "at = 0.5\n",
        "epoch = 10\n",
        "\n",
        "for i, index in enumerate(crossValidation.split(data)):\n",
        "  train_index = index[0]\n",
        "  test_index = index[1]\n",
        "  \n",
        "  k = \"K {}\".format(i)\n",
        "  \n",
        "  print(k)\n",
        "  training_data = data[train_index[0]:train_index[-1]+1]\n",
        "  testing_data = data[test_index[0]:test_index[-1]+1]\n",
        "  \n",
        "  result = net.SGD(training_data, epoch, 10, at,test_data=testing_data, tipo_fun='relu')"
      ],
      "execution_count": 36,
      "outputs": [
        {
          "output_type": "stream",
          "text": [
            "K 0\n"
          ],
          "name": "stdout"
        },
        {
          "output_type": "stream",
          "text": [
            "/usr/local/lib/python3.6/dist-packages/ipykernel_launcher.py:14: RuntimeWarning: overflow encountered in multiply\n",
            "  \n",
            "/usr/local/lib/python3.6/dist-packages/ipykernel_launcher.py:118: RuntimeWarning: invalid value encountered in multiply\n"
          ],
          "name": "stderr"
        },
        {
          "output_type": "stream",
          "text": [
            "Total Input 17500 / Total predict 1741\n",
            "K 1\n",
            "Total Input 17500 / Total predict 1693\n",
            "K 2\n",
            "Total Input 17500 / Total predict 3998\n",
            "K 3\n",
            "Total Input 17500 / Total predict 17500\n"
          ],
          "name": "stdout"
        }
      ]
    },
    {
      "cell_type": "code",
      "metadata": {
        "id": "UWk8mjCcGW0s",
        "colab_type": "code",
        "colab": {
          "base_uri": "https://localhost:8080/",
          "height": 225
        },
        "outputId": "00a7448a-6fd9-4c07-be80-5283ab76fa55"
      },
      "source": [
        "data = all_data()\n",
        "net = Network2([784, 30, 10])\n",
        "acertos_dict = {}\n",
        "crossValidation = KFold(n_splits= 4)\n",
        "at = 0.1\n",
        "epoch = 10\n",
        "\n",
        "for i, index in enumerate(crossValidation.split(data)):\n",
        "  train_index = index[0]\n",
        "  test_index = index[1]\n",
        "  \n",
        "  k = \"K {}\".format(i)\n",
        "  \n",
        "  print(k)\n",
        "  training_data = data[train_index[0]:train_index[-1]+1]\n",
        "  testing_data = data[test_index[0]:test_index[-1]+1]\n",
        "  \n",
        "  result = net.SGD(training_data, epoch, 10, at,test_data=testing_data, tipo_fun='relu')"
      ],
      "execution_count": 39,
      "outputs": [
        {
          "output_type": "stream",
          "text": [
            "K 0\n"
          ],
          "name": "stdout"
        },
        {
          "output_type": "stream",
          "text": [
            "/usr/local/lib/python3.6/dist-packages/ipykernel_launcher.py:110: RuntimeWarning: overflow encountered in multiply\n",
            "/usr/local/lib/python3.6/dist-packages/ipykernel_launcher.py:118: RuntimeWarning: invalid value encountered in multiply\n",
            "/usr/local/lib/python3.6/dist-packages/ipykernel_launcher.py:14: RuntimeWarning: overflow encountered in multiply\n",
            "  \n"
          ],
          "name": "stderr"
        },
        {
          "output_type": "stream",
          "text": [
            "Total Input 17500 / Total predict 1699\n",
            "K 1\n",
            "Total Input 17500 / Total predict 1735\n",
            "K 2\n",
            "Total Input 17500 / Total predict 1534\n",
            "K 3\n",
            "Total Input 17500 / Total predict 0\n"
          ],
          "name": "stdout"
        }
      ]
    },
    {
      "cell_type": "code",
      "metadata": {
        "id": "CFKOu0-TGX_I",
        "colab_type": "code",
        "colab": {
          "base_uri": "https://localhost:8080/",
          "height": 225
        },
        "outputId": "02d71354-25ef-445a-fb1d-bb3e96135cfa"
      },
      "source": [
        "data = all_data()\n",
        "net = Network2([784, 30, 10],regularizacao='L2')\n",
        "acertos_dict = {}\n",
        "crossValidation = KFold(n_splits= 4)\n",
        "at = 0.01\n",
        "epoch = 10\n",
        "\n",
        "for i, index in enumerate(crossValidation.split(data)):\n",
        "  train_index = index[0]\n",
        "  test_index = index[1]\n",
        "  \n",
        "  k = \"K {}\".format(i)\n",
        "  \n",
        "  print(k)\n",
        "  training_data = data[train_index[0]:train_index[-1]+1]\n",
        "  testing_data = data[test_index[0]:test_index[-1]+1]\n",
        "  \n",
        "  result = net.SGD(training_data, epoch, 10, at,test_data=testing_data, tipo_fun='relu')"
      ],
      "execution_count": 38,
      "outputs": [
        {
          "output_type": "stream",
          "text": [
            "K 0\n"
          ],
          "name": "stdout"
        },
        {
          "output_type": "stream",
          "text": [
            "/usr/local/lib/python3.6/dist-packages/ipykernel_launcher.py:118: RuntimeWarning: overflow encountered in multiply\n",
            "/usr/local/lib/python3.6/dist-packages/ipykernel_launcher.py:14: RuntimeWarning: overflow encountered in multiply\n",
            "  \n",
            "/usr/local/lib/python3.6/dist-packages/ipykernel_launcher.py:118: RuntimeWarning: invalid value encountered in multiply\n"
          ],
          "name": "stderr"
        },
        {
          "output_type": "stream",
          "text": [
            "Total Input 17500 / Total predict 1741\n",
            "K 1\n",
            "Total Input 17500 / Total predict 1693\n",
            "K 2\n",
            "Total Input 17500 / Total predict 3998\n",
            "K 3\n",
            "Total Input 17500 / Total predict 17500\n"
          ],
          "name": "stdout"
        }
      ]
    }
  ]
}